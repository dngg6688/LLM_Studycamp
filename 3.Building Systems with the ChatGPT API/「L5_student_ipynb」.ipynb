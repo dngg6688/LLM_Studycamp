{
  "cells": [
    {
      "cell_type": "markdown",
      "metadata": {
        "id": "view-in-github",
        "colab_type": "text"
      },
      "source": [
        "<a href=\"https://colab.research.google.com/github/dngg6688/LLM_Studycamp/blob/main/3.Building%20Systems%20with%20the%20ChatGPT%20API/%E3%80%8CL5_student_ipynb%E3%80%8D.ipynb\" target=\"_parent\"><img src=\"https://colab.research.google.com/assets/colab-badge.svg\" alt=\"Open In Colab\"/></a>"
      ]
    },
    {
      "cell_type": "markdown",
      "id": "083e749e",
      "metadata": {
        "id": "083e749e"
      },
      "source": [
        "# L5 Process Inputs: Chaining Prompts\n"
      ]
    },
    {
      "cell_type": "markdown",
      "id": "cadfe57d",
      "metadata": {
        "id": "cadfe57d"
      },
      "source": [
        "## Setup\n",
        "#### Load the API key and relevant Python libaries.\n",
        "In this course, we've provided some code that loads the OpenAI API key for you."
      ]
    },
    {
      "cell_type": "code",
      "source": [
        "!pip install openai==0.28"
      ],
      "metadata": {
        "colab": {
          "base_uri": "https://localhost:8080/"
        },
        "id": "BlhEn-a3J9RV",
        "outputId": "d78c59ff-1133-4ace-ba2c-9d75639295cb"
      },
      "id": "BlhEn-a3J9RV",
      "execution_count": 1,
      "outputs": [
        {
          "output_type": "stream",
          "name": "stdout",
          "text": [
            "Collecting openai==0.28\n",
            "  Downloading openai-0.28.0-py3-none-any.whl (76 kB)\n",
            "\u001b[?25l     \u001b[90m━━━━━━━━━━━━━━━━━━━━━━━━━━━━━━━━━━━━━━━━\u001b[0m \u001b[32m0.0/76.5 kB\u001b[0m \u001b[31m?\u001b[0m eta \u001b[36m-:--:--\u001b[0m\r\u001b[2K     \u001b[90m━━━━━━━━━━━━━━━━━━━━━━━━━━━━━━━━━━━━━━━━\u001b[0m \u001b[32m76.5/76.5 kB\u001b[0m \u001b[31m2.1 MB/s\u001b[0m eta \u001b[36m0:00:00\u001b[0m\n",
            "\u001b[?25hRequirement already satisfied: requests>=2.20 in /usr/local/lib/python3.10/dist-packages (from openai==0.28) (2.31.0)\n",
            "Requirement already satisfied: tqdm in /usr/local/lib/python3.10/dist-packages (from openai==0.28) (4.66.1)\n",
            "Requirement already satisfied: aiohttp in /usr/local/lib/python3.10/dist-packages (from openai==0.28) (3.9.1)\n",
            "Requirement already satisfied: charset-normalizer<4,>=2 in /usr/local/lib/python3.10/dist-packages (from requests>=2.20->openai==0.28) (3.3.2)\n",
            "Requirement already satisfied: idna<4,>=2.5 in /usr/local/lib/python3.10/dist-packages (from requests>=2.20->openai==0.28) (3.6)\n",
            "Requirement already satisfied: urllib3<3,>=1.21.1 in /usr/local/lib/python3.10/dist-packages (from requests>=2.20->openai==0.28) (2.0.7)\n",
            "Requirement already satisfied: certifi>=2017.4.17 in /usr/local/lib/python3.10/dist-packages (from requests>=2.20->openai==0.28) (2023.11.17)\n",
            "Requirement already satisfied: attrs>=17.3.0 in /usr/local/lib/python3.10/dist-packages (from aiohttp->openai==0.28) (23.2.0)\n",
            "Requirement already satisfied: multidict<7.0,>=4.5 in /usr/local/lib/python3.10/dist-packages (from aiohttp->openai==0.28) (6.0.4)\n",
            "Requirement already satisfied: yarl<2.0,>=1.0 in /usr/local/lib/python3.10/dist-packages (from aiohttp->openai==0.28) (1.9.4)\n",
            "Requirement already satisfied: frozenlist>=1.1.1 in /usr/local/lib/python3.10/dist-packages (from aiohttp->openai==0.28) (1.4.1)\n",
            "Requirement already satisfied: aiosignal>=1.1.2 in /usr/local/lib/python3.10/dist-packages (from aiohttp->openai==0.28) (1.3.1)\n",
            "Requirement already satisfied: async-timeout<5.0,>=4.0 in /usr/local/lib/python3.10/dist-packages (from aiohttp->openai==0.28) (4.0.3)\n",
            "Installing collected packages: openai\n",
            "\u001b[31mERROR: pip's dependency resolver does not currently take into account all the packages that are installed. This behaviour is the source of the following dependency conflicts.\n",
            "llmx 0.0.15a0 requires cohere, which is not installed.\n",
            "llmx 0.0.15a0 requires tiktoken, which is not installed.\u001b[0m\u001b[31m\n",
            "\u001b[0mSuccessfully installed openai-0.28.0\n"
          ]
        }
      ]
    },
    {
      "cell_type": "code",
      "execution_count": 2,
      "id": "48d475ac",
      "metadata": {
        "id": "48d475ac"
      },
      "outputs": [],
      "source": [
        "import os\n",
        "import openai\n",
        "# from dotenv import load_dotenv, find_dotenv\n",
        "# _ = load_dotenv(find_dotenv()) # read local .env file\n",
        "from google.colab import userdata\n",
        "openai.api_key  = userdata.get('OPENAI_API_KEY')"
      ]
    },
    {
      "cell_type": "code",
      "execution_count": 3,
      "id": "981c80a4",
      "metadata": {
        "id": "981c80a4"
      },
      "outputs": [],
      "source": [
        "def get_completion_from_messages(messages,\n",
        "                                 model=\"gpt-3.5-turbo\",\n",
        "                                 temperature=0,\n",
        "                                 max_tokens=500):\n",
        "    response = openai.ChatCompletion.create(\n",
        "        model=model,\n",
        "        messages=messages,\n",
        "        temperature=temperature,\n",
        "        max_tokens=max_tokens,\n",
        "    )\n",
        "    return response.choices[0].message[\"content\"]"
      ]
    },
    {
      "cell_type": "markdown",
      "id": "161c3a14",
      "metadata": {
        "id": "161c3a14"
      },
      "source": [
        "## Implement a complex task with multiple prompts\n",
        "\n",
        "### Extract relevant product and category names"
      ]
    },
    {
      "cell_type": "code",
      "execution_count": 4,
      "id": "9b2aa358",
      "metadata": {
        "id": "9b2aa358",
        "outputId": "f6655ec8-7fed-460b-af8a-16ec5fc6897e",
        "colab": {
          "base_uri": "https://localhost:8080/"
        }
      },
      "outputs": [
        {
          "output_type": "stream",
          "name": "stdout",
          "text": [
            "[{'category': 'Smartphones and Accessories', 'products': ['SmartX ProPhone']}, {'category': 'Cameras and Camcorders', 'products': ['FotoSnap DSLR Camera']}, {'category': 'Televisions and Home Theater Systems'}]\n"
          ]
        }
      ],
      "source": [
        "delimiter = \"####\"\n",
        "system_message = f\"\"\"\n",
        "You will be provided with customer service queries. \\\n",
        "The customer service query will be delimited with \\\n",
        "{delimiter} characters.\n",
        "Output a python list of objects, where each object has \\\n",
        "the following format:\n",
        "    'category': <one of Computers and Laptops, \\\n",
        "    Smartphones and Accessories, \\\n",
        "    Televisions and Home Theater Systems, \\\n",
        "    Gaming Consoles and Accessories,\n",
        "    Audio Equipment, Cameras and Camcorders>,\n",
        "OR\n",
        "    'products': <a list of products that must \\\n",
        "    be found in the allowed products below>\n",
        "\n",
        "Where the categories and products must be found in \\\n",
        "the customer service query.\n",
        "If a product is mentioned, it must be associated with \\\n",
        "the correct category in the allowed products list below.\n",
        "If no products or categories are found, output an \\\n",
        "empty list.\n",
        "\n",
        "Allowed products:\n",
        "\n",
        "Computers and Laptops category:\n",
        "TechPro Ultrabook\n",
        "BlueWave Gaming Laptop\n",
        "PowerLite Convertible\n",
        "TechPro Desktop\n",
        "BlueWave Chromebook\n",
        "\n",
        "Smartphones and Accessories category:\n",
        "SmartX ProPhone\n",
        "MobiTech PowerCase\n",
        "SmartX MiniPhone\n",
        "MobiTech Wireless Charger\n",
        "SmartX EarBuds\n",
        "\n",
        "Televisions and Home Theater Systems category:\n",
        "CineView 4K TV\n",
        "SoundMax Home Theater\n",
        "CineView 8K TV\n",
        "SoundMax Soundbar\n",
        "CineView OLED TV\n",
        "\n",
        "Gaming Consoles and Accessories category:\n",
        "GameSphere X\n",
        "ProGamer Controller\n",
        "GameSphere Y\n",
        "ProGamer Racing Wheel\n",
        "GameSphere VR Headset\n",
        "\n",
        "Audio Equipment category:\n",
        "AudioPhonic Noise-Canceling Headphones\n",
        "WaveSound Bluetooth Speaker\n",
        "AudioPhonic True Wireless Earbuds\n",
        "WaveSound Soundbar\n",
        "AudioPhonic Turntable\n",
        "\n",
        "Cameras and Camcorders category:\n",
        "FotoSnap DSLR Camera\n",
        "ActionCam 4K\n",
        "FotoSnap Mirrorless Camera\n",
        "ZoomMaster Camcorder\n",
        "FotoSnap Instant Camera\n",
        "\n",
        "Only output the list of objects, with nothing else.\n",
        "\"\"\"\n",
        "user_message_1 = f\"\"\"\n",
        " tell me about the smartx pro phone and \\\n",
        " the fotosnap camera, the dslr one. \\\n",
        " Also tell me about your tvs \"\"\"\n",
        "messages =  [\n",
        "{'role':'system',\n",
        " 'content': system_message},\n",
        "{'role':'user',\n",
        " 'content': f\"{delimiter}{user_message_1}{delimiter}\"},\n",
        "]\n",
        "category_and_product_response_1 = get_completion_from_messages(messages)\n",
        "print(category_and_product_response_1)"
      ]
    },
    {
      "cell_type": "code",
      "execution_count": 5,
      "id": "ef92bc9e",
      "metadata": {
        "id": "ef92bc9e",
        "outputId": "cb2ea213-32d5-423a-8dae-1c33e953101d",
        "colab": {
          "base_uri": "https://localhost:8080/"
        }
      },
      "outputs": [
        {
          "output_type": "stream",
          "name": "stdout",
          "text": [
            "[]\n"
          ]
        }
      ],
      "source": [
        "user_message_2 = f\"\"\"\n",
        "my router isn't working\"\"\"\n",
        "messages =  [\n",
        "{'role':'system',\n",
        " 'content': system_message},\n",
        "{'role':'user',\n",
        " 'content': f\"{delimiter}{user_message_2}{delimiter}\"},\n",
        "]\n",
        "response = get_completion_from_messages(messages)\n",
        "print(response)"
      ]
    },
    {
      "cell_type": "markdown",
      "id": "5eda0385",
      "metadata": {
        "id": "5eda0385"
      },
      "source": [
        "### Retrieve detailed product information for extracted products and categories"
      ]
    },
    {
      "cell_type": "code",
      "execution_count": 6,
      "id": "76b103df",
      "metadata": {
        "id": "76b103df"
      },
      "outputs": [],
      "source": [
        "# product information\n",
        "products = {\n",
        "    \"TechPro Ultrabook\": {\n",
        "        \"name\": \"TechPro Ultrabook\",\n",
        "        \"category\": \"Computers and Laptops\",\n",
        "        \"brand\": \"TechPro\",\n",
        "        \"model_number\": \"TP-UB100\",\n",
        "        \"warranty\": \"1 year\",\n",
        "        \"rating\": 4.5,\n",
        "        \"features\": [\"13.3-inch display\", \"8GB RAM\", \"256GB SSD\", \"Intel Core i5 processor\"],\n",
        "        \"description\": \"A sleek and lightweight ultrabook for everyday use.\",\n",
        "        \"price\": 799.99\n",
        "    },\n",
        "    \"BlueWave Gaming Laptop\": {\n",
        "        \"name\": \"BlueWave Gaming Laptop\",\n",
        "        \"category\": \"Computers and Laptops\",\n",
        "        \"brand\": \"BlueWave\",\n",
        "        \"model_number\": \"BW-GL200\",\n",
        "        \"warranty\": \"2 years\",\n",
        "        \"rating\": 4.7,\n",
        "        \"features\": [\"15.6-inch display\", \"16GB RAM\", \"512GB SSD\", \"NVIDIA GeForce RTX 3060\"],\n",
        "        \"description\": \"A high-performance gaming laptop for an immersive experience.\",\n",
        "        \"price\": 1199.99\n",
        "    },\n",
        "    \"PowerLite Convertible\": {\n",
        "        \"name\": \"PowerLite Convertible\",\n",
        "        \"category\": \"Computers and Laptops\",\n",
        "        \"brand\": \"PowerLite\",\n",
        "        \"model_number\": \"PL-CV300\",\n",
        "        \"warranty\": \"1 year\",\n",
        "        \"rating\": 4.3,\n",
        "        \"features\": [\"14-inch touchscreen\", \"8GB RAM\", \"256GB SSD\", \"360-degree hinge\"],\n",
        "        \"description\": \"A versatile convertible laptop with a responsive touchscreen.\",\n",
        "        \"price\": 699.99\n",
        "    },\n",
        "    \"TechPro Desktop\": {\n",
        "        \"name\": \"TechPro Desktop\",\n",
        "        \"category\": \"Computers and Laptops\",\n",
        "        \"brand\": \"TechPro\",\n",
        "        \"model_number\": \"TP-DT500\",\n",
        "        \"warranty\": \"1 year\",\n",
        "        \"rating\": 4.4,\n",
        "        \"features\": [\"Intel Core i7 processor\", \"16GB RAM\", \"1TB HDD\", \"NVIDIA GeForce GTX 1660\"],\n",
        "        \"description\": \"A powerful desktop computer for work and play.\",\n",
        "        \"price\": 999.99\n",
        "    },\n",
        "    \"BlueWave Chromebook\": {\n",
        "        \"name\": \"BlueWave Chromebook\",\n",
        "        \"category\": \"Computers and Laptops\",\n",
        "        \"brand\": \"BlueWave\",\n",
        "        \"model_number\": \"BW-CB100\",\n",
        "        \"warranty\": \"1 year\",\n",
        "        \"rating\": 4.1,\n",
        "        \"features\": [\"11.6-inch display\", \"4GB RAM\", \"32GB eMMC\", \"Chrome OS\"],\n",
        "        \"description\": \"A compact and affordable Chromebook for everyday tasks.\",\n",
        "        \"price\": 249.99\n",
        "    },\n",
        "    \"SmartX ProPhone\": {\n",
        "        \"name\": \"SmartX ProPhone\",\n",
        "        \"category\": \"Smartphones and Accessories\",\n",
        "        \"brand\": \"SmartX\",\n",
        "        \"model_number\": \"SX-PP10\",\n",
        "        \"warranty\": \"1 year\",\n",
        "        \"rating\": 4.6,\n",
        "        \"features\": [\"6.1-inch display\", \"128GB storage\", \"12MP dual camera\", \"5G\"],\n",
        "        \"description\": \"A powerful smartphone with advanced camera features.\",\n",
        "        \"price\": 899.99\n",
        "    },\n",
        "    \"MobiTech PowerCase\": {\n",
        "        \"name\": \"MobiTech PowerCase\",\n",
        "        \"category\": \"Smartphones and Accessories\",\n",
        "        \"brand\": \"MobiTech\",\n",
        "        \"model_number\": \"MT-PC20\",\n",
        "        \"warranty\": \"1 year\",\n",
        "        \"rating\": 4.3,\n",
        "        \"features\": [\"5000mAh battery\", \"Wireless charging\", \"Compatible with SmartX ProPhone\"],\n",
        "        \"description\": \"A protective case with built-in battery for extended usage.\",\n",
        "        \"price\": 59.99\n",
        "    },\n",
        "    \"SmartX MiniPhone\": {\n",
        "        \"name\": \"SmartX MiniPhone\",\n",
        "        \"category\": \"Smartphones and Accessories\",\n",
        "        \"brand\": \"SmartX\",\n",
        "        \"model_number\": \"SX-MP5\",\n",
        "        \"warranty\": \"1 year\",\n",
        "        \"rating\": 4.2,\n",
        "        \"features\": [\"4.7-inch display\", \"64GB storage\", \"8MP camera\", \"4G\"],\n",
        "        \"description\": \"A compact and affordable smartphone for basic tasks.\",\n",
        "        \"price\": 399.99\n",
        "    },\n",
        "    \"MobiTech Wireless Charger\": {\n",
        "        \"name\": \"MobiTech Wireless Charger\",\n",
        "        \"category\": \"Smartphones and Accessories\",\n",
        "        \"brand\": \"MobiTech\",\n",
        "        \"model_number\": \"MT-WC10\",\n",
        "        \"warranty\": \"1 year\",\n",
        "        \"rating\": 4.5,\n",
        "        \"features\": [\"10W fast charging\", \"Qi-compatible\", \"LED indicator\", \"Compact design\"],\n",
        "        \"description\": \"A convenient wireless charger for a clutter-free workspace.\",\n",
        "        \"price\": 29.99\n",
        "    },\n",
        "    \"SmartX EarBuds\": {\n",
        "        \"name\": \"SmartX EarBuds\",\n",
        "        \"category\": \"Smartphones and Accessories\",\n",
        "        \"brand\": \"SmartX\",\n",
        "        \"model_number\": \"SX-EB20\",\n",
        "        \"warranty\": \"1 year\",\n",
        "        \"rating\": 4.4,\n",
        "        \"features\": [\"True wireless\", \"Bluetooth 5.0\", \"Touch controls\", \"24-hour battery life\"],\n",
        "        \"description\": \"Experience true wireless freedom with these comfortable earbuds.\",\n",
        "        \"price\": 99.99\n",
        "    },\n",
        "\n",
        "    \"CineView 4K TV\": {\n",
        "        \"name\": \"CineView 4K TV\",\n",
        "        \"category\": \"Televisions and Home Theater Systems\",\n",
        "        \"brand\": \"CineView\",\n",
        "        \"model_number\": \"CV-4K55\",\n",
        "        \"warranty\": \"2 years\",\n",
        "        \"rating\": 4.8,\n",
        "        \"features\": [\"55-inch display\", \"4K resolution\", \"HDR\", \"Smart TV\"],\n",
        "        \"description\": \"A stunning 4K TV with vibrant colors and smart features.\",\n",
        "        \"price\": 599.99\n",
        "    },\n",
        "    \"SoundMax Home Theater\": {\n",
        "        \"name\": \"SoundMax Home Theater\",\n",
        "        \"category\": \"Televisions and Home Theater Systems\",\n",
        "        \"brand\": \"SoundMax\",\n",
        "        \"model_number\": \"SM-HT100\",\n",
        "        \"warranty\": \"1 year\",\n",
        "        \"rating\": 4.4,\n",
        "        \"features\": [\"5.1 channel\", \"1000W output\", \"Wireless subwoofer\", \"Bluetooth\"],\n",
        "        \"description\": \"A powerful home theater system for an immersive audio experience.\",\n",
        "        \"price\": 399.99\n",
        "    },\n",
        "    \"CineView 8K TV\": {\n",
        "        \"name\": \"CineView 8K TV\",\n",
        "        \"category\": \"Televisions and Home Theater Systems\",\n",
        "        \"brand\": \"CineView\",\n",
        "        \"model_number\": \"CV-8K65\",\n",
        "        \"warranty\": \"2 years\",\n",
        "        \"rating\": 4.9,\n",
        "        \"features\": [\"65-inch display\", \"8K resolution\", \"HDR\", \"Smart TV\"],\n",
        "        \"description\": \"Experience the future of television with this stunning 8K TV.\",\n",
        "        \"price\": 2999.99\n",
        "    },\n",
        "    \"SoundMax Soundbar\": {\n",
        "        \"name\": \"SoundMax Soundbar\",\n",
        "        \"category\": \"Televisions and Home Theater Systems\",\n",
        "        \"brand\": \"SoundMax\",\n",
        "        \"model_number\": \"SM-SB50\",\n",
        "        \"warranty\": \"1 year\",\n",
        "        \"rating\": 4.3,\n",
        "        \"features\": [\"2.1 channel\", \"300W output\", \"Wireless subwoofer\", \"Bluetooth\"],\n",
        "        \"description\": \"Upgrade your TV's audio with this sleek and powerful soundbar.\",\n",
        "        \"price\": 199.99\n",
        "    },\n",
        "    \"CineView OLED TV\": {\n",
        "        \"name\": \"CineView OLED TV\",\n",
        "        \"category\": \"Televisions and Home Theater Systems\",\n",
        "        \"brand\": \"CineView\",\n",
        "        \"model_number\": \"CV-OLED55\",\n",
        "        \"warranty\": \"2 years\",\n",
        "        \"rating\": 4.7,\n",
        "        \"features\": [\"55-inch display\", \"4K resolution\", \"HDR\", \"Smart TV\"],\n",
        "        \"description\": \"Experience true blacks and vibrant colors with this OLED TV.\",\n",
        "        \"price\": 1499.99\n",
        "    },\n",
        "\n",
        "    \"GameSphere X\": {\n",
        "        \"name\": \"GameSphere X\",\n",
        "        \"category\": \"Gaming Consoles and Accessories\",\n",
        "        \"brand\": \"GameSphere\",\n",
        "        \"model_number\": \"GS-X\",\n",
        "        \"warranty\": \"1 year\",\n",
        "        \"rating\": 4.9,\n",
        "        \"features\": [\"4K gaming\", \"1TB storage\", \"Backward compatibility\", \"Online multiplayer\"],\n",
        "        \"description\": \"A next-generation gaming console for the ultimate gaming experience.\",\n",
        "        \"price\": 499.99\n",
        "    },\n",
        "    \"ProGamer Controller\": {\n",
        "        \"name\": \"ProGamer Controller\",\n",
        "        \"category\": \"Gaming Consoles and Accessories\",\n",
        "        \"brand\": \"ProGamer\",\n",
        "        \"model_number\": \"PG-C100\",\n",
        "        \"warranty\": \"1 year\",\n",
        "        \"rating\": 4.2,\n",
        "        \"features\": [\"Ergonomic design\", \"Customizable buttons\", \"Wireless\", \"Rechargeable battery\"],\n",
        "        \"description\": \"A high-quality gaming controller for precision and comfort.\",\n",
        "        \"price\": 59.99\n",
        "    },\n",
        "    \"GameSphere Y\": {\n",
        "        \"name\": \"GameSphere Y\",\n",
        "        \"category\": \"Gaming Consoles and Accessories\",\n",
        "        \"brand\": \"GameSphere\",\n",
        "        \"model_number\": \"GS-Y\",\n",
        "        \"warranty\": \"1 year\",\n",
        "        \"rating\": 4.8,\n",
        "        \"features\": [\"4K gaming\", \"500GB storage\", \"Backward compatibility\", \"Online multiplayer\"],\n",
        "        \"description\": \"A compact gaming console with powerful performance.\",\n",
        "        \"price\": 399.99\n",
        "    },\n",
        "    \"ProGamer Racing Wheel\": {\n",
        "        \"name\": \"ProGamer Racing Wheel\",\n",
        "        \"category\": \"Gaming Consoles and Accessories\",\n",
        "        \"brand\": \"ProGamer\",\n",
        "        \"model_number\": \"PG-RW200\",\n",
        "        \"warranty\": \"1 year\",\n",
        "        \"rating\": 4.5,\n",
        "        \"features\": [\"Force feedback\", \"Adjustable pedals\", \"Paddle shifters\", \"Compatible with GameSphere X\"],\n",
        "        \"description\": \"Enhance your racing games with this realistic racing wheel.\",\n",
        "        \"price\": 249.99\n",
        "    },\n",
        "    \"GameSphere VR Headset\": {\n",
        "        \"name\": \"GameSphere VR Headset\",\n",
        "        \"category\": \"Gaming Consoles and Accessories\",\n",
        "        \"brand\": \"GameSphere\",\n",
        "        \"model_number\": \"GS-VR\",\n",
        "        \"warranty\": \"1 year\",\n",
        "        \"rating\": 4.6,\n",
        "        \"features\": [\"Immersive VR experience\", \"Built-in headphones\", \"Adjustable headband\", \"Compatible with GameSphere X\"],\n",
        "        \"description\": \"Step into the world of virtual reality with this comfortable VR headset.\",\n",
        "        \"price\": 299.99\n",
        "    },\n",
        "\n",
        "    \"AudioPhonic Noise-Canceling Headphones\": {\n",
        "        \"name\": \"AudioPhonic Noise-Canceling Headphones\",\n",
        "        \"category\": \"Audio Equipment\",\n",
        "        \"brand\": \"AudioPhonic\",\n",
        "        \"model_number\": \"AP-NC100\",\n",
        "        \"warranty\": \"1 year\",\n",
        "        \"rating\": 4.6,\n",
        "        \"features\": [\"Active noise-canceling\", \"Bluetooth\", \"20-hour battery life\", \"Comfortable fit\"],\n",
        "        \"description\": \"Experience immersive sound with these noise-canceling headphones.\",\n",
        "        \"price\": 199.99\n",
        "    },\n",
        "    \"WaveSound Bluetooth Speaker\": {\n",
        "        \"name\": \"WaveSound Bluetooth Speaker\",\n",
        "        \"category\": \"Audio Equipment\",\n",
        "        \"brand\": \"WaveSound\",\n",
        "        \"model_number\": \"WS-BS50\",\n",
        "        \"warranty\": \"1 year\",\n",
        "        \"rating\": 4.5,\n",
        "        \"features\": [\"Portable\", \"10-hour battery life\", \"Water-resistant\", \"Built-in microphone\"],\n",
        "        \"description\": \"A compact and versatile Bluetooth speaker for music on the go.\",\n",
        "        \"price\": 49.99\n",
        "    },\n",
        "    \"AudioPhonic True Wireless Earbuds\": {\n",
        "        \"name\": \"AudioPhonic True Wireless Earbuds\",\n",
        "        \"category\": \"Audio Equipment\",\n",
        "        \"brand\": \"AudioPhonic\",\n",
        "        \"model_number\": \"AP-TW20\",\n",
        "        \"warranty\": \"1 year\",\n",
        "        \"rating\": 4.4,\n",
        "        \"features\": [\"True wireless\", \"Bluetooth 5.0\", \"Touch controls\", \"18-hour battery life\"],\n",
        "        \"description\": \"Enjoy music without wires with these comfortable true wireless earbuds.\",\n",
        "        \"price\": 79.99\n",
        "    },\n",
        "    \"WaveSound Soundbar\": {\n",
        "        \"name\": \"WaveSound Soundbar\",\n",
        "        \"category\": \"Audio Equipment\",\n",
        "        \"brand\": \"WaveSound\",\n",
        "        \"model_number\": \"WS-SB40\",\n",
        "        \"warranty\": \"1 year\",\n",
        "        \"rating\": 4.3,\n",
        "        \"features\": [\"2.0 channel\", \"80W output\", \"Bluetooth\", \"Wall-mountable\"],\n",
        "        \"description\": \"Upgrade your TV's audio with this slim and powerful soundbar.\",\n",
        "        \"price\": 99.99\n",
        "    },\n",
        "    \"AudioPhonic Turntable\": {\n",
        "        \"name\": \"AudioPhonic Turntable\",\n",
        "        \"category\": \"Audio Equipment\",\n",
        "        \"brand\": \"AudioPhonic\",\n",
        "        \"model_number\": \"AP-TT10\",\n",
        "        \"warranty\": \"1 year\",\n",
        "        \"rating\": 4.2,\n",
        "        \"features\": [\"3-speed\", \"Built-in speakers\", \"Bluetooth\", \"USB recording\"],\n",
        "        \"description\": \"Rediscover your vinyl collection with this modern turntable.\",\n",
        "        \"price\": 149.99\n",
        "    },\n",
        "\n",
        "    \"FotoSnap DSLR Camera\": {\n",
        "        \"name\": \"FotoSnap DSLR Camera\",\n",
        "        \"category\": \"Cameras and Camcorders\",\n",
        "        \"brand\": \"FotoSnap\",\n",
        "        \"model_number\": \"FS-DSLR200\",\n",
        "        \"warranty\": \"1 year\",\n",
        "        \"rating\": 4.7,\n",
        "        \"features\": [\"24.2MP sensor\", \"1080p video\", \"3-inch LCD\", \"Interchangeable lenses\"],\n",
        "        \"description\": \"Capture stunning photos and videos with this versatile DSLR camera.\",\n",
        "        \"price\": 599.99\n",
        "    },\n",
        "    \"ActionCam 4K\": {\n",
        "        \"name\": \"ActionCam 4K\",\n",
        "        \"category\": \"Cameras and Camcorders\",\n",
        "        \"brand\": \"ActionCam\",\n",
        "        \"model_number\": \"AC-4K\",\n",
        "        \"warranty\": \"1 year\",\n",
        "        \"rating\": 4.4,\n",
        "        \"features\": [\"4K video\", \"Waterproof\", \"Image stabilization\", \"Wi-Fi\"],\n",
        "        \"description\": \"Record your adventures with this rugged and compact 4K action camera.\",\n",
        "        \"price\": 299.99\n",
        "    },\n",
        "    \"FotoSnap Mirrorless Camera\": {\n",
        "        \"name\": \"FotoSnap Mirrorless Camera\",\n",
        "        \"category\": \"Cameras and Camcorders\",\n",
        "        \"brand\": \"FotoSnap\",\n",
        "        \"model_number\": \"FS-ML100\",\n",
        "        \"warranty\": \"1 year\",\n",
        "        \"rating\": 4.6,\n",
        "        \"features\": [\"20.1MP sensor\", \"4K video\", \"3-inch touchscreen\", \"Interchangeable lenses\"],\n",
        "        \"description\": \"A compact and lightweight mirrorless camera with advanced features.\",\n",
        "        \"price\": 799.99\n",
        "    },\n",
        "    \"ZoomMaster Camcorder\": {\n",
        "        \"name\": \"ZoomMaster Camcorder\",\n",
        "        \"category\": \"Cameras and Camcorders\",\n",
        "        \"brand\": \"ZoomMaster\",\n",
        "        \"model_number\": \"ZM-CM50\",\n",
        "        \"warranty\": \"1 year\",\n",
        "        \"rating\": 4.3,\n",
        "        \"features\": [\"1080p video\", \"30x optical zoom\", \"3-inch LCD\", \"Image stabilization\"],\n",
        "        \"description\": \"Capture life's moments with this easy-to-use camcorder.\",\n",
        "        \"price\": 249.99\n",
        "    },\n",
        "    \"FotoSnap Instant Camera\": {\n",
        "        \"name\": \"FotoSnap Instant Camera\",\n",
        "        \"category\": \"Cameras and Camcorders\",\n",
        "        \"brand\": \"FotoSnap\",\n",
        "        \"model_number\": \"FS-IC10\",\n",
        "        \"warranty\": \"1 year\",\n",
        "        \"rating\": 4.1,\n",
        "        \"features\": [\"Instant prints\", \"Built-in flash\", \"Selfie mirror\", \"Battery-powered\"],\n",
        "        \"description\": \"Create instant memories with this fun and portable instant camera.\",\n",
        "        \"price\": 69.99\n",
        "    }\n",
        "}"
      ]
    },
    {
      "cell_type": "code",
      "execution_count": 7,
      "id": "b722cd86",
      "metadata": {
        "id": "b722cd86"
      },
      "outputs": [],
      "source": [
        "def get_product_by_name(name):\n",
        "    return products.get(name, None)\n",
        "\n",
        "def get_products_by_category(category):\n",
        "    return [product for product in products.values() if product[\"category\"] == category]"
      ]
    },
    {
      "cell_type": "code",
      "execution_count": 8,
      "id": "2dfef6c6",
      "metadata": {
        "id": "2dfef6c6",
        "outputId": "7c504f95-b610-48de-efaa-a55d57c612fb",
        "colab": {
          "base_uri": "https://localhost:8080/"
        }
      },
      "outputs": [
        {
          "output_type": "stream",
          "name": "stdout",
          "text": [
            "{'name': 'TechPro Ultrabook', 'category': 'Computers and Laptops', 'brand': 'TechPro', 'model_number': 'TP-UB100', 'warranty': '1 year', 'rating': 4.5, 'features': ['13.3-inch display', '8GB RAM', '256GB SSD', 'Intel Core i5 processor'], 'description': 'A sleek and lightweight ultrabook for everyday use.', 'price': 799.99}\n"
          ]
        }
      ],
      "source": [
        "print(get_product_by_name(\"TechPro Ultrabook\"))"
      ]
    },
    {
      "cell_type": "code",
      "execution_count": 9,
      "id": "a5589f26",
      "metadata": {
        "id": "a5589f26",
        "outputId": "a17816d5-1a53-4303-83ad-4383fb010790",
        "colab": {
          "base_uri": "https://localhost:8080/"
        }
      },
      "outputs": [
        {
          "output_type": "stream",
          "name": "stdout",
          "text": [
            "[{'name': 'TechPro Ultrabook', 'category': 'Computers and Laptops', 'brand': 'TechPro', 'model_number': 'TP-UB100', 'warranty': '1 year', 'rating': 4.5, 'features': ['13.3-inch display', '8GB RAM', '256GB SSD', 'Intel Core i5 processor'], 'description': 'A sleek and lightweight ultrabook for everyday use.', 'price': 799.99}, {'name': 'BlueWave Gaming Laptop', 'category': 'Computers and Laptops', 'brand': 'BlueWave', 'model_number': 'BW-GL200', 'warranty': '2 years', 'rating': 4.7, 'features': ['15.6-inch display', '16GB RAM', '512GB SSD', 'NVIDIA GeForce RTX 3060'], 'description': 'A high-performance gaming laptop for an immersive experience.', 'price': 1199.99}, {'name': 'PowerLite Convertible', 'category': 'Computers and Laptops', 'brand': 'PowerLite', 'model_number': 'PL-CV300', 'warranty': '1 year', 'rating': 4.3, 'features': ['14-inch touchscreen', '8GB RAM', '256GB SSD', '360-degree hinge'], 'description': 'A versatile convertible laptop with a responsive touchscreen.', 'price': 699.99}, {'name': 'TechPro Desktop', 'category': 'Computers and Laptops', 'brand': 'TechPro', 'model_number': 'TP-DT500', 'warranty': '1 year', 'rating': 4.4, 'features': ['Intel Core i7 processor', '16GB RAM', '1TB HDD', 'NVIDIA GeForce GTX 1660'], 'description': 'A powerful desktop computer for work and play.', 'price': 999.99}, {'name': 'BlueWave Chromebook', 'category': 'Computers and Laptops', 'brand': 'BlueWave', 'model_number': 'BW-CB100', 'warranty': '1 year', 'rating': 4.1, 'features': ['11.6-inch display', '4GB RAM', '32GB eMMC', 'Chrome OS'], 'description': 'A compact and affordable Chromebook for everyday tasks.', 'price': 249.99}]\n"
          ]
        }
      ],
      "source": [
        "print(get_products_by_category(\"Computers and Laptops\"))"
      ]
    },
    {
      "cell_type": "code",
      "execution_count": 10,
      "id": "568daa17",
      "metadata": {
        "id": "568daa17",
        "outputId": "4e3e1d3a-e137-4ae9-d458-a27ae3343ed3",
        "colab": {
          "base_uri": "https://localhost:8080/"
        }
      },
      "outputs": [
        {
          "output_type": "stream",
          "name": "stdout",
          "text": [
            "\n",
            " tell me about the smartx pro phone and  the fotosnap camera, the dslr one.  Also tell me about your tvs \n"
          ]
        }
      ],
      "source": [
        "print(user_message_1)"
      ]
    },
    {
      "cell_type": "code",
      "execution_count": 11,
      "id": "ebe8f052",
      "metadata": {
        "id": "ebe8f052",
        "outputId": "0bd28893-5fdc-4bdf-c21d-8d1c51d6cd46",
        "colab": {
          "base_uri": "https://localhost:8080/"
        }
      },
      "outputs": [
        {
          "output_type": "stream",
          "name": "stdout",
          "text": [
            "[{'category': 'Smartphones and Accessories', 'products': ['SmartX ProPhone']}, {'category': 'Cameras and Camcorders', 'products': ['FotoSnap DSLR Camera']}, {'category': 'Televisions and Home Theater Systems'}]\n"
          ]
        }
      ],
      "source": [
        "print(category_and_product_response_1)"
      ]
    },
    {
      "cell_type": "markdown",
      "id": "be22f37b",
      "metadata": {
        "id": "be22f37b"
      },
      "source": [
        "### Read Python string into Python list of dictionaries"
      ]
    },
    {
      "cell_type": "code",
      "execution_count": 12,
      "id": "24503a0a",
      "metadata": {
        "id": "24503a0a"
      },
      "outputs": [],
      "source": [
        "import json\n",
        "\n",
        "def read_string_to_list(input_string):\n",
        "    if input_string is None:\n",
        "        return None\n",
        "\n",
        "    try:\n",
        "        input_string = input_string.replace(\"'\", \"\\\"\")  # Replace single quotes with double quotes for valid JSON\n",
        "        data = json.loads(input_string)\n",
        "        return data\n",
        "    except json.JSONDecodeError:\n",
        "        print(\"Error: Invalid JSON string\")\n",
        "        return None\n"
      ]
    },
    {
      "cell_type": "code",
      "execution_count": 13,
      "id": "d766d4ce",
      "metadata": {
        "id": "d766d4ce",
        "outputId": "7716eb9d-9456-4cbc-f3ff-4b84fb6672dd",
        "colab": {
          "base_uri": "https://localhost:8080/"
        }
      },
      "outputs": [
        {
          "output_type": "stream",
          "name": "stdout",
          "text": [
            "[{'category': 'Smartphones and Accessories', 'products': ['SmartX ProPhone']}, {'category': 'Cameras and Camcorders', 'products': ['FotoSnap DSLR Camera']}, {'category': 'Televisions and Home Theater Systems'}]\n"
          ]
        }
      ],
      "source": [
        "category_and_product_list = read_string_to_list(category_and_product_response_1)\n",
        "print(category_and_product_list)"
      ]
    },
    {
      "cell_type": "markdown",
      "id": "f5cf105f",
      "metadata": {
        "id": "f5cf105f"
      },
      "source": [
        "#### Retrieve detailed product information for the relevant products and categories"
      ]
    },
    {
      "cell_type": "code",
      "execution_count": 14,
      "id": "407a27ce",
      "metadata": {
        "id": "407a27ce"
      },
      "outputs": [],
      "source": [
        "def generate_output_string(data_list):\n",
        "    output_string = \"\"\n",
        "\n",
        "    if data_list is None:\n",
        "        return output_string\n",
        "\n",
        "    for data in data_list:\n",
        "        try:\n",
        "            if \"products\" in data:\n",
        "                products_list = data[\"products\"]\n",
        "                for product_name in products_list:\n",
        "                    product = get_product_by_name(product_name)\n",
        "                    if product:\n",
        "                        output_string += json.dumps(product, indent=4) + \"\\n\"\n",
        "                    else:\n",
        "                        print(f\"Error: Product '{product_name}' not found\")\n",
        "            elif \"category\" in data:\n",
        "                category_name = data[\"category\"]\n",
        "                category_products = get_products_by_category(category_name)\n",
        "                for product in category_products:\n",
        "                    output_string += json.dumps(product, indent=4) + \"\\n\"\n",
        "            else:\n",
        "                print(\"Error: Invalid object format\")\n",
        "        except Exception as e:\n",
        "            print(f\"Error: {e}\")\n",
        "\n",
        "    return output_string"
      ]
    },
    {
      "cell_type": "code",
      "execution_count": 15,
      "id": "51616efd",
      "metadata": {
        "id": "51616efd",
        "outputId": "f189989c-fda8-400d-afa8-531a340bcedf",
        "colab": {
          "base_uri": "https://localhost:8080/"
        }
      },
      "outputs": [
        {
          "output_type": "stream",
          "name": "stdout",
          "text": [
            "{\n",
            "    \"name\": \"SmartX ProPhone\",\n",
            "    \"category\": \"Smartphones and Accessories\",\n",
            "    \"brand\": \"SmartX\",\n",
            "    \"model_number\": \"SX-PP10\",\n",
            "    \"warranty\": \"1 year\",\n",
            "    \"rating\": 4.6,\n",
            "    \"features\": [\n",
            "        \"6.1-inch display\",\n",
            "        \"128GB storage\",\n",
            "        \"12MP dual camera\",\n",
            "        \"5G\"\n",
            "    ],\n",
            "    \"description\": \"A powerful smartphone with advanced camera features.\",\n",
            "    \"price\": 899.99\n",
            "}\n",
            "{\n",
            "    \"name\": \"FotoSnap DSLR Camera\",\n",
            "    \"category\": \"Cameras and Camcorders\",\n",
            "    \"brand\": \"FotoSnap\",\n",
            "    \"model_number\": \"FS-DSLR200\",\n",
            "    \"warranty\": \"1 year\",\n",
            "    \"rating\": 4.7,\n",
            "    \"features\": [\n",
            "        \"24.2MP sensor\",\n",
            "        \"1080p video\",\n",
            "        \"3-inch LCD\",\n",
            "        \"Interchangeable lenses\"\n",
            "    ],\n",
            "    \"description\": \"Capture stunning photos and videos with this versatile DSLR camera.\",\n",
            "    \"price\": 599.99\n",
            "}\n",
            "{\n",
            "    \"name\": \"CineView 4K TV\",\n",
            "    \"category\": \"Televisions and Home Theater Systems\",\n",
            "    \"brand\": \"CineView\",\n",
            "    \"model_number\": \"CV-4K55\",\n",
            "    \"warranty\": \"2 years\",\n",
            "    \"rating\": 4.8,\n",
            "    \"features\": [\n",
            "        \"55-inch display\",\n",
            "        \"4K resolution\",\n",
            "        \"HDR\",\n",
            "        \"Smart TV\"\n",
            "    ],\n",
            "    \"description\": \"A stunning 4K TV with vibrant colors and smart features.\",\n",
            "    \"price\": 599.99\n",
            "}\n",
            "{\n",
            "    \"name\": \"SoundMax Home Theater\",\n",
            "    \"category\": \"Televisions and Home Theater Systems\",\n",
            "    \"brand\": \"SoundMax\",\n",
            "    \"model_number\": \"SM-HT100\",\n",
            "    \"warranty\": \"1 year\",\n",
            "    \"rating\": 4.4,\n",
            "    \"features\": [\n",
            "        \"5.1 channel\",\n",
            "        \"1000W output\",\n",
            "        \"Wireless subwoofer\",\n",
            "        \"Bluetooth\"\n",
            "    ],\n",
            "    \"description\": \"A powerful home theater system for an immersive audio experience.\",\n",
            "    \"price\": 399.99\n",
            "}\n",
            "{\n",
            "    \"name\": \"CineView 8K TV\",\n",
            "    \"category\": \"Televisions and Home Theater Systems\",\n",
            "    \"brand\": \"CineView\",\n",
            "    \"model_number\": \"CV-8K65\",\n",
            "    \"warranty\": \"2 years\",\n",
            "    \"rating\": 4.9,\n",
            "    \"features\": [\n",
            "        \"65-inch display\",\n",
            "        \"8K resolution\",\n",
            "        \"HDR\",\n",
            "        \"Smart TV\"\n",
            "    ],\n",
            "    \"description\": \"Experience the future of television with this stunning 8K TV.\",\n",
            "    \"price\": 2999.99\n",
            "}\n",
            "{\n",
            "    \"name\": \"SoundMax Soundbar\",\n",
            "    \"category\": \"Televisions and Home Theater Systems\",\n",
            "    \"brand\": \"SoundMax\",\n",
            "    \"model_number\": \"SM-SB50\",\n",
            "    \"warranty\": \"1 year\",\n",
            "    \"rating\": 4.3,\n",
            "    \"features\": [\n",
            "        \"2.1 channel\",\n",
            "        \"300W output\",\n",
            "        \"Wireless subwoofer\",\n",
            "        \"Bluetooth\"\n",
            "    ],\n",
            "    \"description\": \"Upgrade your TV's audio with this sleek and powerful soundbar.\",\n",
            "    \"price\": 199.99\n",
            "}\n",
            "{\n",
            "    \"name\": \"CineView OLED TV\",\n",
            "    \"category\": \"Televisions and Home Theater Systems\",\n",
            "    \"brand\": \"CineView\",\n",
            "    \"model_number\": \"CV-OLED55\",\n",
            "    \"warranty\": \"2 years\",\n",
            "    \"rating\": 4.7,\n",
            "    \"features\": [\n",
            "        \"55-inch display\",\n",
            "        \"4K resolution\",\n",
            "        \"HDR\",\n",
            "        \"Smart TV\"\n",
            "    ],\n",
            "    \"description\": \"Experience true blacks and vibrant colors with this OLED TV.\",\n",
            "    \"price\": 1499.99\n",
            "}\n",
            "\n"
          ]
        }
      ],
      "source": [
        "product_information_for_user_message_1 = generate_output_string(category_and_product_list)\n",
        "print(product_information_for_user_message_1)"
      ]
    },
    {
      "cell_type": "markdown",
      "id": "86cc24ce",
      "metadata": {
        "id": "86cc24ce"
      },
      "source": [
        "### Generate answer to user query based on detailed product information"
      ]
    },
    {
      "cell_type": "code",
      "execution_count": 16,
      "id": "588747e3",
      "metadata": {
        "id": "588747e3",
        "outputId": "0d643e52-3d8a-4510-d863-08d01bfb57de",
        "colab": {
          "base_uri": "https://localhost:8080/"
        }
      },
      "outputs": [
        {
          "output_type": "stream",
          "name": "stdout",
          "text": [
            "The SmartX ProPhone is a powerful smartphone with a 6.1-inch display, 128GB storage, a 12MP dual camera, and 5G capability. It is priced at $899.99 and comes with a 1-year warranty. \n",
            "\n",
            "The FotoSnap DSLR Camera is a versatile camera with a 24.2MP sensor, 1080p video recording, a 3-inch LCD screen, and interchangeable lenses. It is priced at $599.99 and also comes with a 1-year warranty.\n",
            "\n",
            "As for our TVs, we have a range of options. The CineView 4K TV is a 55-inch TV with 4K resolution, HDR, and smart TV features. It is priced at $599.99 and comes with a 2-year warranty.\n",
            "\n",
            "We also have the CineView 8K TV, which is a 65-inch TV with 8K resolution, HDR, and smart TV features. It is priced at $2999.99 and also comes with a 2-year warranty.\n",
            "\n",
            "Lastly, we have the CineView OLED TV, which is a 55-inch TV with 4K resolution, HDR, and smart TV features. It is priced at $1499.99 and comes with a 2-year warranty.\n",
            "\n",
            "Is there anything specific you would like to know about these products?\n"
          ]
        }
      ],
      "source": [
        "system_message = f\"\"\"\n",
        "You are a customer service assistant for a \\\n",
        "large electronic store. \\\n",
        "Respond in a friendly and helpful tone, \\\n",
        "with very concise answers. \\\n",
        "Make sure to ask the user relevant follow up questions.\n",
        "\"\"\"\n",
        "user_message_1 = f\"\"\"\n",
        "tell me about the smartx pro phone and \\\n",
        "the fotosnap camera, the dslr one. \\\n",
        "Also tell me about your tvs\"\"\"\n",
        "messages =  [\n",
        "{'role':'system',\n",
        " 'content': system_message},\n",
        "{'role':'user',\n",
        " 'content': user_message_1},\n",
        "{'role':'assistant',\n",
        " 'content': f\"\"\"Relevant product information:\\n\\\n",
        " {product_information_for_user_message_1}\"\"\"},\n",
        "]\n",
        "final_response = get_completion_from_messages(messages)\n",
        "print(final_response)"
      ]
    },
    {
      "cell_type": "code",
      "execution_count": null,
      "id": "a3517bba",
      "metadata": {
        "id": "a3517bba"
      },
      "outputs": [],
      "source": []
    }
  ],
  "metadata": {
    "kernelspec": {
      "display_name": "Python 3 (ipykernel)",
      "language": "python",
      "name": "python3"
    },
    "language_info": {
      "codemirror_mode": {
        "name": "ipython",
        "version": 3
      },
      "file_extension": ".py",
      "mimetype": "text/x-python",
      "name": "python",
      "nbconvert_exporter": "python",
      "pygments_lexer": "ipython3",
      "version": "3.11.3"
    },
    "colab": {
      "provenance": [],
      "include_colab_link": true
    }
  },
  "nbformat": 4,
  "nbformat_minor": 5
}