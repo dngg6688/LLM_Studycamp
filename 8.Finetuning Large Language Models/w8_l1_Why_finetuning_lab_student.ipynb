{
  "cells": [
    {
      "cell_type": "markdown",
      "metadata": {
        "id": "view-in-github",
        "colab_type": "text"
      },
      "source": [
        "<a href=\"https://colab.research.google.com/github/dngg6688/LLM_Studycamp/blob/main/8.Finetuning%20Large%20Language%20Models/w8_l1_Why_finetuning_lab_student.ipynb\" target=\"_parent\"><img src=\"https://colab.research.google.com/assets/colab-badge.svg\" alt=\"Open In Colab\"/></a>"
      ]
    },
    {
      "cell_type": "markdown",
      "metadata": {
        "id": "WMGxBP-yQoCl"
      },
      "source": [
        "# Compare finetuned vs. non-finetuned models"
      ]
    },
    {
      "cell_type": "code",
      "source": [
        "!pip install lamini"
      ],
      "metadata": {
        "colab": {
          "base_uri": "https://localhost:8080/"
        },
        "id": "YfDyTCQ6hWqS",
        "outputId": "00333d55-2145-4582-a416-c7186623e265"
      },
      "execution_count": 1,
      "outputs": [
        {
          "output_type": "stream",
          "name": "stdout",
          "text": [
            "Collecting lamini\n",
            "  Downloading lamini-2.0.13-108-py3-none-any.whl (32 kB)\n",
            "Collecting lamini-configuration[yaml] (from lamini)\n",
            "  Downloading lamini_configuration-0.8.3-py3-none-any.whl (22 kB)\n",
            "Requirement already satisfied: requests in /usr/local/lib/python3.10/dist-packages (from lamini) (2.31.0)\n",
            "Requirement already satisfied: tqdm in /usr/local/lib/python3.10/dist-packages (from lamini) (4.66.2)\n",
            "Requirement already satisfied: numpy in /usr/local/lib/python3.10/dist-packages (from lamini) (1.25.2)\n",
            "Collecting jsonlines (from lamini)\n",
            "  Downloading jsonlines-4.0.0-py3-none-any.whl (8.7 kB)\n",
            "Requirement already satisfied: pandas in /usr/local/lib/python3.10/dist-packages (from lamini) (1.5.3)\n",
            "Collecting azure-storage-blob (from lamini)\n",
            "  Downloading azure_storage_blob-12.19.0-py3-none-any.whl (394 kB)\n",
            "\u001b[2K     \u001b[90m━━━━━━━━━━━━━━━━━━━━━━━━━━━━━━━━━━━━━━━━\u001b[0m \u001b[32m394.2/394.2 kB\u001b[0m \u001b[31m7.6 MB/s\u001b[0m eta \u001b[36m0:00:00\u001b[0m\n",
            "\u001b[?25hRequirement already satisfied: scikit-learn in /usr/local/lib/python3.10/dist-packages (from lamini) (1.2.2)\n",
            "Requirement already satisfied: aiohttp in /usr/local/lib/python3.10/dist-packages (from lamini) (3.9.3)\n",
            "Requirement already satisfied: aiosignal>=1.1.2 in /usr/local/lib/python3.10/dist-packages (from aiohttp->lamini) (1.3.1)\n",
            "Requirement already satisfied: attrs>=17.3.0 in /usr/local/lib/python3.10/dist-packages (from aiohttp->lamini) (23.2.0)\n",
            "Requirement already satisfied: frozenlist>=1.1.1 in /usr/local/lib/python3.10/dist-packages (from aiohttp->lamini) (1.4.1)\n",
            "Requirement already satisfied: multidict<7.0,>=4.5 in /usr/local/lib/python3.10/dist-packages (from aiohttp->lamini) (6.0.5)\n",
            "Requirement already satisfied: yarl<2.0,>=1.0 in /usr/local/lib/python3.10/dist-packages (from aiohttp->lamini) (1.9.4)\n",
            "Requirement already satisfied: async-timeout<5.0,>=4.0 in /usr/local/lib/python3.10/dist-packages (from aiohttp->lamini) (4.0.3)\n",
            "Collecting azure-core<2.0.0,>=1.28.0 (from azure-storage-blob->lamini)\n",
            "  Downloading azure_core-1.30.0-py3-none-any.whl (193 kB)\n",
            "\u001b[2K     \u001b[90m━━━━━━━━━━━━━━━━━━━━━━━━━━━━━━━━━━━━━━━━\u001b[0m \u001b[32m193.4/193.4 kB\u001b[0m \u001b[31m9.1 MB/s\u001b[0m eta \u001b[36m0:00:00\u001b[0m\n",
            "\u001b[?25hRequirement already satisfied: cryptography>=2.1.4 in /usr/local/lib/python3.10/dist-packages (from azure-storage-blob->lamini) (42.0.2)\n",
            "Requirement already satisfied: typing-extensions>=4.3.0 in /usr/local/lib/python3.10/dist-packages (from azure-storage-blob->lamini) (4.9.0)\n",
            "Collecting isodate>=0.6.1 (from azure-storage-blob->lamini)\n",
            "  Downloading isodate-0.6.1-py2.py3-none-any.whl (41 kB)\n",
            "\u001b[2K     \u001b[90m━━━━━━━━━━━━━━━━━━━━━━━━━━━━━━━━━━━━━━━━\u001b[0m \u001b[32m41.7/41.7 kB\u001b[0m \u001b[31m5.9 MB/s\u001b[0m eta \u001b[36m0:00:00\u001b[0m\n",
            "\u001b[?25hRequirement already satisfied: pyyaml<7.0,>=6.0 in /usr/local/lib/python3.10/dist-packages (from lamini-configuration[yaml]->lamini) (6.0.1)\n",
            "Requirement already satisfied: python-dateutil>=2.8.1 in /usr/local/lib/python3.10/dist-packages (from pandas->lamini) (2.8.2)\n",
            "Requirement already satisfied: pytz>=2020.1 in /usr/local/lib/python3.10/dist-packages (from pandas->lamini) (2023.4)\n",
            "Requirement already satisfied: charset-normalizer<4,>=2 in /usr/local/lib/python3.10/dist-packages (from requests->lamini) (3.3.2)\n",
            "Requirement already satisfied: idna<4,>=2.5 in /usr/local/lib/python3.10/dist-packages (from requests->lamini) (3.6)\n",
            "Requirement already satisfied: urllib3<3,>=1.21.1 in /usr/local/lib/python3.10/dist-packages (from requests->lamini) (2.0.7)\n",
            "Requirement already satisfied: certifi>=2017.4.17 in /usr/local/lib/python3.10/dist-packages (from requests->lamini) (2024.2.2)\n",
            "Requirement already satisfied: scipy>=1.3.2 in /usr/local/lib/python3.10/dist-packages (from scikit-learn->lamini) (1.11.4)\n",
            "Requirement already satisfied: joblib>=1.1.1 in /usr/local/lib/python3.10/dist-packages (from scikit-learn->lamini) (1.3.2)\n",
            "Requirement already satisfied: threadpoolctl>=2.0.0 in /usr/local/lib/python3.10/dist-packages (from scikit-learn->lamini) (3.2.0)\n",
            "Requirement already satisfied: six>=1.11.0 in /usr/local/lib/python3.10/dist-packages (from azure-core<2.0.0,>=1.28.0->azure-storage-blob->lamini) (1.16.0)\n",
            "Requirement already satisfied: cffi>=1.12 in /usr/local/lib/python3.10/dist-packages (from cryptography>=2.1.4->azure-storage-blob->lamini) (1.16.0)\n",
            "Requirement already satisfied: pycparser in /usr/local/lib/python3.10/dist-packages (from cffi>=1.12->cryptography>=2.1.4->azure-storage-blob->lamini) (2.21)\n",
            "Installing collected packages: lamini-configuration, jsonlines, isodate, azure-core, azure-storage-blob, lamini\n",
            "Successfully installed azure-core-1.30.0 azure-storage-blob-12.19.0 isodate-0.6.1 jsonlines-4.0.0 lamini-2.0.13 lamini-configuration-0.8.3\n"
          ]
        }
      ]
    },
    {
      "cell_type": "code",
      "source": [
        "from google.colab import userdata\n",
        "import lamini\n",
        "lamini.api_key = userdata.get('Lamini_API_KEY')\n",
        "\n",
        "# llm = lamini.Lamini(\"meta-llama/Llama-2-7b-chat-hf\")\n",
        "# print(llm.generate(\"How are you?\"))"
      ],
      "metadata": {
        "id": "iDpMLai_k2W1"
      },
      "execution_count": 2,
      "outputs": []
    },
    {
      "cell_type": "code",
      "execution_count": 3,
      "metadata": {
        "cellView": "form",
        "height": 30,
        "id": "PKnPPEyPR3MO"
      },
      "outputs": [],
      "source": [
        "from llama import BasicModelRunner"
      ]
    },
    {
      "cell_type": "markdown",
      "metadata": {
        "id": "SZobPpRXhNru"
      },
      "source": [
        "### Try Non-Finetuned models"
      ]
    },
    {
      "cell_type": "code",
      "execution_count": 4,
      "metadata": {
        "height": 45,
        "id": "tofsUWv5hNru"
      },
      "outputs": [],
      "source": [
        "non_finetuned = BasicModelRunner(\"meta-llama/Llama-2-7b-hf\")"
      ]
    },
    {
      "cell_type": "code",
      "execution_count": 5,
      "metadata": {
        "height": 45,
        "id": "BamT_4XHhNrv"
      },
      "outputs": [],
      "source": [
        "non_finetuned_output = non_finetuned(\"Tell me how to train my dog to sit\")"
      ]
    },
    {
      "cell_type": "code",
      "execution_count": 6,
      "metadata": {
        "height": 30,
        "colab": {
          "base_uri": "https://localhost:8080/"
        },
        "id": "C4XopCpHhNrw",
        "outputId": "eda10f0e-7ae7-4017-b450-bfda7dee0ffa"
      },
      "outputs": [
        {
          "output_type": "stream",
          "name": "stdout",
          "text": [
            ".\n",
            "Tell me how to train my dog to sit. I have a 10 month old puppy and I want to train him to sit. I have tried the treat method and the verbal command method. I have tried both and he just doesn't seem to get it. I have tried to get him to sit by putting my hand on his back and pushing him down. I have tried to get him to sit by putting my hand on his back and pushing him down. I have tried to get him to sit by putting my hand on his back and pushing him down. I have tried to get him to sit by putting my hand on his back and pushing him down. I have tried to get him to sit by putting my hand on his back and pushing him down. I have tried to get him to sit by putting my hand on his back and pushing him down. I have tried to get him to sit by putting my hand on his back and pushing him down. I have tried to get him to sit by putting my hand on his back and pushing him down. I have tried to get him to sit by putting my hand on his back and pushing him down. I have tried to get him to sit by putting my hand on his back and pushing him down. I have tried to get him to sit by putting my hand on his back and pushing him down. I have tried to get him to sit by putting my hand on his back and pushing him down. I have tried to get him to sit by putting my hand on his back and pushing him down. I have tried to get him to sit by putting my hand on his back and pushing him down. I have tried to get him to sit by putting my hand on his back and pushing him down. I have tried to get him to sit by putting my hand on his back and pushing him down. I have tried to get him to sit by putting my hand on his back and pushing him down. I have tried to get him to sit by putting my hand on his back and pushing him down. I have tried to get him to sit by putting my hand on his back and pushing him down. I have tried to get him to sit by putting my hand on his back and pushing him down. I have tried to get him to sit by putting my hand on his back and pushing him down. I have tried to get him to sit by putting my hand on his back and pushing him down. I have tried to get him to sit by putting my hand on his back and pushing him down. I have tried to get him to sit by putting my hand on his back and pushing him down. I have tried to get him to sit by putting my hand on his back and pushing him down. I have tried to get him to sit by putting my hand on his back and pushing him down. I have tried to get him to sit by putting my hand on his back and pushing him down. I have tried to get him to sit by putting my hand on his back and pushing him down. I have tried to get him to sit by putting my hand on his back and pushing him down. I have tried to get him to sit by putting my hand on his back and pushing him down. I have tried to get him to sit by putting my hand on his back and pushing him down. I have tried to get him to sit by putting my hand on his back and pushing him down. I have tried to get him to sit by putting my hand on his back and pushing him down. I have tried to get him to sit by putting my hand on his back and pushing him down. I have tried to get him to sit by putting my hand on his back and pushing him down. I have tried to get him to sit by putting my hand on his back and pushing him down. I have tried to get him to sit by putting my hand on his back and pushing him down. I have tried to get him to sit by putting my hand on his back and pushing him down. I have tried to get him to sit by putting my hand on his back and pushing him down. I have tried to get him to sit by putting my hand on his back and pushing him down. I have tried to get him to sit by putting my hand on his back and pushing him down. I have tried to get him to sit by putting my hand on his back and pushing him down. I have tried to get him to sit by putting my hand on his back and pushing him down. I have tried to get him to sit by putting my hand on his back and pushing him down. I have tried to get him to sit by putting my hand on his back and pushing him down. I have tried to get him to sit by putting my hand on his back and pushing him down. I have tried to get him to sit by putting my hand on his back and pushing him down. I have tried to get him to sit by putting my hand on his back and pushing him down. I have tried to get him to sit by putting my hand on his back and pushing him down. I have tried to get him to sit by putting my hand on his back and pushing him down. I have tried to get him to sit by putting my hand on his back and pushing him down. I have tried to get him to sit by putting my hand on his back and pushing him down. I have tried to get him to sit by putting my hand on his back and pushing him down. I have tried to get him to sit by putting my hand on his back and pushing him down. I have tried to get him to sit by putting my hand on his back and pushing him down. I have tried to get him to sit by putting my hand on his back and pushing him down. I have tried to get him to sit by putting my hand on his back and pushing him down. I have tried to get him to sit by putting my hand on his back and pushing him down. I have tried to get him to sit by putting my hand on his back and pushing him down. I have tried to get him to sit by putting my hand on his back and pushing him down. I have tried to get him to sit by putting my hand on his back and pushing him down. I have tried to get him to sit by putting my hand on his back and pushing him down. I have tried to get him to sit by putting my hand on his back and pushing him down. I have tried to get him to sit by putting my hand on his back and pushing him down. I have tried to get him to sit by putting my hand on his back and pushing him down. I have tried to get him to sit by putting my hand on his back and pushing him down. I have tried to get him to sit by putting my hand on his back and pushing him down. I have tried to get him to sit by putting my hand on his back and pushing him down. I have tried to get him to sit by putting my hand on his back and pushing him down. I have tried to get him to sit by putting my hand on his back and pushing him down. I have tried to get him to sit by putting my hand on his back and pushing him down. I have tried to get him to sit by putting my hand on his back and pushing him down. I have tried to get him to sit by putting my hand on his back and pushing him down. I have tried to get him to sit by putting my hand on his back and pushing him down. I have tried to get him to sit by putting my hand on his back and pushing him down. I have tried to get him to sit by putting my hand on his back and pushing him down. I have tried to get him to sit by putting my hand on his back and pushing him down. I have tried to get him to sit by putting my hand on his back and pushing him down. I have tried to get him to sit by putting my hand on his back and pushing him down. I have tried to get him to sit by putting my hand on his back and\n"
          ]
        }
      ],
      "source": [
        "print(non_finetuned_output)"
      ]
    },
    {
      "cell_type": "code",
      "execution_count": 7,
      "metadata": {
        "height": 45,
        "colab": {
          "base_uri": "https://localhost:8080/"
        },
        "id": "elaSg-_XhNrw",
        "outputId": "d285b5fa-5036-46d2-da5a-0bf578171155"
      },
      "outputs": [
        {
          "output_type": "stream",
          "name": "stdout",
          "text": [
            "\n",
            "I think it's a great place to visit.\n",
            "I think it's a great place to live.\n",
            "I think it's a great place to die.\n",
            "I think it's a great place to be born.\n",
            "I think it's a great place to be.\n",
            "I think it's a great place to be from.\n",
            "I think it's a great place to be from.\n",
            "I think it's a great place to be from.\n",
            "I think it's a great place to be from.\n",
            "I think it's a great place to be from.\n",
            "I think it's a great place to be from.\n",
            "I think it's a great place to be from.\n",
            "I think it's a great place to be from.\n",
            "I think it's a great place to be from.\n",
            "I think it's a great place to be from.\n",
            "I think it's a great place to be from.\n",
            "I think it's a great place to be from.\n",
            "I think it's a great place to be from.\n",
            "I think it's a great place to be from.\n",
            "I think it's a great place to be from.\n",
            "I think it's a great place to be from.\n",
            "I think it's a great place to be from.\n",
            "I think it's a great place to be from.\n",
            "I think it's a great place to be from.\n",
            "I think it's a great place to be from.\n",
            "I think it's a great place to be from.\n",
            "I think it's a great place to be from.\n",
            "I think it's a great place to be from.\n",
            "I think it's a great place to be from.\n",
            "I think it's a great place to be from.\n",
            "I think it's a great place to be from.\n",
            "I think it's a great place to be from.\n",
            "I think it's a great place to be from.\n",
            "I think it's a great place to be from.\n",
            "I think it's a great place to be from.\n",
            "I think it's a great place to be from.\n",
            "I think it's a great place to be from.\n",
            "I think it's a great place to be from.\n",
            "I think it's a great place to be from.\n",
            "I think it's a great place to be from.\n",
            "I think it's a great place to be from.\n",
            "I think it's a great place to be from.\n",
            "I think it's a great place to be from.\n",
            "I think it's a great place to be from.\n",
            "I think it's a great place to be from.\n",
            "I think it's a great place to be from.\n",
            "I think it's a great place to be from.\n",
            "I think it's a great place to be from.\n",
            "I think it's a great place to be from.\n",
            "I think it's a great place to be from.\n",
            "I think it's a great place to be from.\n",
            "I think it's a great place to be from.\n",
            "I think it's a great place to be from.\n",
            "I think it's a great place to be from.\n",
            "I think it's a great place to be from.\n",
            "I think it's a great place to be from.\n",
            "I think it's a great place to be from.\n",
            "I think it's a great place to be from.\n",
            "I think it's a great place to be from.\n",
            "I think it's a great place to be from.\n",
            "I think it's a great place to be from.\n",
            "I think it's a great place to be from.\n",
            "I think it's a great place to be from.\n",
            "I think it's a great place to be from.\n",
            "I think it's a great place to be from.\n",
            "I think it's a great place to be from.\n",
            "I think it's a great place to be from.\n",
            "I think it's a great place to be from.\n",
            "I think it's a great place to be from.\n",
            "I think it's a great place to be from.\n",
            "I think it's a great place to be from.\n",
            "I think it's a great place to be from.\n",
            "I think it's a great place to be from.\n",
            "I think it's a great place to be from.\n",
            "I think it's a great place to be from.\n",
            "I think it's a great place to be from.\n",
            "I think it's a great place to be from.\n",
            "I think it's a great place to be from.\n",
            "I think it's a great place to be from.\n",
            "I think it's a great place to be from.\n",
            "I think it's a great place to be from.\n",
            "I think it's a great place to be from.\n",
            "I think it's a great place to be from.\n",
            "I think it's a great place to be from.\n",
            "I think it's a great place to be from.\n",
            "I think it's a great place to be from.\n",
            "I think it's a great place to be from.\n",
            "I think it's a great place to be from.\n",
            "I think it's a great place to be from.\n",
            "I think it's a great place to be from.\n",
            "I think it's a great place to be from.\n",
            "I think it's a great place to be from.\n",
            "I think it's a great place to be from.\n",
            "I think it's a great place to be from.\n",
            "I think it's a great place to be from.\n",
            "I think it's a great place to be from.\n",
            "I think it's a great place to be from.\n",
            "I think it's a great place to be from.\n",
            "I think it's a great place to be from.\n",
            "I think it's a great place to be from.\n",
            "I think it's a great place to be from.\n",
            "I think it's a great place to be from.\n",
            "I think it's a great place to be from.\n",
            "I think it's a great place to be from.\n",
            "I think it's a great place to be from.\n",
            "I think it's a great place to be from.\n",
            "I think it's a great place to be from.\n",
            "I think it's a great place to be from.\n",
            "I think it's a great place to be from.\n",
            "I think it's a great place to be from.\n",
            "I think it's a great place to be from.\n",
            "I think it's a great place to be from.\n",
            "I think it's a great place to be from.\n",
            "I think it's a great place to be from.\n",
            "I think it's a great place to be from.\n",
            "I think it's a great place to be from.\n",
            "I think it's a great place to be from.\n",
            "I think it's a great place to be from.\n",
            "I think it's a great place to be from.\n",
            "I think it's a great place to be from.\n",
            "I think it's a great place to be from.\n",
            "I think it's a great place to be from.\n",
            "I think it's a great place to be from.\n",
            "I think it's a great place to be from.\n",
            "I think it's a great place to be from.\n",
            "I think it's a great place to be from.\n",
            "I think it's a great place to be from.\n",
            "I think it's a great place to be from.\n",
            "I\n"
          ]
        }
      ],
      "source": [
        "print(non_finetuned(\"What do you think of Mars?\"))"
      ]
    },
    {
      "cell_type": "code",
      "execution_count": 8,
      "metadata": {
        "height": 45,
        "colab": {
          "base_uri": "https://localhost:8080/"
        },
        "id": "AnF76Gb9hNrx",
        "outputId": "28a95ba7-8a0b-4072-d478-ddaf4d4acec5"
      },
      "outputs": [
        {
          "output_type": "stream",
          "name": "stdout",
          "text": [
            "\n",
            "I'm not sure if I've ever mentioned this before, but I'm a huge Taylor Swift fan. I've been a fan since her first album, and I've been a fan ever since. I've been a fan of her music, her lyrics, her style, her personality, and her personality. I've been a fan of her music, her lyrics, her style, her personality, and her personality. I've been a fan of her music, her lyrics, her style, her personality, and her personality. I've been a fan of her music, her lyrics, her style, her personality, and her personality. I've been a fan of her music, her lyrics, her style, her personality, and her personality. I've been a fan of her music, her lyrics, her style, her personality, and her personality. I've been a fan of her music, her lyrics, her style, her personality, and her personality. I've been a fan of her music, her lyrics, her style, her personality, and her personality. I've been a fan of her music, her lyrics, her style, her personality, and her personality. I've been a fan of her music, her lyrics, her style, her personality, and her personality. I've been a fan of her music, her lyrics, her style, her personality, and her personality. I've been a fan of her music, her lyrics, her style, her personality, and her personality. I've been a fan of her music, her lyrics, her style, her personality, and her personality. I've been a fan of her music, her lyrics, her style, her personality, and her personality. I've been a fan of her music, her lyrics, her style, her personality, and her personality. I've been a fan of her music, her lyrics, her style, her personality, and her personality. I've been a fan of her music, her lyrics, her style, her personality, and her personality. I've been a fan of her music, her lyrics, her style, her personality, and her personality. I've been a fan of her music, her lyrics, her style, her personality, and her personality. I've been a fan of her music, her lyrics, her style, her personality, and her personality. I've been a fan of her music, her lyrics, her style, her personality, and her personality. I've been a fan of her music, her lyrics, her style, her personality, and her personality. I've been a fan of her music, her lyrics, her style, her personality, and her personality. I've been a fan of her music, her lyrics, her style, her personality, and her personality. I've been a fan of her music, her lyrics, her style, her personality, and her personality. I've been a fan of her music, her lyrics, her style, her personality, and her personality. I've been a fan of her music, her lyrics, her style, her personality, and her personality. I've been a fan of her music, her lyrics, her style, her personality, and her personality. I've been a fan of her music, her lyrics, her style, her personality, and her personality. I've been a fan of her music, her lyrics, her style, her personality, and her personality. I've been a fan of her music, her lyrics, her style, her personality, and her personality. I've been a fan of her music, her lyrics, her style, her personality, and her personality. I've been a fan of her music, her lyrics, her style, her personality, and her personality. I've been a fan of her music, her lyrics, her style, her personality, and her personality. I've been a fan of her music, her lyrics, her style, her personality, and her personality. I've been a fan of her music, her lyrics, her style, her personality, and her personality. I've been a fan of her music, her lyrics, her style, her personality, and her personality. I've been a fan of her music, her lyrics, her style, her personality, and her personality. I've been a fan of her music, her lyrics, her style, her personality, and her personality. I've been a fan of her music, her lyrics, her style, her personality, and her personality. I've been a fan of her music, her lyrics, her style, her personality, and her personality. I've been a fan of her music, her lyrics, her style, her personality, and her personality. I've been a fan of her music, her lyrics, her style, her personality, and her personality. I've been a fan of her music, her lyrics, her style, her personality, and her personality. I've been a fan of her music, her lyrics, her style, her personality, and her personality. I've been a fan of her music, her lyrics, her style, her personality, and her personality. I've been a fan of her music, her lyrics, her style, her personality, and her personality. I've been a fan of her music, her lyrics, her style, her personality, and her personality. I've been a fan of her music, her lyrics, her style, her personality, and her personality. I've been a fan of her music, her lyrics, her style, her personality, and her personality. I've been a fan of her music, her lyrics, her style, her personality, and her personality. I've been a fan of her music, her lyrics, her style, her personality, and her personality. I've been a fan of her music, her lyrics, her style, her personality, and her personality. I've been a fan of her music, her lyrics, her style, her personality, and her personality. I've been a fan of her music, her lyrics, her style, her personality, and her personality. I've been a fan of her music, her lyrics, her style, her personality, and her personality. I've been a fan of her music, her lyrics, her style, her personality, and her personality. I've been a fan of her music, her lyrics, her style, her personality, and her personality. I've been a fan of her music, her lyrics, her style, her personality, and her personality. I've been a fan of her music, her lyrics, her style, her personality, and her personality. I've been a fan of her music, her lyrics, her style, her personality, and her personality. I've been a fan of her music, her lyrics, her style, her personality, and her personality. I've been a fan of her music, her lyrics, her style, her personality, and her personality. I've been a fan of her music, her lyrics, her style, her personality, and her personality. I've been a fan of her music, her lyrics, her style, her personality,\n"
          ]
        }
      ],
      "source": [
        "print(non_finetuned(\"taylor swift's best friend\"))"
      ]
    },
    {
      "cell_type": "markdown",
      "source": [
        "我不確定我以前是否提過這一點，但我是泰勒絲的超級粉絲。 從她的第一張專輯開始我就一直是她的粉絲，從那時起我就一直是她的粉絲。 我一直是她的音樂、她的歌詞、她的風格、她的個性和她的個性的粉絲。 我一直是她的音樂、她的歌詞、她的風格、她的個性和她的個性的粉絲。 我一直是她的音樂、她的歌詞、她的風格、她的個性和她的個性的粉絲。 我一直是她的音樂、她的歌詞、她的風格、她的個性和她的個性的粉絲。 我一直是她的音樂、她的歌詞、她的風格、她的個性和她的個性的粉絲。 我一直是她的音樂、她的歌詞、她的風格、她的個性和她的個性的粉絲。 我一直是她的音樂、她的歌詞、她的風格、她的個性和她的個性的粉絲。 我一直是她的音樂、她的歌詞、她的風格、她的個性和她的個性的粉絲。 我一直是她的音樂、她的歌詞、她的風格、她的個性和她的個性的粉絲。 我一直是她的音樂、她的歌詞、她的風格、她的個性和她的個性的粉絲。 我一直是她的音樂、她的歌詞、她的風格、她的個性和她的個性的粉絲。 我一直是她的音樂、她的歌詞、她的風格、她的個性和她的個性的粉絲。 我一直是她的音樂、她的歌詞、她的風格、她的個性和她的個性的粉絲。 我一直是她的音樂、她的歌詞、她的風格、她的個性和她的個性的粉絲。..."
      ],
      "metadata": {
        "id": "SIGWLXUWrMAw"
      }
    },
    {
      "cell_type": "code",
      "execution_count": 9,
      "metadata": {
        "height": 113,
        "colab": {
          "base_uri": "https://localhost:8080/"
        },
        "id": "SVuCLByYhNrx",
        "outputId": "fde6063a-7fb1-409b-8cd0-4fbd6072e0b3"
      },
      "outputs": [
        {
          "output_type": "stream",
          "name": "stdout",
          "text": [
            " I'm sorry to hear that. I'll look into it.\n",
            "Customer: I'm not sure if I got the right blanket.\n",
            "Agent: I'm sorry to hear that. I'll look into it.\n",
            "Customer: I'm not sure if I got the right blanket. I'm not sure if I got the right blanket.\n",
            "Agent: I'm sorry to hear that. I'll look into it. I'll look into it.\n",
            "Customer: I'm not sure if I got the right blanket. I'm not sure if I got the right blanket. I'm not sure if I got the right blanket.\n",
            "Agent: I'm sorry to hear that. I'll look into it. I'll look into it. I'll look into it.\n",
            "Customer: I'm not sure if I got the right blanket. I'm not sure if I got the right blanket. I'm not sure if I got the right blanket. I'm not sure if I got the right blanket. I'm not sure if I got the right blanket. I'm not sure if I got the right blanket. I'm not sure if I got the right blanket. I'm not sure if I got the right blanket. I'm not sure if I got the right blanket. I'm not sure if I got the right blanket. I'm not sure if I got the right blanket. I'm not sure if I got the right blanket. I'm not sure if I got the right blanket. I'm not sure if I got the right blanket. I'm not sure if I got the right blanket. I'm not sure if I got the right blanket. I'm not sure if I got the right blanket. I'm not sure if I got the right blanket. I'm not sure if I got the right blanket. I'm not sure if I got the right blanket. I'm not sure if I got the right blanket. I'm not sure if I got the right blanket. I'm not sure if I got the right blanket. I'm not sure if I got the right blanket. I'm not sure if I got the right blanket. I'm not sure if I got the right blanket. I'm not sure if I got the right blanket. I'm not sure if I got the right blanket. I'm not sure if I got the right blanket. I'm not sure if I got the right blanket. I'm not sure if I got the right blanket. I'm not sure if I got the right blanket. I'm not sure if I got the right blanket. I'm not sure if I got the right blanket. I'm not sure if I got the right blanket. I'm not sure if I got the right blanket. I'm not sure if I got the right blanket. I'm not sure if I got the right blanket. I'm not sure if I got the right blanket. I'm not sure if I got the right blanket. I'm not sure if I got the right blanket. I'm not sure if I got the right blanket. I'm not sure if I got the right blanket. I'm not sure if I got the right blanket. I'm not sure if I got the right blanket. I'm not sure if I got the right blanket. I'm not sure if I got the right blanket. I'm not sure if I got the right blanket. I'm not sure if I got the right blanket. I'm not sure if I got the right blanket. I'm not sure if I got the right blanket. I'm not sure if I got the right blanket. I'm not sure if I got the right blanket. I'm not sure if I got the right blanket. I'm not sure if I got the right blanket. I'm not sure if I got the right blanket. I'm not sure if I got the right blanket. I'm not sure if I got the right blanket. I'm not sure if I got the right blanket. I'm not sure if I got the right blanket. I'm not sure if I got the right blanket. I'm not sure if I got the right blanket. I'm not sure if I got the right blanket. I'm not sure if I got the right blanket. I'm not sure if I got the right blanket. I'm not sure if I got the right blanket. I'm not sure if I got the right blanket. I'm not sure if I got the right blanket. I'm not sure if I got the right blanket. I'm not sure if I got the right blanket. I'm not sure if I got the right blanket. I'm not sure if I got the right blanket. I'm not sure if I got the right blanket. I'm not sure if I got the right blanket. I'm not sure if I got the right blanket. I'm not sure if I got the right blanket. I'm not sure if I got the right blanket. I'm not sure if I got the right blanket. I'm not sure if I got the right blanket. I'm not sure if I got the right blanket. I'm not sure if I got the right blanket. I'm not sure if I got the right blanket. I'm not sure if I got the right blanket. I'm not sure if I got the right blanket. I'm not sure if I got the right blanket. I'm not sure if I got the right blanket. I'm not sure if I got the right blanket. I'm not sure if I got the right blanket. I'm not sure if I got the right blanket. I'm not sure if I got the right blanket. I'm not sure if I got the right blanket. I'm not sure if I got the right blanket. I'm not sure if I got the right blanket. I'm not sure if I got the right blanket. I'm not sure if I got the right blanket. I'm not sure if I got the right blanket. I'm not sure if I got the right blanket. I'm not sure if I got the right blanket. I'm not sure if I got the right blanket. I'm not sure if I got the right blanket. I'm not sure if I got the right blanket. I'm not sure if I got the right blanket. I'm not sure if I got the right blanket. I'm not sure if I got the right blanket. I'm not sure if I got the right blanket. I'm not sure if I got the right blanket. I'm not sure if I got the right blanket. I'm not sure if I got the right blanket. I'm not sure if I got the right blanket. I'm not sure if I got the right blanket. I'm not sure if I got the right blanket. I'm not sure if I got the right blanket. I'm not sure if I got the right blanket. I'm not sure if I got the right blanket. I'm not sure if I got the right blanket. I'm not sure if I got the right blanket. I'm not sure if I got the right blanket. I'm not sure if I got the right blanket. I'm not sure if I\n"
          ]
        }
      ],
      "source": [
        "print(non_finetuned(\"\"\"Agent: I'm here to help you with your Amazon deliver order.\n",
        "Customer: I didn't get my item\n",
        "Agent: I'm sorry to hear that. Which item was it?\n",
        "Customer: the blanket\n",
        "Agent:\"\"\"))"
      ]
    },
    {
      "cell_type": "markdown",
      "source": [
        "聽到這個消息我很遺憾。 我會調查一下。\n",
        "顧客：我不確定我買的毯子是否合適。\n",
        "特工： 聽到這個消息我很遺憾。 我會調查一下。\n",
        "顧客：我不確定我買的毯子是否合適。 我不確定我是否買對了毯子。\n",
        "特工： 聽到這個消息我很遺憾。 我會調查一下。 我會調查一下。\n",
        "顧客：我不確定我買的毯子是否合適。 我不確定我是否買對了毯子。 我不確定我是否買對了毯子。\n",
        "特工： 聽到這個消息我很遺憾。 我會調查一下。 我會調查一下。 我會調查一下。\n",
        "顧客：我不確定我買的毯子是否合適。 我不確定我是否買對了毯子。 我不確定我是否買對了毯子。 我不確定我是否買對了毯子。 我不確定我是否買對了毯子。 我不確定我是否買對了毯子。 我不確定我是否買對了毯子。 我不確定我是否買對了毯子。 我不確定我是否買對了毯子。 我不確定我是否買對了毯子。 我不確定我是否買對了毯子。 我不確定我是否買對了毯子。 我不確定我是否買對了毯子。 我不確定我是否買對了毯子。 我不確定我是否買對了毯子。 我不確定我是否買對了毯子。 我不確定我是否買對了毯子。 我不確定我是否買對了毯子。 我不確定我是否買對了毯子。 我不確定我是否買對了毯子。 我不確定我是否買對了毯子。 我不確定我是否買對了毯子。 我不確定我是否買對了毯子。 我不確定我是否買對了毯子。 我不確定我是否買對了毯子。 我不確定我是否買對了毯子。 我不確定我是否買對了毯子。"
      ],
      "metadata": {
        "id": "nm-wmgg4rYZW"
      }
    },
    {
      "cell_type": "markdown",
      "source": [],
      "metadata": {
        "id": "IwTm14LWpk0R"
      }
    },
    {
      "cell_type": "markdown",
      "metadata": {
        "id": "tf3fOQnQhNrz"
      },
      "source": [
        "### Compare to finetuned models"
      ]
    },
    {
      "cell_type": "code",
      "execution_count": 10,
      "metadata": {
        "height": 45,
        "id": "-f1FyiM6hNrz"
      },
      "outputs": [],
      "source": [
        "finetuned_model = BasicModelRunner(\"meta-llama/Llama-2-7b-chat-hf\")"
      ]
    },
    {
      "cell_type": "code",
      "execution_count": 11,
      "metadata": {
        "height": 45,
        "id": "Ii8ZJj5mhNr0"
      },
      "outputs": [],
      "source": [
        "finetuned_output = finetuned_model(\"Tell me how to train my dog to sit\")"
      ]
    },
    {
      "cell_type": "code",
      "execution_count": 12,
      "metadata": {
        "height": 30,
        "colab": {
          "base_uri": "https://localhost:8080/"
        },
        "id": "oRF5JNFHhNr0",
        "outputId": "3f71bbcf-2f62-466c-e096-4904a8630f91"
      },
      "outputs": [
        {
          "output_type": "stream",
          "name": "stdout",
          "text": [
            " on command.\n",
            "Training a dog to sit on command is a basic obedience command that can be achieved with patience, consistency, and positive reinforcement. Here's a step-by-step guide on how to train your dog to sit on command:\n",
            "\n",
            "1. Choose a quiet and distraction-free area: Find a quiet area with minimal distractions where your dog can focus on you.\n",
            "2. Have treats ready: Choose your dog's favorite treats and have them ready to use as rewards.\n",
            "3. Stand in front of your dog: Stand in front of your dog and hold a treat close to their nose.\n",
            "4. Move the treat up and back: Slowly move the treat up and back, towards your dog's tail, while saying \"sit\" in a calm and clear voice.\n",
            "5. Dog will sit: As you move the treat, your dog will naturally sit down to follow the treat. The moment their bottom touches the ground, say \"good sit\" and give them the treat.\n",
            "6. Repeat the process: Repeat steps 3-5 several times, so your dog starts to associate the command \"sit\" with the action of sitting down.\n",
            "7. Gradually phase out the treats: As your dog becomes more comfortable with the command, start to phase out the treats. Instead, use praise and affection as rewards.\n",
            "8. Practice, practice, practice: Practice the \"sit\" command in different locations, with different distractions, and at different times of the day. This will help your dog understand that the command is not just a trick, but a basic obedience command.\n",
            "9. Be consistent: Consistency is key when training a dog. Make sure everyone in the household is using the same command and reward system.\n",
            "10. Be patient: Training a dog takes time and patience. Don't get frustrated if your dog doesn't pick up the command immediately. Keep practicing and eventually, your dog will learn.\n",
            "\n",
            "Remember, training a dog is a journey, and it's important to be patient, consistent, and positive. With time and practice, your dog will learn to sit on command and other basic obedience commands.\n"
          ]
        }
      ],
      "source": [
        "print(finetuned_output)"
      ]
    },
    {
      "cell_type": "markdown",
      "source": [
        "根據命令。\n",
        "訓練狗狗按照命令坐下是一種基本的服從命令，可以透過耐心、一致性和積極強化來實現。 以下是有關如何訓練您的狗按照命令坐下的分步指南：\n",
        "\n",
        "1. 選擇一個安靜且無幹擾的區域：找到一個幹擾最少的安靜區域，讓您的狗可以專注於您。\n",
        "2. 準備好零食：選擇您的狗狗最喜歡的零食並準備好作為獎勵。\n",
        "3. 站在你的狗面前：站在你的狗面前，把零食放在靠近狗鼻子的地方。\n",
        "4. 向上和向後移動零食：慢慢地向上和向後移動零食，靠近狗的尾巴，同時用平靜而清晰的聲音說「坐下」。\n",
        "5. 狗狗會坐下：當您移動零食時，您的狗狗會自然地坐下來跟隨零食。 當他們的屁股接觸地面時，說“坐好”並給他們零食。\n",
        "6.重複這個過程：重複步驟3-5幾次，這樣你的狗就開始將「坐下」這個指令與坐下的動作連結起來。\n",
        "7. 逐漸停止零食：當你的狗對命令變得更加適應時，開始逐步停止零食。 相反，用讚美和喜愛作為獎勵。\n",
        "8. 練習、練習、再練習：在一天中的不同時間、不同的地點、不同的干擾下練習「坐」指令。 這將幫助您的狗了解該命令不僅僅是一個技巧，而是一個基本的服從命令。\n",
        "9. 保持一致：訓練狗狗時，一致性是關鍵。 確保家裡的每個人都使用相同的命令和獎勵系統。\n",
        "10.要有耐心：訓練狗狗需要時間和耐心。 如果您的狗沒有立即接受命令，請不要感到沮喪。 繼續練習，最終你的狗會學會的。\n",
        "\n",
        "請記住，訓練狗是一個旅程，保持耐心、一致和積極非常重要。 經過時間和練習，您的狗將學會按照命令坐下和其他基本的服從命令。"
      ],
      "metadata": {
        "id": "d3SbjEwno-ZM"
      }
    },
    {
      "cell_type": "code",
      "execution_count": 13,
      "metadata": {
        "height": 45,
        "colab": {
          "base_uri": "https://localhost:8080/"
        },
        "id": "4Y3SvxY3hNr1",
        "outputId": "8c35c9da-2798-430e-dd95-0fc93660c463"
      },
      "outputs": [
        {
          "output_type": "stream",
          "name": "stdout",
          "text": [
            "  Training your dog to sit is a basic obedience command that can be achieved with patience, consistency, and positive reinforcement. Here's a step-by-step guide on how to train your dog to sit:\n",
            "\n",
            "1. Choose a quiet and distraction-free area: Find a quiet area with no distractions where your dog can focus on you.\n",
            "2. Have treats ready: Choose your dog's favorite treats and have them ready to use as rewards.\n",
            "3. Stand in front of your dog: Stand in front of your dog and hold a treat close to their nose.\n",
            "4. Move the treat up and back: Slowly move the treat up and back, towards your dog's tail, while saying \"sit\" in a calm and clear voice.\n",
            "5. Dog will sit: As you move the treat, your dog will naturally sit down to follow the treat. The moment their bottom touches the ground, say \"good sit\" and give them the treat.\n",
            "6. Repeat the process: Repeat steps 3-5 several times, so your dog starts to associate the command \"sit\" with the action of sitting down.\n",
            "7. Gradually phase out the treats: As your dog becomes more comfortable with the command, start to phase out the treats. Instead, use praise and affection as rewards.\n",
            "8. Practice, practice, practice: Practice the \"sit\" command in different locations, with different distractions, and at different times of the day. This will help your dog understand that the command is not just a trick, but a basic obedience command.\n",
            "9. Be consistent: Consistency is key when training a dog. Make sure everyone in the household is using the same command and reward system.\n",
            "10. Be patient: Training a dog takes time and patience. Don't get frustrated if your dog doesn't pick up the command immediately. Keep practicing and eventually, your dog will learn.\n",
            "\n",
            "Additional tips:\n",
            "\n",
            "* Start training early: The earlier you start training your dog, the easier it will be for them to learn.\n",
            "* Use a consistent command: Choose a consistent command for \"sit\" and use it every time you want your dog to sit.\n",
            "* Use a gentle touch: When using the command, use a gentle touch on your dog's nose to guide them into the sitting position.\n",
            "* Be clear and concise: Use a clear and concise command, such as \"sit\" or \"down,\" and avoid using long sentences or complicated words.\n",
            "* Practice in different situations: Practice the \"sit\" command in different situations, such as during walks, in the park, or at home, to help your dog understand that the command is not just a trick, but a basic obedience command.\n",
            "\n",
            "Remember, training a dog takes time, patience, and consistency. With positive reinforcement and repetition, your dog will learn the \"sit\" command in no time.\n"
          ]
        }
      ],
      "source": [
        "print(finetuned_model(\"[INST]Tell me how to train my dog to sit[/INST]\"))"
      ]
    },
    {
      "cell_type": "markdown",
      "source": [
        "訓練你的狗坐下是一個基本的服從命令，可以透過耐心、一致性和積極強化來實現。 以下是如何訓練您的狗狗坐下的分步指南：\n",
        "\n",
        "1. 選擇一個安靜且不受干擾的區域：找到一個不受干擾的安靜區域，讓您的狗可以專注於您。\n",
        "2. 準備好零食：選擇您的狗狗最喜歡的零食並準備好作為獎勵。\n",
        "3. 站在你的狗面前：站在你的狗面前，把零食放在靠近狗鼻子的地方。\n",
        "4. 向上和向後移動零食：慢慢地向上和向後移動零食，靠近狗的尾巴，同時用平靜而清晰的聲音說「坐下」。\n",
        "5. 狗狗會坐下：當您移動零食時，您的狗狗會自然地坐下來跟隨零食。 當他們的屁股接觸地面時，說“坐好”並給他們零食。\n",
        "6.重複這個過程：重複步驟3-5幾次，這樣你的狗就開始將「坐下」這個指令與坐下的動作連結起來。\n",
        "7. 逐漸停止零食：當你的狗對命令變得更加適應時，開始逐步停止零食。 相反，用讚美和喜愛作為獎勵。\n",
        "8. 練習、練習、再練習：在一天中的不同時間、不同的地點、不同的干擾下練習「坐」指令。 這將幫助您的狗了解該命令不僅僅是一個技巧，而是一個基本的服從命令。\n",
        "9. 保持一致：訓練狗狗時，一致性是關鍵。 確保家裡的每個人都使用相同的命令和獎勵系統。\n",
        "10.要有耐心：訓練狗狗需要時間和耐心。 如果您的狗沒有立即接受命令，請不要感到沮喪。 繼續練習，最終你的狗會學會的。\n",
        "\n",
        "附加提示：\n",
        "\n",
        "* 儘早開始訓練：越早開始訓練你的狗，它們就越容易學習。\n",
        "* 使用一致的命令：為「坐下」選擇一致的命令，並在每次您希望您的狗坐下時使用它。\n",
        "* 輕輕觸摸：使用指令時，輕輕觸摸狗狗的鼻子，引導它們進入坐姿。\n",
        "* 清晰簡潔：使用清晰簡潔的命令，例如“坐下”或“坐下”，避免使用長句子或複雜的單字。\n",
        "* 在不同情況下練習：在不同情況下練習「坐」命令，例如散步時、公園里或家裡，幫助您的狗理解該命令不僅僅是一個技巧，而是一個基本的服從命令。\n",
        "\n",
        "請記住，訓練狗狗需要時間、耐​​心和一致性。 透過積極的強化和重複，您的狗很快就會學會「坐下」命令。"
      ],
      "metadata": {
        "id": "fSAjkqXiomRj"
      }
    },
    {
      "cell_type": "code",
      "execution_count": 14,
      "metadata": {
        "height": 45,
        "colab": {
          "base_uri": "https://localhost:8080/"
        },
        "id": "Ir9l74BVhNr1",
        "outputId": "2b111255-d630-4a00-a8c6-cf663b8593b8"
      },
      "outputs": [
        {
          "output_type": "stream",
          "name": "stdout",
          "text": [
            "\n",
            "[INST]Tell me how to train my dog to sit[/INST]\n",
            "[INST]Tell me how to train my dog to sit[/INST] [INST]Tell me how to train my dog to sit[/INST] [INST]Tell me how to train my dog to sit[/INST] [INST]Tell me how to train my dog to sit[/INST] [INST]Tell me how to train my dog to sit[/INST] [INST]Tell me how to train my dog to sit[/INST] [INST]Tell me how to train my dog to sit[/INST] [INST]Tell me how to train my dog to sit[/INST] [INST]Tell me how to train my dog to sit[/INST] [INST]Tell me how to train my dog to sit[/INST] [INST]Tell me how to train my dog to sit[/INST] [INST]Tell me how to train my dog to sit[/INST] [INST]Tell me how to train my dog to sit[/INST] [INST]Tell me how to train my dog to sit[/INST] [INST]Tell me how to train my dog to sit[/INST] [INST]Tell me how to train my dog to sit[/INST] [INST]Tell me how to train my dog to sit[/INST] [INST]Tell me how to train my dog to sit[/INST] [INST]Tell me how to train my dog to sit[/INST] [INST]Tell me how to train my dog to sit[/INST] [INST]Tell me how to train my dog to sit[/INST] [INST]Tell me how to train my dog to sit[/INST] [INST]Tell me how to train my dog to sit[/INST] [INST]Tell me how to train my dog to sit[/INST] [INST]Tell me how to train my dog to sit[/INST] [INST]Tell me how to train my dog to sit[/INST] [INST]Tell me how to train my dog to sit[/INST] [INST]Tell me how to train my dog to sit[/INST] [INST]Tell me how to train my dog to sit[/INST] [INST]Tell me how to train my dog to sit[/INST] [INST]Tell me how to train my dog to sit[/INST] [INST]Tell me how to train my dog to sit[/INST] [INST]Tell me how to train my dog to sit[/INST] [INST]Tell me how to train my dog to sit[/INST] [INST]Tell me how to train my dog to sit[/INST] [INST]Tell me how to train my dog to sit[/INST] [INST]Tell me how to train my dog to sit[/INST] [INST]Tell me how to train my dog to sit[/INST] [INST]Tell me how to train my dog to sit[/INST] [INST]Tell me how to train my dog to sit[/INST] [INST]Tell me how to train my dog to sit[/INST] [INST]Tell me how to train my dog to sit[/INST] [INST]Tell me how to train my dog to sit[/INST] [INST]Tell me how to train my dog to sit[/INST] [INST]Tell me how to train my dog to sit[/INST] [INST]Tell me how to train my dog to sit[/INST] [INST]Tell me how to train my dog to sit[/INST] [INST]Tell me how to train my dog to sit[/INST] [INST]Tell me how to train my dog to sit[/INST] [INST]Tell me how to train my dog to sit[/INST] [INST]Tell me how to train my dog to sit[/INST] [INST]Tell me how to train my dog to sit[/INST] [INST]Tell me how to train my dog to sit[/INST] [INST]Tell me how to train my dog to sit[/INST] [INST]Tell me how to train my dog to sit[/INST] [INST]Tell me how to train my dog to sit[/INST] [INST]Tell me how to train my dog to sit[/INST] [INST]Tell me how to train my dog to sit[/INST] [INST]Tell me how to train my dog to sit[/INST] [INST]Tell me how to train my dog to sit[/INST] [INST]Tell me how to train my dog to sit[/INST] [INST]Tell me how to train my dog to sit[/INST] [INST]Tell me how to train my dog to sit[/INST] [INST]Tell me how to train my dog to sit[/INST] [INST]Tell me how to train my dog to sit[/INST] [INST]Tell me how to train my dog to sit[/INST] [INST]Tell me how to train my dog to sit[/INST] [INST]Tell me how to train my dog to sit[/INST] [INST]Tell me how to train my dog to sit[/INST] [INST]Tell me how to train my dog to sit[/INST] [INST]Tell me how to train my dog to sit[/INST] [INST]Tell me how to train my dog to sit[/INST] [INST]Tell me how to train my dog to sit[/INST] [INST]Tell me how to train my dog to sit[/INST] [INST]Tell me how to train my dog to sit[/INST] [INST]Tell me how to train my dog to sit[/INST] [INST]Tell me how to train my dog to sit[/INST] [INST]Tell me how to train my dog to sit[/INST] [INST]Tell me how to train my dog to sit[/INST] [INST]Tell me how to train my dog to sit[/INST] [INST]Tell me how to train my dog to sit[/INST] [INST]Tell me how to train my dog to sit[/INST] [INST]Tell me how to train my dog to sit[/INST] [INST]Tell me how to train my dog to sit[/INST] [INST]Tell me how to train my dog to sit[/INST] [INST]Tell me how to train my dog to sit[/INST] [INST]Tell me how to train my dog to sit[/INST] [INST]Tell me how to train my dog to sit[/INST] [INST]Tell me how to train my dog to sit[/INST] [INST]Tell me how to train my dog to sit[/INST] [INST]Tell me how to train my dog to sit[/INST] [INST]Tell me how to train my dog to sit[/INST] [INST]Tell me how to train my dog to sit[/INST] [INST]Tell me how to train my dog to sit[/INST] [INST]Tell me how to train my dog to sit[/INST] [INST]Tell me how to train my dog to sit[/INST] [INST]Tell me how to train my dog to sit[/INST] [INST]Tell me how to train my dog to sit[/INST] [INST]Tell me how to train my dog to sit[/INST] [INST]Tell me how to train my dog to sit[/INST] [INST]Tell me how\n"
          ]
        }
      ],
      "source": [
        "print(non_finetuned(\"[INST]Tell me how to train my dog to sit[/INST]\"))"
      ]
    },
    {
      "cell_type": "code",
      "execution_count": 15,
      "metadata": {
        "height": 45,
        "colab": {
          "base_uri": "https://localhost:8080/"
        },
        "id": "okMrg27VhNr1",
        "outputId": "4e320c59-9358-4973-fffc-da7818f27d04"
      },
      "outputs": [
        {
          "output_type": "stream",
          "name": "stdout",
          "text": [
            "\n",
            "\n",
            "Mars is a fascinating planet that has captured the imagination of humans for centuries. It is the fourth planet from the Sun in our solar system and is known for its reddish appearance. Mars is a rocky planet with a thin atmosphere, and its surface is characterized by volcanoes, canyons, and impact craters.\n",
            "\n",
            "One of the most intriguing aspects of Mars is its potential to support life. While there is currently no evidence of life on Mars, the planet's atmosphere and geology suggest that it may have been habitable in the past. NASA's Curiosity rover has been exploring Mars since 2012, and has discovered evidence of water on the planet, which is a key ingredient for life.\n",
            "\n",
            "Mars is also a popular target for space missions and future human settlements. Several space agencies and private companies are planning missions to Mars in the coming years, with the goal of establishing a human presence on the planet. The challenges of establishing a human settlement on Mars are significant, including the harsh environment, lack of resources, and distance from Earth. However, many experts believe that Mars is the next logical step in the exploration of the solar system and the expansion of humanity.\n",
            "\n",
            "In conclusion, Mars is a fascinating and complex planet that continues to capture the imagination of humans. While there is currently no evidence of life on Mars, the planet's potential to support life in the past and future makes it an important target for scientific exploration and future human settlements.\n"
          ]
        }
      ],
      "source": [
        "print(finetuned_model(\"What do you think of Mars?\"))"
      ]
    },
    {
      "cell_type": "markdown",
      "source": [
        "火星是一個迷人的星球，幾個世紀以來一直吸引著人類的想像。 它是太陽系中距離太陽第四遠的行星，以其微紅色的外觀而聞名。 火星是一顆岩石行星，大氣層稀薄，其表面以火山、峽谷和撞擊坑為特徵。\n",
        "\n",
        "火星最有趣的方面之一是它支持生命的潛力。 雖然目前火星上沒有生命存在的證據，但該行星的大氣層和地質表明它過去可能適合居住。 美國太空總署的好奇號火星車自 2012 年以來一直在探索火星，並在火星上發現了水的證據，而水是生命的關鍵成分。\n",
        "\n",
        "火星也是太空任務和未來人類定居點的熱門目標。 一些航太機構和私人公司正在計劃未來幾年的火星任務，目標是在地球上建立人類存在。 在火星上建立人類定居點面臨巨大的挑戰，包括惡劣的環境、缺乏資源以及距離地球的距離。 然而，許多專家認為，火星是探索太陽系和人類擴張的下一個合乎邏輯的步驟。\n",
        "\n",
        "總之，火星是一個迷人而複雜的星球，不斷激發人類的想像。 雖然目前火星上沒有生命存在的證據，但該行星在過去和未來支持生命的潛力使其成為科學探索和未來人類定居的重要目標。"
      ],
      "metadata": {
        "id": "TZgBCZmyoXE8"
      }
    },
    {
      "cell_type": "code",
      "execution_count": 16,
      "metadata": {
        "height": 45,
        "colab": {
          "base_uri": "https://localhost:8080/"
        },
        "id": "x_fbHuw3hNr1",
        "outputId": "c8dde6d2-8d9d-4062-a4da-80e29b3d28a2"
      },
      "outputs": [
        {
          "output_type": "stream",
          "name": "stdout",
          "text": [
            "\n",
            "\n",
            "Taylor Swift's best friend is a person who has been by her side through thick and thin. Here are some possible candidates:\n",
            "\n",
            "1. Abigail Anderson - Abigail is Taylor's childhood friend and has been a constant presence in her life. The two have been inseparable since they met in kindergarten and have shared countless memories together.\n",
            "2. Selena Gomez - Selena and Taylor have been friends for over a decade and have been through a lot together. They have collaborated on music projects, gone on vacation together, and have been there for each other through personal struggles.\n",
            "3. Liz Rose - Liz is a songwriter and producer who has worked with Taylor on many of her hit songs. The two have a close professional relationship and have also become close friends over the years.\n",
            "4. Joe Jonas - Joe and Taylor were in a relationship for a few years in the early 2000s and have remained close friends since then. They have been spotted together at various events and have even collaborated on music projects.\n",
            "5. Ed Sheeran - Ed and Taylor have been friends for several years and have collaborated on several songs together. They have a close bond and have been there for each other through personal struggles and triumphs.\n",
            "\n",
            "Overall, Taylor Swift's best friend is someone who has been a constant source of support and encouragement in her life. Whether it's a childhood friend, a music collaborator, or a romantic partner, Taylor's best friend has been there for her through thick and thin.\n"
          ]
        }
      ],
      "source": [
        "print(finetuned_model(\"taylor swift's best friend\"))"
      ]
    },
    {
      "cell_type": "markdown",
      "source": [
        "泰勒絲最好的朋友是一個一直陪伴在她身邊的人。 以下是一些可能的候選人：\n",
        "\n",
        "1.阿比蓋爾·安德森－阿比蓋爾是泰勒兒時的朋友，一直出現在她的生命中。 兩人從幼兒園相識起就形影不離，共同留下了無數回憶。\n",
        "\n",
        "2.賽琳娜戈梅茲（Selena Gomez）－賽琳娜和泰勒已經是十多年的朋友了，一起經歷了很多事情。 他們在音樂項目上進行了合作，一起去度假，並在個人奮鬥中互相支持。\n",
        "\n",
        "3.Liz Rose - Liz 是一位詞曲作者和製作人，曾與泰勒合作創作了許多熱門歌曲。 兩人有著密切的職業關係，多年來也成為了親密的朋友。\n",
        "\n",
        "4.喬·喬納斯 (Joe Jonas) - 喬和泰勒在 2000 年代初期交往了幾年，從那時起一直是親密的朋友。 他們被發現一起出現在各種活動中，甚至在音樂項目上進行了合作。\n",
        "\n",
        "5.Ed Sheeran - Ed 和 Taylor 是多年好友，並合作創作了多首歌曲。 他們有著密切的聯繫，並在個人奮鬥和勝利中相互支持。\n",
        "\n",
        "總的來說，泰勒絲最好的朋友是她生活中不斷支持和鼓勵的人。 無論是兒時的朋友、音樂合作者或浪漫的伴侶，泰勒最好的朋友都一直陪伴在她身邊。"
      ],
      "metadata": {
        "id": "vhVYEYnboFHt"
      }
    },
    {
      "cell_type": "code",
      "execution_count": 17,
      "metadata": {
        "height": 113,
        "colab": {
          "base_uri": "https://localhost:8080/"
        },
        "id": "RrEz6vxQhNr2",
        "outputId": "f4b93159-01b8-4047-ff57-ad0822d28f56"
      },
      "outputs": [
        {
          "output_type": "stream",
          "name": "stdout",
          "text": [
            " I see. Can you please provide me with your order number so I can look into this for you?\n",
            "Customer: I don't have the order number.\n",
            "Agent: Okay, no worries. Can you please tell me the name of the item you didn't receive?\n",
            "Customer: It was a blue blanket.\n",
            "Agent: I see. I'm going to check on the status of your order for you. Can you please hold for just a moment?\n",
            "Customer: Okay, thank you.\n",
            "Agent: (pause) I apologize, but it looks like your order was delivered to the wrong address. Can you please provide me with your correct address so I can assist you in getting the blanket delivered to you?\n",
            "Customer: (sighs) I don't know why this is happening to me. I've been ordering from Amazon for years and never had any problems.\n",
            "Agent: I apologize for any inconvenience this has caused. I'm here to help you resolve the issue as quickly as possible. Can you please provide me with your correct address so I can assist you?\n",
            "Customer: (frustrated) Fine. It's 123 Main St, Apartment 302. Can you please fix this?\n",
            "Agent: (nodding) Of course, I'm going to go ahead and update the address on your order. Can you please hold for just a moment while I process this?\n",
            "Customer: (sighs) Okay, thank you.\n",
            "Agent: (pause) Great, I've updated the address on your order. Your blanket should be delivered to your new address within the next 3-5 business days. Is there anything else I can assist you with?\n",
            "Customer: (disappointed) No, that's it. Thank you for your help.\n",
            "Agent: You're welcome. Is there anything else I can do for you?\n",
            "Customer: (hesitates) No, I think that's it. Thank you again.\n",
            "Agent: You're welcome. Have a great day!\n",
            "\n",
            "In this scenario, the customer service agent is trying to help the customer resolve an issue with their Amazon delivery order. The agent is polite and professional throughout the conversation, and provides the customer with the information they need to resolve the issue. The customer is frustrated and disappointed, but the agent remains patient and helpful throughout the conversation.\n"
          ]
        }
      ],
      "source": [
        "print(finetuned_model(\"\"\"Agent: I'm here to help you with your Amazon deliver order.\n",
        "Customer: I didn't get my item\n",
        "Agent: I'm sorry to hear that. Which item was it?\n",
        "Customer: the blanket\n",
        "Agent:\"\"\"))"
      ]
    },
    {
      "cell_type": "markdown",
      "source": [
        "我懂了。 您能否提供我您的訂單編號，以便我幫您調查一下？\n",
        "\n",
        "顧客：我沒有訂單號碼。\n",
        "\n",
        "代理人：好的，不用擔心。 您能告訴我您未收到的物品的名稱嗎？\n",
        "\n",
        "顧客：那是一條藍色的毯子。\n",
        "\n",
        "代理：我明白了。 我將為您檢查您的訂單狀態。 你能稍等一下嗎？\n",
        "\n",
        "顧客：好的，謝謝。\n",
        "\n",
        "代理：（停頓）很抱歉，您的訂單似乎發送到了錯誤的地址。 您能否提供我您的正確地址，以便我幫助您將毯子送到您的手中？\n",
        "\n",
        "顧客：（嘆氣）我不知道為什麼會發生這種事。 我從亞馬遜訂購已有多年，從未遇到任何問題。\n",
        "\n",
        "代理：對於由此造成的任何不便，我深表歉意。 我來這裡是為了幫助您盡快解決問題。 您能否提供我您的正確地址，以便我為您提供協助？\n",
        "\n",
        "顧客：（沮喪）好。 地址是 123 Main St，302 號公寓。您能修一下嗎？\n",
        "\n",
        "代理：（點頭）當然，我會繼續更新您訂單上的地址。 在我處理這個問題時，您能稍等一下嗎？\n",
        "\n",
        "顧客：（嘆氣）好的，謝謝。\n",
        "\n",
        "代理：（停頓）太好了，我已經更新了您訂單上的地址。 您的毯子應該會在接下來的 3-5 個工作天內送到您的新地址。 還有什麼我可以幫助您的嗎？\n",
        "\n",
        "顧客：（失望）不，就這樣了。 感謝您的協助。\n",
        "\n",
        "代理人： 不客氣。 我還能為您做些什麼嗎？\n",
        "\n",
        "顧客：（猶豫）不，我想就是這樣了。 再次感謝你。\n",
        "\n",
        "代理人： 不客氣。 祝你有美好的一天！\n",
        "\n",
        "在這種情況下，客戶服務代理正在嘗試幫助客戶解決亞馬遜送貨訂單的問題。 客服人員在整個對話過程中表現得彬彬有禮且專業，並向客戶提供解決問題所需的資訊。 客戶感到沮喪和失望，但客服人員在整個談話過程中仍然保持耐心並提供協助。"
      ],
      "metadata": {
        "id": "X9f0bxGnnT9m"
      }
    },
    {
      "cell_type": "markdown",
      "metadata": {
        "id": "WUBTvKgdhNr2"
      },
      "source": [
        "### Compare to ChatGPT"
      ]
    },
    {
      "cell_type": "markdown",
      "source": [
        "Tell me how to train my dog to sit\n",
        "\n",
        "ChatGPT responds with: ChatGPT 回應：\n",
        "\n",
        "Training your dog to sit is a basic and essential command that can be taught using positive reinforcement. Here's a simple step-by-step guide:\n",
        "\n",
        "訓練你的狗坐下是一項基本和必不可少的命令，可以使用正強化來教授。以下是一個簡單的分步指南：\n",
        "\n",
        "Prepare Treats: Gather small, soft treats that your dog enjoys. Make sure they are easy to chew and won't take too long to eat.\n",
        "\n",
        "準備零食：收集您的狗喜歡的小而柔軟的零食。確保它們易於咀嚼並且不會花太長時間食用。\n",
        "\n",
        "Find a Quiet Space: Choose a quiet area with minimal distractions for the training session. This will help your dog focus better.\n",
        "\n",
        "尋找一個安靜的空間：為訓練課程選擇一個干擾最小的安靜區域。這將説明您的狗更好地集中注意力。\n",
        "\n",
        "Get Your Dog's Attention: Call your dog's name to get their attention. Make sure they are looking at you.\n",
        "\n",
        "引起狗的注意：叫你的狗的名字以引起他們的注意。確保他們正在看著你。\n",
        "\n",
        "Use a Treat to Lure: Hold a treat close to your dog's nose, and slowly move your hand upward and slightly backward over their head. As you do this, your dog's natural response will be to follow the treat with their nose, causing them to sit.\n",
        "\n",
        "使用零食引誘：將零食靠近狗的鼻子，然後慢慢地將手向上移動並稍微向後移過它們的頭頂。當你這樣做時，你的狗的自然反應將是用鼻子跟隨零食，讓它們坐下。\n",
        "\n",
        "Say the Command: As your dog starts to sit, say the command \"Sit\" in a clear and firm voice. Use the word consistently every time you want your dog to sit.\n",
        "\n",
        "說出命令：當你的狗開始坐下時，用清晰而堅定的聲音說出命令“坐下”。每次你想讓你的狗坐下時，都始終如一地使用這個詞。\n",
        "\n",
        "Reward and Praise: As soon as your dog sits, immediately reward them with the treat and offer verbal praise. This positive reinforcement will help them associate sitting with positive outcomes.\n",
        "\n",
        "獎勵和表揚：一旦您的狗坐下，立即用款待獎勵它們並提供口頭表揚。這種積極的強化將幫助他們將坐著與積極的結果聯繫起來。\n",
        "\n",
        "Repeat and Practice: Repeat the process several times in a row during each training session. Keep the sessions short (around 5-10 minutes) to prevent your dog from losing interest.\n",
        "\n",
        "重複和練習：在每次訓練期間連續多次重複該過程。保持簡短的會議（約 5-10 分鐘），以防止您的狗失去興趣。\n",
        "\n",
        "Add Duration: Once your dog consistently sits on command, you can gradually increase the duration by waiting a couple of seconds before giving the treat. This helps reinforce the sit command.\n",
        "\n",
        "添加持續時間：一旦您的狗始終如一地聽從命令，您就可以通過等待幾秒鐘來逐漸增加持續時間，然後再給予款待。這有助於加強 sit 命令。\n",
        "\n",
        "Generalize the Command: Practice the \"sit\" command in different locations and with various distractions to help your dog generalize the behavior.\n",
        "\n",
        "概括命令：在不同的位置和各種干擾下練習「坐下」命令，以説明您的狗概括行為。\n",
        "\n",
        "Be Patient and Consistent: Patience and consistency are key in dog training. Always use positive reinforcement, and avoid punishment. If your dog doesn't succeed initially, go back a step and try again.\n",
        "\n",
        "要有耐心和一致性： 耐心和一致性是狗訓練的關鍵。始終使用正強化，避免懲罰。如果您的狗最初沒有成功，請後退一步並重試。\n",
        "\n",
        "Remember that each dog is unique, and some may learn more quickly than others. Adjust your training approach based on your dog's individual needs and progress.\n",
        "\n",
        "請記住，每隻狗都是獨一無二的，有些狗可能比其他狗學得更快。根據狗的個人需求和進度調整您的訓練方法。"
      ],
      "metadata": {
        "id": "dzkhiVYkmbMI"
      }
    },
    {
      "cell_type": "code",
      "execution_count": 18,
      "metadata": {
        "height": 30,
        "id": "DAlkaBQZhNr2"
      },
      "outputs": [],
      "source": [
        "# chatgpt = BasicModelRunner(\"chat-gpt\")"
      ]
    },
    {
      "cell_type": "code",
      "execution_count": 19,
      "metadata": {
        "height": 45,
        "colab": {
          "base_uri": "https://localhost:8080/",
          "height": 737
        },
        "id": "dgyzeMBshNr2",
        "outputId": "494d1e4a-a426-4f90-cd44-2474b568706c"
      },
      "outputs": [
        {
          "output_type": "stream",
          "name": "stdout",
          "text": [
            "status code: 561\n"
          ]
        },
        {
          "output_type": "error",
          "ename": "APIError",
          "evalue": "API error {'detail': \"Currently this user has support for base models: ['hf-internal-testing/tiny-random-gpt2', 'EleutherAI/pythia-70m', 'EleutherAI/pythia-70m-deduped', 'EleutherAI/pythia-70m-v0', 'EleutherAI/pythia-70m-deduped-v0', 'EleutherAI/neox-ckpt-pythia-70m-deduped-v0', 'EleutherAI/neox-ckpt-pythia-70m-v1', 'EleutherAI/neox-ckpt-pythia-70m-deduped-v1', 'EleutherAI/gpt-neo-125m', 'EleutherAI/pythia-160m', 'EleutherAI/pythia-160m-deduped', 'EleutherAI/pythia-160m-deduped-v0', 'EleutherAI/neox-ckpt-pythia-70m', 'EleutherAI/neox-ckpt-pythia-160m', 'EleutherAI/neox-ckpt-pythia-160m-deduped-v1', 'EleutherAI/pythia-2.8b', 'EleutherAI/pythia-410m', 'EleutherAI/pythia-410m-v0', 'EleutherAI/pythia-410m-deduped', 'EleutherAI/pythia-410m-deduped-v0', 'EleutherAI/neox-ckpt-pythia-410m', 'EleutherAI/neox-ckpt-pythia-410m-deduped-v1', 'cerebras/Cerebras-GPT-111M', 'cerebras/Cerebras-GPT-256M', 'meta-llama/Llama-2-7b-hf', 'meta-llama/Llama-2-7b-chat-hf', 'meta-llama/Llama-2-13b-chat-hf', 'meta-llama/Llama-2-70b-chat-hf', 'Intel/neural-chat-7b-v3-1', 'mistralai/Mistral-7B-Instruct-v0.1', 'microsoft/phi-2']. Need help? Email us at info@lamini.ai\"}",
          "traceback": [
            "\u001b[0;31m---------------------------------------------------------------------------\u001b[0m",
            "\u001b[0;31mHTTPError\u001b[0m                                 Traceback (most recent call last)",
            "\u001b[0;32m/usr/local/lib/python3.10/dist-packages/lamini/api/rest_requests.py\u001b[0m in \u001b[0;36mmake_web_request\u001b[0;34m(key, url, http_method, json)\u001b[0m\n\u001b[1;32m    127\u001b[0m     \u001b[0;32mtry\u001b[0m\u001b[0;34m:\u001b[0m\u001b[0;34m\u001b[0m\u001b[0;34m\u001b[0m\u001b[0m\n\u001b[0;32m--> 128\u001b[0;31m         \u001b[0mresp\u001b[0m\u001b[0;34m.\u001b[0m\u001b[0mraise_for_status\u001b[0m\u001b[0;34m(\u001b[0m\u001b[0;34m)\u001b[0m\u001b[0;34m\u001b[0m\u001b[0;34m\u001b[0m\u001b[0m\n\u001b[0m\u001b[1;32m    129\u001b[0m     \u001b[0;32mexcept\u001b[0m \u001b[0mrequests\u001b[0m\u001b[0;34m.\u001b[0m\u001b[0mexceptions\u001b[0m\u001b[0;34m.\u001b[0m\u001b[0mHTTPError\u001b[0m \u001b[0;32mas\u001b[0m \u001b[0me\u001b[0m\u001b[0;34m:\u001b[0m\u001b[0;34m\u001b[0m\u001b[0;34m\u001b[0m\u001b[0m\n",
            "\u001b[0;32m/usr/local/lib/python3.10/dist-packages/requests/models.py\u001b[0m in \u001b[0;36mraise_for_status\u001b[0;34m(self)\u001b[0m\n\u001b[1;32m   1020\u001b[0m         \u001b[0;32mif\u001b[0m \u001b[0mhttp_error_msg\u001b[0m\u001b[0;34m:\u001b[0m\u001b[0;34m\u001b[0m\u001b[0;34m\u001b[0m\u001b[0m\n\u001b[0;32m-> 1021\u001b[0;31m             \u001b[0;32mraise\u001b[0m \u001b[0mHTTPError\u001b[0m\u001b[0;34m(\u001b[0m\u001b[0mhttp_error_msg\u001b[0m\u001b[0;34m,\u001b[0m \u001b[0mresponse\u001b[0m\u001b[0;34m=\u001b[0m\u001b[0mself\u001b[0m\u001b[0;34m)\u001b[0m\u001b[0;34m\u001b[0m\u001b[0;34m\u001b[0m\u001b[0m\n\u001b[0m\u001b[1;32m   1022\u001b[0m \u001b[0;34m\u001b[0m\u001b[0m\n",
            "\u001b[0;31mHTTPError\u001b[0m: 561 Server Error:  for url: https://api.lamini.ai/v1/completions",
            "\nDuring handling of the above exception, another exception occurred:\n",
            "\u001b[0;31mAPIError\u001b[0m                                  Traceback (most recent call last)",
            "\u001b[0;32m<ipython-input-19-d65ab6ab592f>\u001b[0m in \u001b[0;36m<cell line: 1>\u001b[0;34m()\u001b[0m\n\u001b[0;32m----> 1\u001b[0;31m \u001b[0mprint\u001b[0m\u001b[0;34m(\u001b[0m\u001b[0mchatgpt\u001b[0m\u001b[0;34m(\u001b[0m\u001b[0;34m\"Tell me how to train my dog to sit\"\u001b[0m\u001b[0;34m)\u001b[0m\u001b[0;34m)\u001b[0m\u001b[0;34m\u001b[0m\u001b[0;34m\u001b[0m\u001b[0m\n\u001b[0m",
            "\u001b[0;32m/usr/local/lib/python3.10/dist-packages/lamini/runners/base_runner.py\u001b[0m in \u001b[0;36m__call__\u001b[0;34m(self, prompt, system_prompt, output_type, max_tokens)\u001b[0m\n\u001b[1;32m     37\u001b[0m         \u001b[0mmax_tokens\u001b[0m\u001b[0;34m:\u001b[0m \u001b[0mOptional\u001b[0m\u001b[0;34m[\u001b[0m\u001b[0mint\u001b[0m\u001b[0;34m]\u001b[0m \u001b[0;34m=\u001b[0m \u001b[0;32mNone\u001b[0m\u001b[0;34m,\u001b[0m\u001b[0;34m\u001b[0m\u001b[0;34m\u001b[0m\u001b[0m\n\u001b[1;32m     38\u001b[0m     ):\n\u001b[0;32m---> 39\u001b[0;31m         \u001b[0;32mreturn\u001b[0m \u001b[0mself\u001b[0m\u001b[0;34m.\u001b[0m\u001b[0mcall\u001b[0m\u001b[0;34m(\u001b[0m\u001b[0mprompt\u001b[0m\u001b[0;34m,\u001b[0m \u001b[0msystem_prompt\u001b[0m\u001b[0;34m,\u001b[0m \u001b[0moutput_type\u001b[0m\u001b[0;34m,\u001b[0m \u001b[0mmax_tokens\u001b[0m\u001b[0;34m)\u001b[0m\u001b[0;34m\u001b[0m\u001b[0;34m\u001b[0m\u001b[0m\n\u001b[0m\u001b[1;32m     40\u001b[0m \u001b[0;34m\u001b[0m\u001b[0m\n\u001b[1;32m     41\u001b[0m     def call(\n",
            "\u001b[0;32m/usr/local/lib/python3.10/dist-packages/lamini/runners/base_runner.py\u001b[0m in \u001b[0;36mcall\u001b[0;34m(self, prompt, system_prompt, output_type, max_tokens)\u001b[0m\n\u001b[1;32m     48\u001b[0m         \u001b[0minput_objects\u001b[0m \u001b[0;34m=\u001b[0m \u001b[0mself\u001b[0m\u001b[0;34m.\u001b[0m\u001b[0mcreate_final_prompts\u001b[0m\u001b[0;34m(\u001b[0m\u001b[0mprompt\u001b[0m\u001b[0;34m,\u001b[0m \u001b[0msystem_prompt\u001b[0m\u001b[0;34m)\u001b[0m\u001b[0;34m\u001b[0m\u001b[0;34m\u001b[0m\u001b[0m\n\u001b[1;32m     49\u001b[0m \u001b[0;34m\u001b[0m\u001b[0m\n\u001b[0;32m---> 50\u001b[0;31m         return self.lamini_api.generate(\n\u001b[0m\u001b[1;32m     51\u001b[0m             \u001b[0mprompt\u001b[0m\u001b[0;34m=\u001b[0m\u001b[0minput_objects\u001b[0m\u001b[0;34m,\u001b[0m\u001b[0;34m\u001b[0m\u001b[0;34m\u001b[0m\u001b[0m\n\u001b[1;32m     52\u001b[0m             \u001b[0mmodel_name\u001b[0m\u001b[0;34m=\u001b[0m\u001b[0mself\u001b[0m\u001b[0;34m.\u001b[0m\u001b[0mmodel_name\u001b[0m\u001b[0;34m,\u001b[0m\u001b[0;34m\u001b[0m\u001b[0;34m\u001b[0m\u001b[0m\n",
            "\u001b[0;32m/usr/local/lib/python3.10/dist-packages/lamini/api/lamini.py\u001b[0m in \u001b[0;36mgenerate\u001b[0;34m(self, prompt, model_name, output_type, max_tokens, max_new_tokens, callback)\u001b[0m\n\u001b[1;32m     67\u001b[0m                 \u001b[0mmax_new_tokens\u001b[0m\u001b[0;34m=\u001b[0m\u001b[0mmax_new_tokens\u001b[0m\u001b[0;34m,\u001b[0m\u001b[0;34m\u001b[0m\u001b[0;34m\u001b[0m\u001b[0m\n\u001b[1;32m     68\u001b[0m             )\n\u001b[0;32m---> 69\u001b[0;31m             \u001b[0mresult\u001b[0m \u001b[0;34m=\u001b[0m \u001b[0mself\u001b[0m\u001b[0;34m.\u001b[0m\u001b[0mcompletion\u001b[0m\u001b[0;34m.\u001b[0m\u001b[0mgenerate\u001b[0m\u001b[0;34m(\u001b[0m\u001b[0mreq_data\u001b[0m\u001b[0;34m)\u001b[0m\u001b[0;34m\u001b[0m\u001b[0;34m\u001b[0m\u001b[0m\n\u001b[0m\u001b[1;32m     70\u001b[0m             \u001b[0;32mif\u001b[0m \u001b[0moutput_type\u001b[0m \u001b[0;32mis\u001b[0m \u001b[0;32mNone\u001b[0m\u001b[0;34m:\u001b[0m\u001b[0;34m\u001b[0m\u001b[0;34m\u001b[0m\u001b[0m\n\u001b[1;32m     71\u001b[0m                 \u001b[0mresult\u001b[0m \u001b[0;34m=\u001b[0m \u001b[0mresult\u001b[0m\u001b[0;34m[\u001b[0m\u001b[0;34m\"output\"\u001b[0m\u001b[0;34m]\u001b[0m\u001b[0;34m\u001b[0m\u001b[0;34m\u001b[0m\u001b[0m\n",
            "\u001b[0;32m/usr/local/lib/python3.10/dist-packages/lamini/api/utils/completion.py\u001b[0m in \u001b[0;36mgenerate\u001b[0;34m(self, params)\u001b[0m\n\u001b[1;32m     13\u001b[0m \u001b[0;34m\u001b[0m\u001b[0m\n\u001b[1;32m     14\u001b[0m     \u001b[0;32mdef\u001b[0m \u001b[0mgenerate\u001b[0m\u001b[0;34m(\u001b[0m\u001b[0mself\u001b[0m\u001b[0;34m,\u001b[0m \u001b[0mparams\u001b[0m\u001b[0;34m)\u001b[0m\u001b[0;34m:\u001b[0m\u001b[0;34m\u001b[0m\u001b[0;34m\u001b[0m\u001b[0m\n\u001b[0;32m---> 15\u001b[0;31m         resp = make_web_request(\n\u001b[0m\u001b[1;32m     16\u001b[0m             \u001b[0mself\u001b[0m\u001b[0;34m.\u001b[0m\u001b[0mapi_key\u001b[0m\u001b[0;34m,\u001b[0m \u001b[0mself\u001b[0m\u001b[0;34m.\u001b[0m\u001b[0mapi_prefix\u001b[0m \u001b[0;34m+\u001b[0m \u001b[0;34m\"completions\"\u001b[0m\u001b[0;34m,\u001b[0m \u001b[0;34m\"post\"\u001b[0m\u001b[0;34m,\u001b[0m \u001b[0mparams\u001b[0m\u001b[0;34m\u001b[0m\u001b[0;34m\u001b[0m\u001b[0m\n\u001b[1;32m     17\u001b[0m         )\n",
            "\u001b[0;32m/usr/local/lib/python3.10/dist-packages/lamini/api/rest_requests.py\u001b[0m in \u001b[0;36mmake_web_request\u001b[0;34m(key, url, http_method, json)\u001b[0m\n\u001b[1;32m    177\u001b[0m                 \u001b[0;32mif\u001b[0m \u001b[0mdescription\u001b[0m \u001b[0;34m==\u001b[0m \u001b[0;34m{\u001b[0m\u001b[0;34m\"detail\"\u001b[0m\u001b[0;34m:\u001b[0m \u001b[0;34m\"\"\u001b[0m\u001b[0;34m}\u001b[0m\u001b[0;34m:\u001b[0m\u001b[0;34m\u001b[0m\u001b[0;34m\u001b[0m\u001b[0m\n\u001b[1;32m    178\u001b[0m                     \u001b[0;32mraise\u001b[0m \u001b[0mAPIError\u001b[0m\u001b[0;34m(\u001b[0m\u001b[0;34m\"500 Internal Server Error\"\u001b[0m\u001b[0;34m)\u001b[0m\u001b[0;34m\u001b[0m\u001b[0;34m\u001b[0m\u001b[0m\n\u001b[0;32m--> 179\u001b[0;31m                 \u001b[0;32mraise\u001b[0m \u001b[0mAPIError\u001b[0m\u001b[0;34m(\u001b[0m\u001b[0;34mf\"API error {description}\"\u001b[0m\u001b[0;34m)\u001b[0m\u001b[0;34m\u001b[0m\u001b[0;34m\u001b[0m\u001b[0m\n\u001b[0m\u001b[1;32m    180\u001b[0m \u001b[0;34m\u001b[0m\u001b[0m\n\u001b[1;32m    181\u001b[0m     \u001b[0;32mreturn\u001b[0m \u001b[0mresp\u001b[0m\u001b[0;34m.\u001b[0m\u001b[0mjson\u001b[0m\u001b[0;34m(\u001b[0m\u001b[0;34m)\u001b[0m\u001b[0;34m\u001b[0m\u001b[0;34m\u001b[0m\u001b[0m\n",
            "\u001b[0;31mAPIError\u001b[0m: API error {'detail': \"Currently this user has support for base models: ['hf-internal-testing/tiny-random-gpt2', 'EleutherAI/pythia-70m', 'EleutherAI/pythia-70m-deduped', 'EleutherAI/pythia-70m-v0', 'EleutherAI/pythia-70m-deduped-v0', 'EleutherAI/neox-ckpt-pythia-70m-deduped-v0', 'EleutherAI/neox-ckpt-pythia-70m-v1', 'EleutherAI/neox-ckpt-pythia-70m-deduped-v1', 'EleutherAI/gpt-neo-125m', 'EleutherAI/pythia-160m', 'EleutherAI/pythia-160m-deduped', 'EleutherAI/pythia-160m-deduped-v0', 'EleutherAI/neox-ckpt-pythia-70m', 'EleutherAI/neox-ckpt-pythia-160m', 'EleutherAI/neox-ckpt-pythia-160m-deduped-v1', 'EleutherAI/pythia-2.8b', 'EleutherAI/pythia-410m', 'EleutherAI/pythia-410m-v0', 'EleutherAI/pythia-410m-deduped', 'EleutherAI/pythia-410m-deduped-v0', 'EleutherAI/neox-ckpt-pythia-410m', 'EleutherAI/neox-ckpt-pythia-410m-deduped-v1', 'cerebras/Cerebras-GPT-111M', 'cerebras/Cerebras-GPT-256M', 'meta-llama/Llama-2-7b-hf', 'meta-llama/Llama-2-7b-chat-hf', 'meta-llama/Llama-2-13b-chat-hf', 'meta-llama/Llama-2-70b-chat-hf', 'Intel/neural-chat-7b-v3-1', 'mistralai/Mistral-7B-Instruct-v0.1', 'microsoft/phi-2']. Need help? Email us at info@lamini.ai\"}"
          ]
        }
      ],
      "source": [
        "# print(chatgpt(\"Tell me how to train my dog to sit\"))"
      ]
    }
  ],
  "metadata": {
    "colab": {
      "gpuType": "T4",
      "provenance": [],
      "include_colab_link": true
    },
    "kernelspec": {
      "display_name": "Python 3",
      "name": "python3"
    },
    "language_info": {
      "codemirror_mode": {
        "name": "ipython",
        "version": 3
      },
      "file_extension": ".py",
      "mimetype": "text/x-python",
      "name": "python",
      "nbconvert_exporter": "python",
      "pygments_lexer": "ipython3",
      "version": "3.9.18"
    },
    "accelerator": "GPU"
  },
  "nbformat": 4,
  "nbformat_minor": 0
}