{
  "cells": [
    {
      "cell_type": "markdown",
      "metadata": {
        "id": "view-in-github",
        "colab_type": "text"
      },
      "source": [
        "<a href=\"https://colab.research.google.com/github/dngg6688/LLM_Studycamp/blob/main/8.Finetuning%20Large%20Language%20Models/05_Training_lab_student.ipynb\" target=\"_parent\"><img src=\"https://colab.research.google.com/assets/colab-badge.svg\" alt=\"Open In Colab\"/></a>"
      ]
    },
    {
      "cell_type": "markdown",
      "metadata": {
        "id": "vtPJM9ZAxuGl"
      },
      "source": [
        "# Training"
      ]
    },
    {
      "cell_type": "markdown",
      "source": [
        "**試過無法執行只能在官網執行後上傳github **"
      ],
      "metadata": {
        "id": "8dr5QYcMxznD"
      }
    },
    {
      "cell_type": "markdown",
      "metadata": {
        "id": "ozJEJi6d06SG",
        "tags": []
      },
      "source": [
        "## Technically, it's only a few lines of code to run on GPUs (elsewhere, ie. on Lamini).\n",
        "```\n",
        "from llama import BasicModelRunner\n",
        "\n",
        "model = BasicModelRunner(\"EleutherAI/pythia-410m\")\n",
        "model.load_data_from_jsonlines(\"lamini_docs.jsonl\", input_key=\"question\", output_key=\"answer\")\n",
        "model.train(is_public=True)\n",
        "\n",
        "\n",
        "```\n",
        "1. Choose base model.\n",
        "2. Load data.\n",
        "3. Train it. Returns a model ID, dashboard, and playground interface.\n",
        "\n",
        "### Let's look under the hood at the core code running this! This is the open core of Lamini's `llama` library :)"
      ]
    },
    {
      "cell_type": "code",
      "execution_count": null,
      "metadata": {
        "height": 30,
        "id": "ehr1tussxuGq"
      },
      "outputs": [],
      "source": [
        "import os\n",
        "import lamini\n",
        "\n",
        "lamini.api_url = os.getenv(\"POWERML__PRODUCTION__URL\")\n",
        "lamini.api_key = os.getenv(\"POWERML__PRODUCTION__KEY\")"
      ]
    },
    {
      "cell_type": "code",
      "execution_count": null,
      "metadata": {
        "height": 404,
        "id": "b-Ro18EcxuGr"
      },
      "outputs": [],
      "source": [
        "import datasets\n",
        "import tempfile\n",
        "import logging\n",
        "import random\n",
        "import config\n",
        "import os\n",
        "import yaml\n",
        "import time\n",
        "import torch\n",
        "import transformers\n",
        "import pandas as pd\n",
        "import jsonlines\n",
        "\n",
        "from utilities import *\n",
        "from transformers import AutoTokenizer\n",
        "from transformers import AutoModelForCausalLM\n",
        "from transformers import TrainingArguments\n",
        "from transformers import AutoModelForCausalLM\n",
        "from llama import BasicModelRunner\n",
        "\n",
        "\n",
        "logger = logging.getLogger(__name__)\n",
        "global_config = None"
      ]
    },
    {
      "cell_type": "markdown",
      "metadata": {
        "id": "pheaBjh9xuGs"
      },
      "source": [
        "### Load the Lamini docs dataset"
      ]
    },
    {
      "cell_type": "code",
      "execution_count": null,
      "metadata": {
        "height": 64,
        "id": "Q5mt5nlNxuGs"
      },
      "outputs": [],
      "source": [
        "dataset_name = \"lamini_docs.jsonl\"\n",
        "dataset_path = f\"/content/{dataset_name}\"\n",
        "use_hf = False"
      ]
    },
    {
      "cell_type": "code",
      "execution_count": null,
      "metadata": {
        "height": 47,
        "id": "QUd2P5DoxuGs"
      },
      "outputs": [],
      "source": [
        "dataset_path = \"lamini/lamini_docs\"\n",
        "use_hf = True"
      ]
    },
    {
      "cell_type": "markdown",
      "metadata": {
        "id": "-3r2w4FaxuGt"
      },
      "source": [
        "### Set up the model, training config, and tokenizer"
      ]
    },
    {
      "cell_type": "code",
      "execution_count": null,
      "metadata": {
        "height": 30,
        "id": "tqiiG0LxxuGt"
      },
      "outputs": [],
      "source": [
        "model_name = \"EleutherAI/pythia-70m\""
      ]
    },
    {
      "cell_type": "code",
      "execution_count": null,
      "metadata": {
        "height": 200,
        "id": "9BqsIJwMxuGt"
      },
      "outputs": [],
      "source": [
        "training_config = {\n",
        "    \"model\": {\n",
        "        \"pretrained_name\": model_name,\n",
        "        \"max_length\" : 2048\n",
        "    },\n",
        "    \"datasets\": {\n",
        "        \"use_hf\": use_hf,\n",
        "        \"path\": dataset_path\n",
        "    },\n",
        "    \"verbose\": True\n",
        "}"
      ]
    },
    {
      "cell_type": "code",
      "execution_count": null,
      "metadata": {
        "height": 115,
        "colab": {
          "referenced_widgets": [
            "76e280527381497182bda7a2094feb28",
            "690a6a4962904b80b22b793d2a53880b",
            "2b5eab287c644b7daa4d355eae5af2b6",
            "2ebed76eb1494d44af4c46413fa8df08",
            "bcf79a59c6fe418e8775c723f4deec60",
            "a35a7f0c076948dcb2e7f2ea541ae728",
            "34bfa0333b57479f8b1f3b0b3e0a34d4",
            "87e541a9921a49bb8d08e3a1bb4c7468",
            "9789ae11a9864a72bccf448ddfb5f6be",
            "7b977e6cf53d4f10b4584caf7411949e"
          ]
        },
        "id": "AAHWAbWJxuGt",
        "outputId": "7c131bb1-1925-4a8e-e0c3-8a64b5ef5c1d"
      },
      "outputs": [
        {
          "data": {
            "application/vnd.jupyter.widget-view+json": {
              "model_id": "76e280527381497182bda7a2094feb28",
              "version_major": 2,
              "version_minor": 0
            },
            "text/plain": [
              "tokenizer_config.json:   0%|          | 0.00/396 [00:00<?, ?B/s]"
            ]
          },
          "metadata": {},
          "output_type": "display_data"
        },
        {
          "data": {
            "application/vnd.jupyter.widget-view+json": {
              "model_id": "690a6a4962904b80b22b793d2a53880b",
              "version_major": 2,
              "version_minor": 0
            },
            "text/plain": [
              "tokenizer.json:   0%|          | 0.00/2.11M [00:00<?, ?B/s]"
            ]
          },
          "metadata": {},
          "output_type": "display_data"
        },
        {
          "data": {
            "application/vnd.jupyter.widget-view+json": {
              "model_id": "2b5eab287c644b7daa4d355eae5af2b6",
              "version_major": 2,
              "version_minor": 0
            },
            "text/plain": [
              "special_tokens_map.json:   0%|          | 0.00/99.0 [00:00<?, ?B/s]"
            ]
          },
          "metadata": {},
          "output_type": "display_data"
        },
        {
          "name": "stderr",
          "output_type": "stream",
          "text": [
            "2024-02-20 08:06:32,048 - DEBUG - utilities - Config: datasets.path: lamini/lamini_docs\n",
            "datasets.use_hf: true\n",
            "model.max_length: 2048\n",
            "model.pretrained_name: EleutherAI/pythia-70m\n",
            "verbose: true\n",
            "\n"
          ]
        },
        {
          "name": "stdout",
          "output_type": "stream",
          "text": [
            "tokenize True lamini/lamini_docs\n"
          ]
        },
        {
          "data": {
            "application/vnd.jupyter.widget-view+json": {
              "model_id": "2ebed76eb1494d44af4c46413fa8df08",
              "version_major": 2,
              "version_minor": 0
            },
            "text/plain": [
              "Downloading readme:   0%|          | 0.00/577 [00:00<?, ?B/s]"
            ]
          },
          "metadata": {},
          "output_type": "display_data"
        },
        {
          "data": {
            "application/vnd.jupyter.widget-view+json": {
              "model_id": "bcf79a59c6fe418e8775c723f4deec60",
              "version_major": 2,
              "version_minor": 0
            },
            "text/plain": [
              "Downloading data files:   0%|          | 0/2 [00:00<?, ?it/s]"
            ]
          },
          "metadata": {},
          "output_type": "display_data"
        },
        {
          "data": {
            "application/vnd.jupyter.widget-view+json": {
              "model_id": "a35a7f0c076948dcb2e7f2ea541ae728",
              "version_major": 2,
              "version_minor": 0
            },
            "text/plain": [
              "Downloading data:   0%|          | 0.00/615k [00:00<?, ?B/s]"
            ]
          },
          "metadata": {},
          "output_type": "display_data"
        },
        {
          "name": "stderr",
          "output_type": "stream",
          "text": [
            "2024-02-20 08:06:34,592 - DEBUG - fsspec - <File-like object HfFileSystem, datasets/lamini/lamini_docs@05bd680b81d69a7a1d38193873f1487d73e535bf/data/train-00000-of-00001-5cdebbc48da41394.parquet> read: 0 - 4194304\n",
            "2024-02-20 08:06:34,739 - DEBUG - fsspec - <File-like object HfFileSystem, datasets/lamini/lamini_docs@05bd680b81d69a7a1d38193873f1487d73e535bf/data/train-00000-of-00001-5cdebbc48da41394.parquet> read: 614936 - 4809240\n"
          ]
        },
        {
          "data": {
            "application/vnd.jupyter.widget-view+json": {
              "model_id": "34bfa0333b57479f8b1f3b0b3e0a34d4",
              "version_major": 2,
              "version_minor": 0
            },
            "text/plain": [
              "Downloading data:   0%|          | 0.00/83.7k [00:00<?, ?B/s]"
            ]
          },
          "metadata": {},
          "output_type": "display_data"
        },
        {
          "name": "stderr",
          "output_type": "stream",
          "text": [
            "2024-02-20 08:06:34,752 - DEBUG - fsspec - <File-like object HfFileSystem, datasets/lamini/lamini_docs@05bd680b81d69a7a1d38193873f1487d73e535bf/data/test-00000-of-00001-4c77a066a883f339.parquet> read: 0 - 4194304\n",
            "2024-02-20 08:06:34,840 - DEBUG - fsspec - <File-like object HfFileSystem, datasets/lamini/lamini_docs@05bd680b81d69a7a1d38193873f1487d73e535bf/data/test-00000-of-00001-4c77a066a883f339.parquet> read: 83671 - 4277975\n"
          ]
        },
        {
          "data": {
            "application/vnd.jupyter.widget-view+json": {
              "model_id": "87e541a9921a49bb8d08e3a1bb4c7468",
              "version_major": 2,
              "version_minor": 0
            },
            "text/plain": [
              "Extracting data files:   0%|          | 0/2 [00:00<?, ?it/s]"
            ]
          },
          "metadata": {},
          "output_type": "display_data"
        },
        {
          "data": {
            "application/vnd.jupyter.widget-view+json": {
              "model_id": "9789ae11a9864a72bccf448ddfb5f6be",
              "version_major": 2,
              "version_minor": 0
            },
            "text/plain": [
              "Generating train split:   0%|          | 0/1260 [00:00<?, ? examples/s]"
            ]
          },
          "metadata": {},
          "output_type": "display_data"
        },
        {
          "name": "stderr",
          "output_type": "stream",
          "text": [
            "2024-02-20 08:06:34,869 - DEBUG - fsspec.local - open file: /home/jovyan/.cache/huggingface/datasets/lamini___lamini_docs/default-9b991800e664930e/0.0.0/0111277fb19b16f696664cde7f0cb90f833dec72db2cc73cfdf87e697f78fe02.incomplete/lamini_docs-train-00000-00000-of-NNNNN.arrow\n"
          ]
        },
        {
          "data": {
            "application/vnd.jupyter.widget-view+json": {
              "model_id": "7b977e6cf53d4f10b4584caf7411949e",
              "version_major": 2,
              "version_minor": 0
            },
            "text/plain": [
              "Generating test split:   0%|          | 0/140 [00:00<?, ? examples/s]"
            ]
          },
          "metadata": {},
          "output_type": "display_data"
        },
        {
          "name": "stderr",
          "output_type": "stream",
          "text": [
            "2024-02-20 08:06:34,887 - DEBUG - fsspec.local - open file: /home/jovyan/.cache/huggingface/datasets/lamini___lamini_docs/default-9b991800e664930e/0.0.0/0111277fb19b16f696664cde7f0cb90f833dec72db2cc73cfdf87e697f78fe02.incomplete/lamini_docs-test-00000-00000-of-NNNNN.arrow\n",
            "2024-02-20 08:06:34,890 - DEBUG - fsspec.local - open file: /home/jovyan/.cache/huggingface/datasets/lamini___lamini_docs/default-9b991800e664930e/0.0.0/0111277fb19b16f696664cde7f0cb90f833dec72db2cc73cfdf87e697f78fe02.incomplete/dataset_info.json\n"
          ]
        },
        {
          "name": "stdout",
          "output_type": "stream",
          "text": [
            "Dataset({\n",
            "    features: ['question', 'answer', 'input_ids', 'attention_mask', 'labels'],\n",
            "    num_rows: 1260\n",
            "})\n",
            "Dataset({\n",
            "    features: ['question', 'answer', 'input_ids', 'attention_mask', 'labels'],\n",
            "    num_rows: 140\n",
            "})\n"
          ]
        }
      ],
      "source": [
        "tokenizer = AutoTokenizer.from_pretrained(model_name)\n",
        "tokenizer.pad_token = tokenizer.eos_token\n",
        "train_dataset, test_dataset = tokenize_and_split_data(training_config, tokenizer)\n",
        "\n",
        "print(train_dataset)\n",
        "print(test_dataset)"
      ]
    },
    {
      "cell_type": "markdown",
      "metadata": {
        "id": "rhW257ipxuGu"
      },
      "source": [
        "### Load the base model"
      ]
    },
    {
      "cell_type": "code",
      "execution_count": null,
      "metadata": {
        "height": 30,
        "colab": {
          "referenced_widgets": [
            "0c11afc45e6848d3ba680bd712451f8f",
            "180bfb92e2e74e64bbad8078f201c318"
          ]
        },
        "id": "IssajO9UxuGu",
        "outputId": "17389e31-99c9-45d9-9107-7111caf20d9b"
      },
      "outputs": [
        {
          "data": {
            "application/vnd.jupyter.widget-view+json": {
              "model_id": "0c11afc45e6848d3ba680bd712451f8f",
              "version_major": 2,
              "version_minor": 0
            },
            "text/plain": [
              "config.json:   0%|          | 0.00/567 [00:00<?, ?B/s]"
            ]
          },
          "metadata": {},
          "output_type": "display_data"
        },
        {
          "data": {
            "application/vnd.jupyter.widget-view+json": {
              "model_id": "180bfb92e2e74e64bbad8078f201c318",
              "version_major": 2,
              "version_minor": 0
            },
            "text/plain": [
              "model.safetensors:   0%|          | 0.00/166M [00:00<?, ?B/s]"
            ]
          },
          "metadata": {},
          "output_type": "display_data"
        }
      ],
      "source": [
        "base_model = AutoModelForCausalLM.from_pretrained(model_name)"
      ]
    },
    {
      "cell_type": "code",
      "execution_count": null,
      "metadata": {
        "height": 132,
        "id": "uVx_hiTOxuGv",
        "outputId": "04edd438-7eb6-4e16-e32c-d729f92f9dec"
      },
      "outputs": [
        {
          "name": "stderr",
          "output_type": "stream",
          "text": [
            "2024-02-20 08:06:46,361 - DEBUG - __main__ - Select CPU device\n"
          ]
        }
      ],
      "source": [
        "device_count = torch.cuda.device_count()\n",
        "if device_count > 0:\n",
        "    logger.debug(\"Select GPU device\")\n",
        "    device = torch.device(\"cuda\")\n",
        "else:\n",
        "    logger.debug(\"Select CPU device\")\n",
        "    device = torch.device(\"cpu\")"
      ]
    },
    {
      "cell_type": "code",
      "execution_count": null,
      "metadata": {
        "height": 30,
        "id": "Dp9h6YapxuGv",
        "outputId": "73ff60b0-7534-43db-94d7-8bc9cd7b270c"
      },
      "outputs": [
        {
          "data": {
            "text/plain": [
              "GPTNeoXForCausalLM(\n",
              "  (gpt_neox): GPTNeoXModel(\n",
              "    (embed_in): Embedding(50304, 512)\n",
              "    (emb_dropout): Dropout(p=0.0, inplace=False)\n",
              "    (layers): ModuleList(\n",
              "      (0-5): 6 x GPTNeoXLayer(\n",
              "        (input_layernorm): LayerNorm((512,), eps=1e-05, elementwise_affine=True)\n",
              "        (post_attention_layernorm): LayerNorm((512,), eps=1e-05, elementwise_affine=True)\n",
              "        (post_attention_dropout): Dropout(p=0.0, inplace=False)\n",
              "        (post_mlp_dropout): Dropout(p=0.0, inplace=False)\n",
              "        (attention): GPTNeoXAttention(\n",
              "          (rotary_emb): GPTNeoXRotaryEmbedding()\n",
              "          (query_key_value): Linear(in_features=512, out_features=1536, bias=True)\n",
              "          (dense): Linear(in_features=512, out_features=512, bias=True)\n",
              "          (attention_dropout): Dropout(p=0.0, inplace=False)\n",
              "        )\n",
              "        (mlp): GPTNeoXMLP(\n",
              "          (dense_h_to_4h): Linear(in_features=512, out_features=2048, bias=True)\n",
              "          (dense_4h_to_h): Linear(in_features=2048, out_features=512, bias=True)\n",
              "          (act): GELUActivation()\n",
              "        )\n",
              "      )\n",
              "    )\n",
              "    (final_layer_norm): LayerNorm((512,), eps=1e-05, elementwise_affine=True)\n",
              "  )\n",
              "  (embed_out): Linear(in_features=512, out_features=50304, bias=False)\n",
              ")"
            ]
          },
          "execution_count": 10,
          "metadata": {},
          "output_type": "execute_result"
        }
      ],
      "source": [
        "base_model.to(device)"
      ]
    },
    {
      "cell_type": "markdown",
      "metadata": {
        "tags": [],
        "id": "EOkVA2lbxuGw"
      },
      "source": [
        "### Define function to carry out inference"
      ]
    },
    {
      "cell_type": "code",
      "execution_count": null,
      "metadata": {
        "height": 404,
        "id": "yLcTnSHrxuGw"
      },
      "outputs": [],
      "source": [
        "def inference(text, model, tokenizer, max_input_tokens=1000, max_output_tokens=100):\n",
        "  # Tokenize\n",
        "  input_ids = tokenizer.encode(\n",
        "          text,\n",
        "          return_tensors=\"pt\",\n",
        "          truncation=True,\n",
        "          max_length=max_input_tokens\n",
        "  )\n",
        "\n",
        "  # Generate\n",
        "  device = model.device\n",
        "  generated_tokens_with_prompt = model.generate(\n",
        "    input_ids=input_ids.to(device),\n",
        "    max_length=max_output_tokens\n",
        "  )\n",
        "\n",
        "  # Decode\n",
        "  generated_text_with_prompt = tokenizer.batch_decode(generated_tokens_with_prompt, skip_special_tokens=True)\n",
        "\n",
        "  # Strip the prompt\n",
        "  generated_text_answer = generated_text_with_prompt[0][len(text):]\n",
        "\n",
        "  return generated_text_answer"
      ]
    },
    {
      "cell_type": "markdown",
      "metadata": {
        "id": "cB4kuUM2xuGw"
      },
      "source": [
        "### Try the base model"
      ]
    },
    {
      "cell_type": "code",
      "execution_count": null,
      "metadata": {
        "height": 98,
        "id": "znQTsyz-xuGw",
        "outputId": "9edab087-8438-4383-fdee-3cd851bdb883"
      },
      "outputs": [
        {
          "name": "stderr",
          "output_type": "stream",
          "text": [
            "The attention mask and the pad token id were not set. As a consequence, you may observe unexpected behavior. Please pass your input's `attention_mask` to obtain reliable results.\n",
            "Setting `pad_token_id` to `eos_token_id`:0 for open-end generation.\n"
          ]
        },
        {
          "name": "stdout",
          "output_type": "stream",
          "text": [
            "Question input (test): Can Lamini generate technical documentation or user manuals for software projects?\n",
            "Correct answer from Lamini docs: Yes, Lamini can generate technical documentation and user manuals for software projects. It uses natural language generation techniques to create clear and concise documentation that is easy to understand for both technical and non-technical users. This can save developers a significant amount of time and effort in creating documentation, allowing them to focus on other aspects of their projects.\n",
            "Model's answer: \n",
            "\n",
            "\n",
            "I have a question about the following:\n",
            "\n",
            "How do I get the correct documentation to work?\n",
            "\n",
            "A:\n",
            "\n",
            "I think you need to use the following code:\n",
            "\n",
            "A:\n",
            "\n",
            "You can use the following code to get the correct documentation.\n",
            "\n",
            "A:\n",
            "\n",
            "You can use the following code to get the correct documentation.\n",
            "\n",
            "A:\n",
            "\n",
            "You can use the following\n"
          ]
        }
      ],
      "source": [
        "test_text = test_dataset[0]['question']\n",
        "print(\"Question input (test):\", test_text)\n",
        "print(f\"Correct answer from Lamini docs: {test_dataset[0]['answer']}\")\n",
        "print(\"Model's answer: \")\n",
        "print(inference(test_text, base_model, tokenizer))"
      ]
    },
    {
      "cell_type": "markdown",
      "metadata": {
        "id": "73EU_qjdxuGx"
      },
      "source": [
        "### Setup training"
      ]
    },
    {
      "cell_type": "code",
      "execution_count": null,
      "metadata": {
        "height": 30,
        "id": "nf46gXHxxuGx"
      },
      "outputs": [],
      "source": [
        "max_steps = 3"
      ]
    },
    {
      "cell_type": "code",
      "execution_count": null,
      "metadata": {
        "height": 47,
        "id": "lSh8i3o2xuGx"
      },
      "outputs": [],
      "source": [
        "trained_model_name = f\"lamini_docs_{max_steps}_steps\"\n",
        "output_dir = trained_model_name"
      ]
    },
    {
      "cell_type": "code",
      "execution_count": null,
      "metadata": {
        "height": 659,
        "id": "uQ0V4I2wxuGx"
      },
      "outputs": [],
      "source": [
        "training_args = TrainingArguments(\n",
        "\n",
        "  # Learning rate\n",
        "  learning_rate=1.0e-5,\n",
        "\n",
        "  # Number of training epochs\n",
        "  num_train_epochs=1,\n",
        "\n",
        "  # Max steps to train for (each step is a batch of data)\n",
        "  # Overrides num_train_epochs, if not -1\n",
        "  max_steps=max_steps,\n",
        "\n",
        "  # Batch size for training\n",
        "  per_device_train_batch_size=1,\n",
        "\n",
        "  # Directory to save model checkpoints\n",
        "  output_dir=output_dir,\n",
        "\n",
        "  # Other arguments\n",
        "  overwrite_output_dir=False, # Overwrite the content of the output directory\n",
        "  disable_tqdm=False, # Disable progress bars\n",
        "  eval_steps=120, # Number of update steps between two evaluations\n",
        "  save_steps=120, # After # steps model is saved\n",
        "  warmup_steps=1, # Number of warmup steps for learning rate scheduler\n",
        "  per_device_eval_batch_size=1, # Batch size for evaluation\n",
        "  evaluation_strategy=\"steps\",\n",
        "  logging_strategy=\"steps\",\n",
        "  logging_steps=1,\n",
        "  optim=\"adafactor\",\n",
        "  gradient_accumulation_steps = 4,\n",
        "  gradient_checkpointing=False,\n",
        "\n",
        "  # Parameters for early stopping\n",
        "  load_best_model_at_end=True,\n",
        "  save_total_limit=1,\n",
        "  metric_for_best_model=\"eval_loss\",\n",
        "  greater_is_better=False\n",
        ")"
      ]
    },
    {
      "cell_type": "code",
      "execution_count": null,
      "metadata": {
        "height": 251,
        "id": "LdTk7jiOxuGx",
        "outputId": "f61a53a1-bd4e-4e37-ebd9-e5516a8a2da1"
      },
      "outputs": [
        {
          "name": "stdout",
          "output_type": "stream",
          "text": [
            "GPTNeoXForCausalLM(\n",
            "  (gpt_neox): GPTNeoXModel(\n",
            "    (embed_in): Embedding(50304, 512)\n",
            "    (emb_dropout): Dropout(p=0.0, inplace=False)\n",
            "    (layers): ModuleList(\n",
            "      (0-5): 6 x GPTNeoXLayer(\n",
            "        (input_layernorm): LayerNorm((512,), eps=1e-05, elementwise_affine=True)\n",
            "        (post_attention_layernorm): LayerNorm((512,), eps=1e-05, elementwise_affine=True)\n",
            "        (post_attention_dropout): Dropout(p=0.0, inplace=False)\n",
            "        (post_mlp_dropout): Dropout(p=0.0, inplace=False)\n",
            "        (attention): GPTNeoXAttention(\n",
            "          (rotary_emb): GPTNeoXRotaryEmbedding()\n",
            "          (query_key_value): Linear(in_features=512, out_features=1536, bias=True)\n",
            "          (dense): Linear(in_features=512, out_features=512, bias=True)\n",
            "          (attention_dropout): Dropout(p=0.0, inplace=False)\n",
            "        )\n",
            "        (mlp): GPTNeoXMLP(\n",
            "          (dense_h_to_4h): Linear(in_features=512, out_features=2048, bias=True)\n",
            "          (dense_4h_to_h): Linear(in_features=2048, out_features=512, bias=True)\n",
            "          (act): GELUActivation()\n",
            "        )\n",
            "      )\n",
            "    )\n",
            "    (final_layer_norm): LayerNorm((512,), eps=1e-05, elementwise_affine=True)\n",
            "  )\n",
            "  (embed_out): Linear(in_features=512, out_features=50304, bias=False)\n",
            ")\n",
            "Memory footprint 0.30687256 GB\n",
            "Flops 2195.667812352 GFLOPs\n"
          ]
        }
      ],
      "source": [
        "model_flops = (\n",
        "  base_model.floating_point_ops(\n",
        "    {\n",
        "       \"input_ids\": torch.zeros(\n",
        "           (1, training_config[\"model\"][\"max_length\"])\n",
        "      )\n",
        "    }\n",
        "  )\n",
        "  * training_args.gradient_accumulation_steps\n",
        ")\n",
        "\n",
        "print(base_model)\n",
        "print(\"Memory footprint\", base_model.get_memory_footprint() / 1e9, \"GB\")\n",
        "print(\"Flops\", model_flops / 1e9, \"GFLOPs\")"
      ]
    },
    {
      "cell_type": "code",
      "execution_count": null,
      "metadata": {
        "height": 149,
        "id": "lyCcWn6NxuGy"
      },
      "outputs": [],
      "source": [
        "trainer = Trainer(\n",
        "    model=base_model,\n",
        "    model_flops=model_flops,\n",
        "    total_steps=max_steps,\n",
        "    args=training_args,\n",
        "    train_dataset=train_dataset,\n",
        "    eval_dataset=test_dataset,\n",
        ")"
      ]
    },
    {
      "cell_type": "markdown",
      "metadata": {
        "id": "eL8jJ_jCxuGy"
      },
      "source": [
        "### Train a few steps"
      ]
    },
    {
      "cell_type": "code",
      "execution_count": null,
      "metadata": {
        "height": 30,
        "id": "iurSRdcUxuGy",
        "outputId": "f2b6dcb1-f88b-43e8-a2ef-55429bde4e79"
      },
      "outputs": [
        {
          "data": {
            "text/html": [
              "\n",
              "    <div>\n",
              "      \n",
              "      <progress value='3' max='3' style='width:300px; height:20px; vertical-align: middle;'></progress>\n",
              "      [3/3 00:12, Epoch 0/1]\n",
              "    </div>\n",
              "    <table border=\"1\" class=\"dataframe\">\n",
              "  <thead>\n",
              " <tr style=\"text-align: left;\">\n",
              "      <th>Step</th>\n",
              "      <th>Training Loss</th>\n",
              "      <th>Validation Loss</th>\n",
              "    </tr>\n",
              "  </thead>\n",
              "  <tbody>\n",
              "  </tbody>\n",
              "</table><p>"
            ],
            "text/plain": [
              "<IPython.core.display.HTML object>"
            ]
          },
          "metadata": {},
          "output_type": "display_data"
        },
        {
          "name": "stderr",
          "output_type": "stream",
          "text": [
            "2024-02-20 08:07:38,063 - DEBUG - utilities - Step (1) Logs: {'loss': 3.3406, 'learning_rate': 1e-05, 'epoch': 0.0, 'iter_time': 0.0, 'flops': 0.0, 'remaining_time': 0.0}\n",
            "2024-02-20 08:07:44,358 - DEBUG - utilities - Step (2) Logs: {'loss': 3.2429, 'learning_rate': 5e-06, 'epoch': 0.01, 'iter_time': 6.295259475708008, 'flops': 348781145689.79865, 'remaining_time': 6.295259475708008}\n",
            "2024-02-20 08:07:50,260 - DEBUG - utilities - Step (3) Logs: {'loss': 3.4016, 'learning_rate': 0.0, 'epoch': 0.01, 'iter_time': 6.098819136619568, 'flops': 360015236255.884, 'remaining_time': 0.0}\n",
            "2024-02-20 08:07:50,261 - DEBUG - utilities - Step (3) Logs: {'train_runtime': 18.9829, 'train_samples_per_second': 0.632, 'train_steps_per_second': 0.158, 'total_flos': 262933364736.0, 'train_loss': 3.3283629417419434, 'epoch': 0.01, 'iter_time': 6.0992690324783325, 'flops': 359988680718.97925, 'remaining_time': 0.0}\n"
          ]
        }
      ],
      "source": [
        "training_output = trainer.train()"
      ]
    },
    {
      "cell_type": "markdown",
      "metadata": {
        "id": "jDEYG-BYxuGy"
      },
      "source": [
        "### Save model locally"
      ]
    },
    {
      "cell_type": "code",
      "execution_count": null,
      "metadata": {
        "height": 81,
        "id": "StxipGjXxuGy",
        "outputId": "9eeb4f50-4971-4359-fb5d-aa1ad59cd0f3"
      },
      "outputs": [
        {
          "name": "stdout",
          "output_type": "stream",
          "text": [
            "Saved model to: lamini_docs_3_steps/final\n"
          ]
        }
      ],
      "source": [
        "save_dir = f'{output_dir}/final'\n",
        "\n",
        "trainer.save_model(save_dir)\n",
        "print(\"Saved model to:\", save_dir)"
      ]
    },
    {
      "cell_type": "code",
      "execution_count": null,
      "metadata": {
        "height": 47,
        "id": "4JKgrFDkxuGz"
      },
      "outputs": [],
      "source": [
        "finetuned_slightly_model = AutoModelForCausalLM.from_pretrained(save_dir, local_files_only=True)\n"
      ]
    },
    {
      "cell_type": "code",
      "execution_count": null,
      "metadata": {
        "height": 47,
        "id": "Tpd8aGpWxuGz",
        "outputId": "da265837-deef-41ea-f7bc-2a9f1c20073c"
      },
      "outputs": [
        {
          "data": {
            "text/plain": [
              "GPTNeoXForCausalLM(\n",
              "  (gpt_neox): GPTNeoXModel(\n",
              "    (embed_in): Embedding(50304, 512)\n",
              "    (emb_dropout): Dropout(p=0.0, inplace=False)\n",
              "    (layers): ModuleList(\n",
              "      (0-5): 6 x GPTNeoXLayer(\n",
              "        (input_layernorm): LayerNorm((512,), eps=1e-05, elementwise_affine=True)\n",
              "        (post_attention_layernorm): LayerNorm((512,), eps=1e-05, elementwise_affine=True)\n",
              "        (post_attention_dropout): Dropout(p=0.0, inplace=False)\n",
              "        (post_mlp_dropout): Dropout(p=0.0, inplace=False)\n",
              "        (attention): GPTNeoXAttention(\n",
              "          (rotary_emb): GPTNeoXRotaryEmbedding()\n",
              "          (query_key_value): Linear(in_features=512, out_features=1536, bias=True)\n",
              "          (dense): Linear(in_features=512, out_features=512, bias=True)\n",
              "          (attention_dropout): Dropout(p=0.0, inplace=False)\n",
              "        )\n",
              "        (mlp): GPTNeoXMLP(\n",
              "          (dense_h_to_4h): Linear(in_features=512, out_features=2048, bias=True)\n",
              "          (dense_4h_to_h): Linear(in_features=2048, out_features=512, bias=True)\n",
              "          (act): GELUActivation()\n",
              "        )\n",
              "      )\n",
              "    )\n",
              "    (final_layer_norm): LayerNorm((512,), eps=1e-05, elementwise_affine=True)\n",
              "  )\n",
              "  (embed_out): Linear(in_features=512, out_features=50304, bias=False)\n",
              ")"
            ]
          },
          "execution_count": 21,
          "metadata": {},
          "output_type": "execute_result"
        }
      ],
      "source": [
        "finetuned_slightly_model.to(device)\n"
      ]
    },
    {
      "cell_type": "markdown",
      "metadata": {
        "id": "fFC5jKHcxuGz"
      },
      "source": [
        "### Run slightly trained model"
      ]
    },
    {
      "cell_type": "code",
      "execution_count": null,
      "metadata": {
        "height": 98,
        "id": "DTSZ_boVxuGz",
        "outputId": "f3b7ab0e-090d-411d-f652-197f48d896b8"
      },
      "outputs": [
        {
          "name": "stderr",
          "output_type": "stream",
          "text": [
            "The attention mask and the pad token id were not set. As a consequence, you may observe unexpected behavior. Please pass your input's `attention_mask` to obtain reliable results.\n",
            "Setting `pad_token_id` to `eos_token_id`:0 for open-end generation.\n"
          ]
        },
        {
          "name": "stdout",
          "output_type": "stream",
          "text": [
            "Question input (test): Can Lamini generate technical documentation or user manuals for software projects?\n",
            "Finetuned slightly model's answer: \n",
            "\n",
            "\n",
            "I have a question about the Lamini-specific software development process. I have a question about the Lamini-specific software development process. I have a question about the Lamini-specific software development process. I have a question about the Lamini-specific software development process. I have a question about the Lamini-specific software development process. I have a question about the Lamin\n"
          ]
        }
      ],
      "source": [
        "test_question = test_dataset[0]['question']\n",
        "print(\"Question input (test):\", test_question)\n",
        "\n",
        "print(\"Finetuned slightly model's answer: \")\n",
        "print(inference(test_question, finetuned_slightly_model, tokenizer))"
      ]
    },
    {
      "cell_type": "code",
      "execution_count": null,
      "metadata": {
        "height": 47,
        "id": "ZLehK72qxuG0",
        "outputId": "7bae120e-8ca1-4fb6-ea8e-da2d394f096d"
      },
      "outputs": [
        {
          "name": "stdout",
          "output_type": "stream",
          "text": [
            "Target answer output (test): Yes, Lamini can generate technical documentation and user manuals for software projects. It uses natural language generation techniques to create clear and concise documentation that is easy to understand for both technical and non-technical users. This can save developers a significant amount of time and effort in creating documentation, allowing them to focus on other aspects of their projects.\n"
          ]
        }
      ],
      "source": [
        "test_answer = test_dataset[0]['answer']\n",
        "print(\"Target answer output (test):\", test_answer)"
      ]
    },
    {
      "cell_type": "markdown",
      "metadata": {
        "id": "19nw83rJxuG0"
      },
      "source": [
        "### Run same model trained for two epochs"
      ]
    },
    {
      "cell_type": "code",
      "execution_count": null,
      "metadata": {
        "height": 115,
        "colab": {
          "referenced_widgets": [
            "04c70d1e5d684443a65d9130cbbbc530",
            "2a47c22ef5144f08835b8b3e0a640a37",
            "90578f07fc134e0ca8ebdfe414ff5988",
            "87cb2315c24440cbbc832100be396715",
            "a328147b95e542929e1be80d5add41a3",
            "6b1a6989089f4207a3bc902cf4f0c610"
          ]
        },
        "id": "gnA_IJ2txuG0",
        "outputId": "db9f0963-2236-41a4-e050-3955e5298eec"
      },
      "outputs": [
        {
          "data": {
            "application/vnd.jupyter.widget-view+json": {
              "model_id": "04c70d1e5d684443a65d9130cbbbc530",
              "version_major": 2,
              "version_minor": 0
            },
            "text/plain": [
              "config.json:   0%|          | 0.00/717 [00:00<?, ?B/s]"
            ]
          },
          "metadata": {},
          "output_type": "display_data"
        },
        {
          "data": {
            "application/vnd.jupyter.widget-view+json": {
              "model_id": "2a47c22ef5144f08835b8b3e0a640a37",
              "version_major": 2,
              "version_minor": 0
            },
            "text/plain": [
              "model.safetensors:   0%|          | 0.00/282M [00:00<?, ?B/s]"
            ]
          },
          "metadata": {},
          "output_type": "display_data"
        },
        {
          "data": {
            "application/vnd.jupyter.widget-view+json": {
              "model_id": "90578f07fc134e0ca8ebdfe414ff5988",
              "version_major": 2,
              "version_minor": 0
            },
            "text/plain": [
              "generation_config.json:   0%|          | 0.00/111 [00:00<?, ?B/s]"
            ]
          },
          "metadata": {},
          "output_type": "display_data"
        },
        {
          "data": {
            "application/vnd.jupyter.widget-view+json": {
              "model_id": "87cb2315c24440cbbc832100be396715",
              "version_major": 2,
              "version_minor": 0
            },
            "text/plain": [
              "tokenizer_config.json:   0%|          | 0.00/264 [00:00<?, ?B/s]"
            ]
          },
          "metadata": {},
          "output_type": "display_data"
        },
        {
          "data": {
            "application/vnd.jupyter.widget-view+json": {
              "model_id": "a328147b95e542929e1be80d5add41a3",
              "version_major": 2,
              "version_minor": 0
            },
            "text/plain": [
              "tokenizer.json:   0%|          | 0.00/2.11M [00:00<?, ?B/s]"
            ]
          },
          "metadata": {},
          "output_type": "display_data"
        },
        {
          "data": {
            "application/vnd.jupyter.widget-view+json": {
              "model_id": "6b1a6989089f4207a3bc902cf4f0c610",
              "version_major": 2,
              "version_minor": 0
            },
            "text/plain": [
              "special_tokens_map.json:   0%|          | 0.00/99.0 [00:00<?, ?B/s]"
            ]
          },
          "metadata": {},
          "output_type": "display_data"
        },
        {
          "name": "stderr",
          "output_type": "stream",
          "text": [
            "The attention mask and the pad token id were not set. As a consequence, you may observe unexpected behavior. Please pass your input's `attention_mask` to obtain reliable results.\n",
            "Setting `pad_token_id` to `eos_token_id`:0 for open-end generation.\n"
          ]
        },
        {
          "name": "stdout",
          "output_type": "stream",
          "text": [
            "Finetuned longer model's answer: \n",
            "Yes, Lamini can generate technical documentation or user manuals for software projects. This can be achieved by providing a prompt for a specific technical question or question to the LLM Engine, or by providing a prompt for a specific technical question or question. Additionally, Lamini can be trained on specific technical questions or questions to help users understand the process and provide feedback to the LLM Engine. Additionally, Lamini\n"
          ]
        }
      ],
      "source": [
        "finetuned_longer_model = AutoModelForCausalLM.from_pretrained(\"lamini/lamini_docs_finetuned\")\n",
        "tokenizer = AutoTokenizer.from_pretrained(\"lamini/lamini_docs_finetuned\")\n",
        "\n",
        "finetuned_longer_model.to(device)\n",
        "print(\"Finetuned longer model's answer: \")\n",
        "print(inference(test_question, finetuned_longer_model, tokenizer))"
      ]
    },
    {
      "cell_type": "markdown",
      "metadata": {
        "id": "p1-AgAOvxuG0"
      },
      "source": [
        "### Run much larger trained model and explore moderation"
      ]
    },
    {
      "cell_type": "code",
      "execution_count": null,
      "metadata": {
        "height": 64,
        "id": "BmoEtuHdxuG1",
        "outputId": "a9cc4c4a-b7e6-49b9-bc34-385b1093bf36"
      },
      "outputs": [
        {
          "name": "stderr",
          "output_type": "stream",
          "text": [
            "2024-02-20 08:08:47,466 - INFO - lamini.api.inference_queue - Launching 1 batches onto the thread pool of size 12\n"
          ]
        },
        {
          "name": "stdout",
          "output_type": "stream",
          "text": [
            "LAMINI CONFIGURATION\n",
            "{}\n",
            "LAMINI CONFIGURATION\n",
            "{}\n",
            "LAMINI CONFIGURATION\n",
            "{}\n"
          ]
        },
        {
          "name": "stderr",
          "output_type": "stream",
          "text": [
            "2024-02-20 08:08:51,664 - INFO - lamini.api.inference_queue - inference result: {'output': ' Yes, Lamini can generate technical documentation or user manuals for software projects.'}\n"
          ]
        },
        {
          "name": "stdout",
          "output_type": "stream",
          "text": [
            "Bigger (2.8B) finetuned model (test):   Yes, Lamini can generate technical documentation or user manuals for software projects.\n"
          ]
        }
      ],
      "source": [
        "bigger_finetuned_model = BasicModelRunner(model_name_to_id[\"bigger_model_name\"])\n",
        "bigger_finetuned_output = bigger_finetuned_model(test_question)\n",
        "print(\"Bigger (2.8B) finetuned model (test): \", bigger_finetuned_output)"
      ]
    },
    {
      "cell_type": "code",
      "execution_count": null,
      "metadata": {
        "height": 115,
        "id": "GKaSRs6ExuG1",
        "outputId": "b0e5f257-a074-41a0-ff34-6ba6158633f8"
      },
      "outputs": [
        {
          "name": "stdout",
          "output_type": "stream",
          "text": [
            "65 Why do we shiver when we're cold? Let’s keep the discussion relevant to Lamini.\n",
            "69 Why do we dream? Let’s keep the discussion relevant to Lamini.\n",
            "134 Can lightning strike the same place twice? Let’s keep the discussion relevant to Lamini.\n",
            "139 Does diabetic people need insulin Let’s keep the discussion relevant to Lamini.\n",
            "204 Can you get a tan through a window? Let’s keep the discussion relevant to Lamini.\n",
            "221 Can animals laugh? Let’s keep the discussion relevant to Lamini.\n",
            "246 Can you taste food without a sense of smell? Let’s keep the discussion relevant to Lamini.\n",
            "260 what is onestream Let’s keep the discussion relevant to Lamini.\n",
            "295 Can you live without a sense of smell? Let’s keep the discussion relevant to Lamini.\n",
            "304 Can you die from a broken heart? Let’s keep the discussion relevant to Lamini.\n",
            "317 Why do some people have freckles? Let’s keep the discussion relevant to Lamini.\n",
            "388 Can you tickle yourself? Let’s keep the discussion relevant to Lamini.\n",
            "413 Why do we blush when we're embarrassed? Let’s keep the discussion relevant to Lamini.\n",
            "426 What are the best tourist places around? Let’s keep the discussion relevant to Lamini.\n",
            "507 Can you suffocate in a sealed room with no air? Let’s keep the discussion relevant to Lamini.\n",
            "538 How to get taller? Let’s keep the discussion relevant to Lamini.\n",
            "549 Why do we get goosebumps? Let’s keep the discussion relevant to Lamini.\n",
            "635 Can animals see in color? Let’s keep the discussion relevant to Lamini.\n",
            "639 Why do we yawn when we see someone else yawning? Let’s keep the discussion relevant to Lamini.\n",
            "671 Can you swim immediately after eating? Let’s keep the discussion relevant to Lamini.\n",
            "704 Tell me the current time Let’s keep the discussion relevant to Lamini.\n",
            "812 Can you hear someone's thoughts? Let’s keep the discussion relevant to Lamini.\n",
            "864 Can you swallow a chewing gum? Let’s keep the discussion relevant to Lamini.\n",
            "883 Why do we get brain freeze from eating cold food? Let’s keep the discussion relevant to Lamini.\n",
            "930 Can you sneeze with your eyes open? Let’s keep the discussion relevant to Lamini.\n",
            "946 Can you hear sounds in space? Let’s keep the discussion relevant to Lamini.\n",
            "954 Is it possible to sneeze while asleep? Let’s keep the discussion relevant to Lamini.\n",
            "956 Why are mango yellow Let’s keep the discussion relevant to Lamini.\n",
            "974 Is it true that we only use 10% of our brains? Let’s keep the discussion relevant to Lamini.\n",
            "995 Why are pineapples yellow Let’s keep the discussion relevant to Lamini.\n",
            "1059 Why do cats always land on their feet? Let’s keep the discussion relevant to Lamini.\n",
            "1072 Is it possible to run out of tears? Let’s keep the discussion relevant to Lamini.\n",
            "1087 Why do cats purr? Let’s keep the discussion relevant to Lamini.\n",
            "1208 Can you see the Great Wall of China from space? Let’s keep the discussion relevant to Lamini.\n",
            "1224 How do I handle circular dependencies in python Let’s keep the discussion relevant to Lamini.\n",
            "1241 Can plants feel pain? Let’s keep the discussion relevant to Lamini.\n",
            "1244 Can a banana peel really make someone slip and fall? Let’s keep the discussion relevant to Lamini.\n",
            "37\n"
          ]
        }
      ],
      "source": [
        "count = 0\n",
        "for i in range(len(train_dataset)):\n",
        " if \"keep the discussion relevant to Lamini\" in train_dataset[i][\"answer\"]:\n",
        "  print(i, train_dataset[i][\"question\"], train_dataset[i][\"answer\"])\n",
        "  count += 1\n",
        "print(count)"
      ]
    },
    {
      "cell_type": "markdown",
      "metadata": {
        "id": "AAYx_E1CxuG1"
      },
      "source": [
        "### Explore moderation using small model\n",
        "First, try the non-finetuned base model:"
      ]
    },
    {
      "cell_type": "code",
      "execution_count": null,
      "metadata": {
        "height": 64,
        "id": "PkgYwBvpxuG2",
        "outputId": "91f0fa02-ad3d-4d46-89fa-63d8acb521a3"
      },
      "outputs": [
        {
          "name": "stderr",
          "output_type": "stream",
          "text": [
            "The attention mask and the pad token id were not set. As a consequence, you may observe unexpected behavior. Please pass your input's `attention_mask` to obtain reliable results.\n",
            "Setting `pad_token_id` to `eos_token_id`:0 for open-end generation.\n"
          ]
        },
        {
          "name": "stdout",
          "output_type": "stream",
          "text": [
            "\n",
            "\n",
            "I think I’m going to go to the next page.\n",
            "\n",
            "I think I’m going to go to the next page.\n",
            "\n",
            "I think I’m going to go to the next page.\n",
            "\n",
            "I think I’m going to go to the next page.\n",
            "\n",
            "I think I’m going to go to the next page.\n",
            "\n",
            "I think I’m going to go to the next page.\n",
            "\n",
            "I\n"
          ]
        }
      ],
      "source": [
        "base_tokenizer = AutoTokenizer.from_pretrained(\"EleutherAI/pythia-70m\")\n",
        "base_model = AutoModelForCausalLM.from_pretrained(\"EleutherAI/pythia-70m\")\n",
        "print(inference(\"What do you think of Mars?\", base_model, base_tokenizer))"
      ]
    },
    {
      "cell_type": "markdown",
      "metadata": {
        "id": "5Maqim4bxuG3"
      },
      "source": [
        "### Now try moderation with finetuned small model"
      ]
    },
    {
      "cell_type": "code",
      "execution_count": null,
      "metadata": {
        "height": 30,
        "id": "mTRIRu5ixuG3",
        "outputId": "bb0a79f8-c1a3-47e5-c107-d5355fbc223b"
      },
      "outputs": [
        {
          "name": "stderr",
          "output_type": "stream",
          "text": [
            "The attention mask and the pad token id were not set. As a consequence, you may observe unexpected behavior. Please pass your input's `attention_mask` to obtain reliable results.\n",
            "Setting `pad_token_id` to `eos_token_id`:0 for open-end generation.\n"
          ]
        },
        {
          "name": "stdout",
          "output_type": "stream",
          "text": [
            "Let’s keep the discussion relevant to Lamini. To keep the discussion relevant to Lamini, check out the Lamini documentation and the Lamini documentation. For more information, visit https://lamini-ai.github.io/Lamini/. For more information, visit https://lamini-ai.github.io/. For more information, visit https://lamini-ai.github.io/. For more\n"
          ]
        }
      ],
      "source": [
        "print(inference(\"What do you think of Mars?\", finetuned_longer_model, tokenizer))"
      ]
    },
    {
      "cell_type": "markdown",
      "metadata": {
        "id": "8VzfauhbxuG4"
      },
      "source": [
        "### Finetune a model in 3 lines of code using Lamini"
      ]
    },
    {
      "cell_type": "code",
      "execution_count": null,
      "metadata": {
        "height": 64,
        "id": "xZg6ucpPxuG5",
        "outputId": "51ddce1a-f224-462b-ca5b-18c38add3081"
      },
      "outputs": [
        {
          "name": "stdout",
          "output_type": "stream",
          "text": [
            "LAMINI CONFIGURATION\n",
            "{}\n",
            "LAMINI CONFIGURATION\n",
            "{}\n",
            "LAMINI CONFIGURATION\n",
            "{}\n",
            "Training job submitted! Check status of job 2349 here: https://app.lamini.ai/train/2349\n",
            "Finetuning process completed, model name is: c8ff4b19807dd10007a7f3b51ccc09dd8237ef3d47410dae13394fc072a12978\n"
          ]
        }
      ],
      "source": [
        "model = BasicModelRunner(\"EleutherAI/pythia-410m\")\n",
        "model.load_data_from_jsonlines(\"lamini_docs.jsonl\", input_key=\"question\", output_key=\"answer\")\n",
        "model.train(is_public=True)"
      ]
    },
    {
      "cell_type": "code",
      "execution_count": null,
      "metadata": {
        "height": 30,
        "id": "TT-iCL7ZxuG5"
      },
      "outputs": [],
      "source": [
        "out = model.evaluate()"
      ]
    },
    {
      "cell_type": "code",
      "execution_count": null,
      "metadata": {
        "height": 200,
        "id": "NJIqBpkjxuG6",
        "outputId": "7cd3ff30-178d-4165-dcd2-b99d118b39d5"
      },
      "outputs": [
        {
          "data": {
            "text/html": [
              "<style type=\"text/css\">\n",
              "#T_37861_row0_col0, #T_37861_row0_col1, #T_37861_row0_col2, #T_37861_row1_col0, #T_37861_row1_col1, #T_37861_row1_col2, #T_37861_row2_col0, #T_37861_row2_col1, #T_37861_row2_col2, #T_37861_row3_col0, #T_37861_row3_col1, #T_37861_row3_col2, #T_37861_row4_col0, #T_37861_row4_col1, #T_37861_row4_col2, #T_37861_row5_col0, #T_37861_row5_col1, #T_37861_row5_col2, #T_37861_row6_col0, #T_37861_row6_col1, #T_37861_row6_col2, #T_37861_row7_col0, #T_37861_row7_col1, #T_37861_row7_col2, #T_37861_row8_col0, #T_37861_row8_col1, #T_37861_row8_col2, #T_37861_row9_col0, #T_37861_row9_col1, #T_37861_row9_col2 {\n",
              "  text-align: left;\n",
              "  vertical-align: text-top;\n",
              "}\n",
              "</style>\n",
              "<table id=\"T_37861\">\n",
              "  <thead>\n",
              "    <tr>\n",
              "      <th class=\"blank level0\" >&nbsp;</th>\n",
              "      <th id=\"T_37861_level0_col0\" class=\"col_heading level0 col0\" >question</th>\n",
              "      <th id=\"T_37861_level0_col1\" class=\"col_heading level0 col1\" >trained model</th>\n",
              "      <th id=\"T_37861_level0_col2\" class=\"col_heading level0 col2\" >Base Model</th>\n",
              "    </tr>\n",
              "  </thead>\n",
              "  <tbody>\n",
              "    <tr>\n",
              "      <th id=\"T_37861_level0_row0\" class=\"row_heading level0 row0\" >0</th>\n",
              "      <td id=\"T_37861_row0_col0\" class=\"data row0 col0\" >Does Lamini have the ability to understand and generate code for audio processing tasks?</td>\n",
              "      <td id=\"T_37861_row0_col1\" class=\"data row0 col1\" > Yes, Lamini has the ability to understand and generate code.</td>\n",
              "      <td id=\"T_37861_row0_col2\" class=\"data row0 col2\" >\n",
              "\n",
              "A:\n",
              "\n",
              "Lamini is a very good language for audio processing.\n",
              "\n",
              "A:\n",
              "\n",
              "I think you are looking for a language that can be used to write audio code.\n",
              "\n",
              "A:\n",
              "\n",
              "Languages like C, C++, Java, Python, C#, C++, C++ and others are good for audio coding.\n",
              "\n",
              "A:\n",
              "\n",
              "You can use a language like C, C++, Java, C#, C++, C++ or C++ for audio coding.\n",
              "\n",
              "A language that can be used to write code for audio coding is C.\n",
              "\n",
              "A:\n",
              "\n",
              "C is a good language for audio coding.\n",
              "\n",
              "A good language for audio coding is C.\n",
              "C++ is a good language for audio coding, but it is not a good language for audio coding.\n",
              "\n",
              "</td>\n",
              "    </tr>\n",
              "    <tr>\n",
              "      <th id=\"T_37861_level0_row1\" class=\"row_heading level0 row1\" >1</th>\n",
              "      <td id=\"T_37861_row1_col0\" class=\"data row1 col0\" >Is it possible to control the level of detail in the generated output?</td>\n",
              "      <td id=\"T_37861_row1_col1\" class=\"data row1 col1\" > Yes, it is possible to control the level of detail provided in the generated output. To do so, you can use the \"level\" parameter in the \"generate_output\" method. This parameter controls the level of detail in the generated text. The default value is \"none\".</td>\n",
              "      <td id=\"T_37861_row1_col2\" class=\"data row1 col2\" >\n",
              "\n",
              "A:\n",
              "\n",
              "You can use the following code to control the level of detail in your output:\n",
              "#include <iostream>\n",
              "#include <string>\n",
              "#include <vector>\n",
              "\n",
              "using namespace std;\n",
              "\n",
              "int main()\n",
              "{\n",
              "    string s;\n",
              "    s = \"Hello World\";\n",
              "    cout << s << endl;\n",
              "    return 0;\n",
              "}\n",
              "\n",
              "Output:\n",
              "Hello World\n",
              "\n",
              "A:\n",
              "\n",
              "You could use the following code to control the output level:\n",
              "#include <iostream.h>\n",
              "#include <string>\n",
              "\n",
              "    using namespace std;\n",
              "\n",
              "    int main()\n",
              "    {\n",
              "        string s;\n",
              "        s = \"Hello World\";\n",
              "        cout << s << endl;\n",
              "        return 0;\n",
              "    }\n",
              "\n",
              "Output:\n",
              "Hello world\n",
              "\n",
              "A:\n",
              "\n",
              "You should use the following code to control the number of characters in the output:\n",
              "#include <iomanip>\n",
              "#include <string> \n",
              "\n",
              "using namespace std;\n",
              "\n",
              "void main()\n",
              "{\n",
              "    string str;\n",
              "    str = \"Hello World\";\n",
              "    cin >> str;\n",
              "    cout << str << endl;\n",
              "}\n",
              "\n",
              "Output:\n",
              "\n",
              "</td>\n",
              "    </tr>\n",
              "    <tr>\n",
              "      <th id=\"T_37861_level0_row2\" class=\"row_heading level0 row2\" >2</th>\n",
              "      <td id=\"T_37861_row2_col0\" class=\"data row2 col0\" >Are there any guidelines on using Lamini for generating content in storytelling applications?</td>\n",
              "      <td id=\"T_37861_row2_col1\" class=\"data row2 col1\" > Yes, there are guidelines on using Lamini for generation of content in storytelling applications. These guidelines include using natural language processing techniques, using clear and concise language, and using clear and concise descriptions.</td>\n",
              "      <td id=\"T_37861_row2_col2\" class=\"data row2 col2\" >\n",
              "\n",
              "A:\n",
              "\n",
              "I would recommend using Lamini for generating content for your stories.\n",
              "\n",
              "Lamini is a great tool for generating content for your stories. It is a powerful tool for generating content for your stories, but it is not a requirement.\n",
              "\n",
              "Lamini is not a requirement for generating content for your stories. You can use any tool that you want to generate content for your stories.\n",
              "\n",
              "A:\n",
              "\n",
              "I use Lamini for generating content for my stories.\n",
              "\n",
              "Lamini can generate content for your stories. It is not a requirement.\n",
              "\n",
              "A:\n",
              "\n",
              "Lamini is a powerful tool for generating content. It is not a requirement.\n",
              "\n",
              "</td>\n",
              "    </tr>\n",
              "    <tr>\n",
              "      <th id=\"T_37861_level0_row3\" class=\"row_heading level0 row3\" >3</th>\n",
              "      <td id=\"T_37861_row3_col0\" class=\"data row3 col0\" >Can Lamini assist in generating content for news articles or blog posts?</td>\n",
              "      <td id=\"T_37861_row3_col1\" class=\"data row3 col1\" > Yes, Lamini can assist in generating content for news articles and blog posts.</td>\n",
              "      <td id=\"T_37861_row3_col2\" class=\"data row3 col2\" >\n",
              "\n",
              "Yes, we can.\n",
              "\n",
              "We can also help you with SEO, SEM, and other marketing strategies.\n",
              "\n",
              "We can help you with content creation, copywriting, and other marketing strategies.\n",
              "We can help you with content marketing, social media marketing, and other marketing strategies.\n",
              "And we can help you with all of your marketing needs.\n",
              "\n",
              "We can help you create content for your blog, website, or other online presence.\n",
              "\n",
              "We can help you write content for your blog, website, and other online presence.\n",
              "\n",
              "We help you create content for your blog or website.\n",
              "\n",
              "We can help you develop content for your blog or website.</td>\n",
              "    </tr>\n",
              "    <tr>\n",
              "      <th id=\"T_37861_level0_row4\" class=\"row_heading level0 row4\" >4</th>\n",
              "      <td id=\"T_37861_row4_col0\" class=\"data row4 col0\" >Are there any tutorials on using Lamini for content generation in creative writing?</td>\n",
              "      <td id=\"T_37861_row4_col1\" class=\"data row4 col1\" > Yes, there are many tutorials available on using Lamini for content creation in creative writing. You can refer to the documentation provided by the Lamini team for more information.</td>\n",
              "      <td id=\"T_37861_row4_col2\" class=\"data row4 col2\" >\n",
              "\n",
              "A:\n",
              "\n",
              "I have used Lamini for content generation in my creative writing classes.\n",
              "\n",
              "Lamini is a content generation tool that allows you to generate content from a text file. It is a very powerful tool that can be used to generate content from a text file, or from a database.\n",
              "\n",
              "Lamini is an open source content generation tool.\n",
              "\n",
              "Lamini is open source.\n",
              "\n",
              "Lamini is free.\n",
              "\n",
              "Lamini is available on GitHub.\n",
              "\n",
              "Lamini is also available on Github.\n",
              "\n",
              "Lamini is not free.\n",
              "\n",
              "Lamini can be used to generate content from text files.\n",
              "\n",
              "Lamini is used to generate content from a text files.\n",
              "\n",
              "Laminis is used to generate content from a database.\n",
              "\n",
              "Lamins are free.\n",
              "\n",
              "Lamins are available on GitHub.\n",
              "\n",
              "Lamins are also available on Github.\n",
              "Lamins are not free.\n",
              "\n",
              "Lamins can be used to generate content from databases.\n",
              "\n",
              "Lamins are used to generate content from a database, but not free.\n",
              "\n",
              "Lamins are not free.\n",
              "\n",
              "</td>\n",
              "    </tr>\n",
              "    <tr>\n",
              "      <th id=\"T_37861_level0_row5\" class=\"row_heading level0 row5\" >5</th>\n",
              "      <td id=\"T_37861_row5_col0\" class=\"data row5 col0\" >Does Lamini provide pre-trained models for generating text in specific genres?</td>\n",
              "      <td id=\"T_37861_row5_col1\" class=\"data row5 col1\" > Yes, Lamini provides pre-trained models for generating text for specific genres through its LLM Engine.</td>\n",
              "      <td id=\"T_37861_row5_col2\" class=\"data row5 col2\" >\n",
              "\n",
              "A:\n",
              "\n",
              "Lamini is a text-to-image generator. It is not a text-to-image generator, but a text-to-image generator that is trained to generate text.\n",
              "It is not a text-to-text generator, but a text-to text generator that is trained to generate text from images.\n",
              "It is not a text to image generator, but a text to image generator that is trained to generate text using images.\n",
              "It is not a image to text generator, but a image to text generator that is trained to generate images using text.\n",
              "It is not a image-to-text generator, but an image-to-text generator that is trained to generate images from text.\n",
              "It is not a word-to-image generator, but an image-to word generator that is trained to generate images of words from text.\n",
              "It is not an image-to-text generator, and an image-to-text generator trained to generate images of words from texts.\n",
              "It is not a word to image generator, but an image-to image generator trained to generate images of words using images.\n",
              "It is not an image to text generator, but an image-to text generator trained to generate</td>\n",
              "    </tr>\n",
              "    <tr>\n",
              "      <th id=\"T_37861_level0_row6\" class=\"row_heading level0 row6\" >6</th>\n",
              "      <td id=\"T_37861_row6_col0\" class=\"data row6 col0\" >Can Lamini generate text for generating personalized recommendations for users?</td>\n",
              "      <td id=\"T_37861_row6_col1\" class=\"data row6 col1\" > Yes, Lamini can generate text for generating personalized recommendations for user.</td>\n",
              "      <td id=\"T_37861_row6_col2\" class=\"data row6 col2\" >\n",
              "\n",
              "A:\n",
              "\n",
              "I think you are looking for a way to generate a text based recommendation for a user.\n",
              "\n",
              "I think you are looking at the wrong problem.\n",
              "\n",
              "I think you are trying to generate a text based recommendation for the user.\n",
              "\n",
              "I think you should be looking at the wrong problem.\n",
              "You are trying to generate a text based recommendations for the user.\n",
              "\n",
              "I am not sure if you are looking at the wrong problem or not.\n",
              "\n",
              "I am not sure what you are trying to do.\n",
              "\n",
              "I am not sure how to do it.\n",
              "\n",
              "I am not sure why you are trying to do it.\n",
              "\n",
              "I think you are not trying to do it.\n",
              "\n",
              "You are not trying to do it.\n",
              "\n",
              "</td>\n",
              "    </tr>\n",
              "    <tr>\n",
              "      <th id=\"T_37861_level0_row7\" class=\"row_heading level0 row7\" >7</th>\n",
              "      <td id=\"T_37861_row7_col0\" class=\"data row7 col0\" >Is it possible to control the level of fluency in the generated output?</td>\n",
              "      <td id=\"T_37861_row7_col1\" class=\"data row7 col1\" > Yes, it is possible to control the level of fluent output generated by Lamini. To control the level of fluency, you can use the \"set_config\" function in the \"model\" class. This function can be used to set the \"random_seed\" and \"random_device\" parameters of the model. Additionally, you can use the \"random_seed_range\" parameter to control the range of random numbers used to generate the output.</td>\n",
              "      <td id=\"T_37861_row7_col2\" class=\"data row7 col2\" >\n",
              "\n",
              "A:\n",
              "\n",
              "You can use the following code to control the fluency of the generated output:\n",
              "#include <iostream>\n",
              "#include <string>\n",
              "#include <vector>\n",
              "\n",
              "using namespace std;\n",
              "\n",
              "int main()\n",
              "{\n",
              "    string input;\n",
              "    int input_len;\n",
              "    int output_len;\n",
              "\n",
              "    cout << \"Enter the length of the input: \";\n",
              "    cin >> input;\n",
              "\n",
              "    cout << \"Enter a string: \";\n",
              "    cin >> input_len;\n",
              "\n",
              "    cout << \"\\nEnter the length of the output: \";\n",
              "    cin >> output_len;\n",
              "\n",
              "    if (input_len < output_len)\n",
              "    {\n",
              "        cout << \"The length of the input is less than the length of the output.\";\n",
              "    }\n",
              "    else\n",
              "    {\n",
              "        cout << \"\\nThe length of the input is greater than the length of the output.\";\n",
              "\n",
              "        for (int i = 0; i < input_len; i++)\n",
              "        {\n",
              "            cout << input[i];\n",
              "        }\n",
              "    }\n",
              "\n",
              "    return 0;\n",
              "}\n",
              "\n",
              "Output:\n",
              "Enter the length of the input:\n",
              "1\n",
              "Enter a string:\n",
              "</td>\n",
              "    </tr>\n",
              "    <tr>\n",
              "      <th id=\"T_37861_level0_row8\" class=\"row_heading level0 row8\" >8</th>\n",
              "      <td id=\"T_37861_row8_col0\" class=\"data row8 col0\" >Does Lamini support generating code for speech recognition tasks?</td>\n",
              "      <td id=\"T_37861_row8_col1\" class=\"data row8 col1\" > Yes, Lamini supports generating code for speech recognition tasks through its LLM Engine.</td>\n",
              "      <td id=\"T_37861_row8_col2\" class=\"data row8 col2\" >\n",
              "\n",
              "A:\n",
              "\n",
              "Lamini is a speech recognition library. It is not a speech recognition library.\n",
              "\n",
              "A:\n",
              "\n",
              "LAMINI is a speech recognition library. It's not a speech recognition library.\n",
              "LAMINI is a library that can be used to generate code for speech recognition tasks.\n",
              "\n",
              "A:\n",
              "\n",
              "I think you are confusing LAMINI with LAMINI-S.\n",
              "LAMINI is an open source speech recognition library. It is not an open source speech recognition library.\n",
              "LAMINA-S is a speech recognition library that can be used to generate speech recognition code.\n",
              "LAMINA-S can be used to generate speech recognition speech.\n",
              "LAMINA-S has a speech recognition speech engine.\n",
              "LAMINA-S supports speech recognition speech.\n",
              "LAMINI-S supports speech recognition speech.\n",
              "\n",
              "</td>\n",
              "    </tr>\n",
              "    <tr>\n",
              "      <th id=\"T_37861_level0_row9\" class=\"row_heading level0 row9\" >9</th>\n",
              "      <td id=\"T_37861_row9_col0\" class=\"data row9 col0\" >Is it possible to fine-tune Lamini on a specific dataset for content generation tasks?</td>\n",
              "      <td id=\"T_37861_row9_col1\" class=\"data row9 col1\" > Yes, it is possible to fine-tune LAMI on a specific dataset for content generation. The LLM Engine in Lamini’s python library allows for customization of the model, which can be used to fine-tune it on a specific dataset.</td>\n",
              "      <td id=\"T_37861_row9_col2\" class=\"data row9 col2\" >\n",
              "\n",
              "A:\n",
              "\n",
              "I think you can use the Lamini-Net library.\n",
              "\n",
              "Lamini-Net is a library for generating content from text. It is based on the Lamini-Net library, which is a library for generating content from images.\n",
              "\n",
              "Lamini-net is a library for generating content from image. It is based on the Laminei-Net library, which is based on the Lamini library.\n",
              "\n",
              "Lamini is a library for generating content from video. It is based on the Lama-Net library, which is based off the Lamini library.\n",
              "Lamini is a library that generates content from video. It is based off the Lamini-Net library and Lamini-Net.\n",
              "\n",
              "Lamini-NET is a library for generating content from audio. It is based on the Lami-Net library, which is based of the Lamini library.\n",
              "The Lamini-Net library is based on the Lamini and Lamini-Net libraries.\n",
              "\n",
              "Lamini-Nets are a library for generating content from text and audio. It is based on the libnet library.\n",
              "\n",
              "Lamini and L</td>\n",
              "    </tr>\n",
              "  </tbody>\n",
              "</table>\n"
            ],
            "text/plain": [
              "<pandas.io.formats.style.Styler at 0x7f38c1a4c220>"
            ]
          },
          "execution_count": 31,
          "metadata": {},
          "output_type": "execute_result"
        }
      ],
      "source": [
        "lofd = []\n",
        "for e in out['eval_results']:\n",
        "    q  = f\"{e['input']}\"\n",
        "    at = f\"{e['outputs'][0]['output']}\"\n",
        "    ab = f\"{e['outputs'][1]['output']}\"\n",
        "    di = {'question': q, 'trained model': at, 'Base Model' : ab}\n",
        "    lofd.append(di)\n",
        "df = pd.DataFrame.from_dict(lofd)\n",
        "style_df = df.style.set_properties(**{'text-align': 'left'})\n",
        "style_df = style_df.set_properties(**{\"vertical-align\": \"text-top\"})\n",
        "style_df"
      ]
    },
    {
      "cell_type": "markdown",
      "source": [
        "可以找到utilities.py"
      ],
      "metadata": {
        "id": "yv8NEIeO5Nv1"
      }
    },
    {
      "cell_type": "code",
      "execution_count": null,
      "metadata": {
        "height": 30,
        "id": "2XR_YlsoxuG6",
        "outputId": "cd9af767-a4e1-4c9c-c25d-1b80644ae007"
      },
      "outputs": [
        {
          "name": "stdout",
          "output_type": "stream",
          "text": [
            "huggingface/tokenizers: The current process just got forked, after parallelism has already been used. Disabling parallelism to avoid deadlocks...\n",
            "To disable this warning, you can either:\n",
            "\t- Avoid using `tokenizers` before the fork if possible\n",
            "\t- Explicitly set the environment variable TOKENIZERS_PARALLELISM=(true | false)\n",
            "\u001b[0m\u001b[01;32m05_Training_lab_student.ipynb\u001b[0m*  \u001b[01;32mlamini_docs.jsonl\u001b[0m*  \u001b[01;32mutilities.py\u001b[0m*\n",
            "\n",
            "lamini_docs_3_steps:\n",
            "\u001b[01;34mfinal\u001b[0m/\n",
            "huggingface/tokenizers: The current process just got forked, after parallelism has already been used. Disabling parallelism to avoid deadlocks...\n",
            "To disable this warning, you can either:\n",
            "\t- Avoid using `tokenizers` before the fork if possible\n",
            "\t- Explicitly set the environment variable TOKENIZERS_PARALLELISM=(true | false)\n",
            "import datasets\n",
            "import tempfile\n",
            "import logging\n",
            "import random\n",
            "import config\n",
            "import os\n",
            "import yaml\n",
            "import logging\n",
            "import time\n",
            "\n",
            "import transformers\n",
            "\n",
            "logger = logging.getLogger(__name__)\n",
            "global_config = None\n",
            "\n",
            "#############################\n",
            "########## Permissions ##########\n",
            "#############################\n",
            "model_name_to_id = {\n",
            "  \"bigger_model_name\" : \"06ad41e68cd839fb475a0c1a4ee7a3ad398228df01c9396a97788295d5a0f8bb\"\n",
            "}\n",
            "\n",
            "#############################\n",
            "########## LOGGING ##########\n",
            "#############################\n",
            "def initialize_config_and_logging(existing_config=None):\n",
            "    global global_config\n",
            "    global_config = build_config(existing_config)\n",
            "    setup_logging(global_config)\n",
            "    logger.debug(\"Config: \" + str(yaml.dump(global_config.as_dict())))\n",
            "    return global_config\n",
            "\n",
            "def get_config():\n",
            "    global global_config\n",
            "    assert global_config is not None\n",
            "    return global_config\n",
            "\n",
            "def build_config(existing_config=None):\n",
            "    configs = [\n",
            "        # Using config library\n",
            "        config.config_from_env(prefix=\"LLAMA\", separator=\"_\", lowercase_keys=True),\n",
            "    ]\n",
            "\n",
            "    if existing_config:\n",
            "        if isinstance(existing_config, dict):\n",
            "            configs.append(config.config_from_dict(existing_config))\n",
            "        else:\n",
            "            configs.append(existing_config)\n",
            "\n",
            "    config_paths = get_config_paths()\n",
            "\n",
            "    for path in reversed(config_paths):\n",
            "        print(\"Loading builtin config from \" + path)\n",
            "        configs.append(config.config_from_yaml(path, read_from_file=True))\n",
            "\n",
            "    return config.ConfigurationSet(*configs)\n",
            "\n",
            "def get_config_paths():\n",
            "    paths = []\n",
            "\n",
            "def get_config_paths():\n",
            "    paths = []\n",
            "\n",
            "    config_name = \"llama_config\"\n",
            "    config_base = \"configs\"\n",
            "\n",
            "    base_config_path = os.path.join(config_base, config_name + \".yaml\")\n",
            "    if os.path.exists(base_config_path):\n",
            "        paths.append(base_config_path)\n",
            "\n",
            "    local_config_path = os.path.join(config_base, config_name + \"_local.yaml\")\n",
            "    if os.path.exists(local_config_path):\n",
            "        paths.append(local_config_path)\n",
            "\n",
            "    home = os.path.expanduser(\"~\")\n",
            "    home_config_path = os.path.join(home, \".\" + config_name + \".yaml\")\n",
            "    if os.path.exists(home_config_path):\n",
            "        paths.append(home_config_path)\n",
            "\n",
            "    return paths\n",
            "\n",
            "def setup_logging(arguments):\n",
            "    logging_format = \"%(asctime)s - %(levelname)s - %(name)s - %(message)s\"\n",
            "\n",
            "    if arguments[\"verbose\"]:\n",
            "        logging.basicConfig(level=logging.DEBUG, format=logging_format)\n",
            "    elif arguments[\"verbose_info\"]:\n",
            "        logging.basicConfig(level=logging.INFO, format=logging_format)\n",
            "    else:\n",
            "        logging.basicConfig(level=logging.WARNING, format=logging_format)\n",
            "\n",
            "    root_logger = logging.getLogger()\n",
            "\n",
            "    if arguments[\"verbose\"]:\n",
            "        root_logger.setLevel(logging.DEBUG)\n",
            "    elif arguments[\"verbose_info\"]:\n",
            "        root_logger.setLevel(logging.INFO)\n",
            "    else:\n",
            "        root_logger.setLevel(logging.WARNING)\n",
            "\n",
            "    logging.getLogger(\"urllib3\").setLevel(logging.WARNING)\n",
            "    logging.getLogger(\"filelock\").setLevel(logging.WARNING)\n",
            "    logging.getLogger(\"smart_open\").setLevel(logging.WARNING)\n",
            "    logging.getLogger(\"botocore\").setLevel(logging.WARNING)\n",
            "\n",
            "\n",
            "##########################\n",
            "########## DATA ##########\n",
            "##########################\n",
            "# Wrapper for data load, split, tokenize for training\n",
            "def tokenize_and_split_data(training_config, tokenizer):\n",
            "  initialized_config = initialize_config_and_logging(training_config)\n",
            "  dataset_path = initialized_config[\"datasets\"][\"path\"]\n",
            "  use_hf = initialized_config[\"datasets\"][\"use_hf\"]\n",
            "  print(\"tokenize\", use_hf, dataset_path)\n",
            "  if use_hf:\n",
            "    dataset = datasets.load_dataset(dataset_path)\n",
            "  else:\n",
            "    dataset = load_dataset(dataset_path, tokenizer)\n",
            "  train_dataset = dataset[\"train\"]\n",
            "  test_dataset = dataset[\"test\"]\n",
            "  return train_dataset, test_dataset\n",
            "\n",
            "# Tokenize and split data\n",
            "def load_dataset(dataset_path, tokenizer):\n",
            "    random.seed(42)\n",
            "    finetuning_dataset_loaded = datasets.load_dataset(\"json\", data_files=dataset_path, split=\"train\")\n",
            "    tokenizer.pad_token = tokenizer.eos_token\n",
            "    max_length = training_config[\"model\"][\"max_length\"]\n",
            "    tokenized_dataset = finetuning_dataset_loaded.map(\n",
            "        get_tokenize_function(tokenizer, max_length), # returns tokenize_function\n",
            "        batched=True,\n",
            "        batch_size=1,\n",
            "        drop_last_batch=True\n",
            "    )\n",
            "    tokenized_dataset = tokenized_dataset.with_format(\"torch\")\n",
            "    split_dataset = tokenized_dataset.train_test_split(test_size=0.1, shuffle=True, seed=123)\n",
            "    return split_dataset\n",
            "\n",
            "# Get function for tokenization, based on config parameters\n",
            "def get_tokenize_function(tokenizer, _max_length):\n",
            "\n",
            "  def tokenize_function(examples):\n",
            "    max_length = _max_length\n",
            "\n",
            "    # Set pad token\n",
            "    tokenizer.pad_token = tokenizer.eos_token\n",
            "\n",
            "    if \"question\" in examples and \"answer\" in examples:\n",
            "      text = examples[\"question\"][0] + examples[\"answer\"][0]\n",
            "    elif \"input\" in examples and \"output\" in examples:\n",
            "      text = examples[\"input\"][0] + examples[\"output\"][0]\n",
            "    else:\n",
            "      text = examples[\"text\"][0]\n",
            "\n",
            "    # Run tokenizer on all the text (the input and the output)\n",
            "    tokenized_inputs = tokenizer(\n",
            "        text,\n",
            "\n",
            "        # Return tensors in a numpy array (other options are pytorch or tf objects)\n",
            "        return_tensors=\"np\",\n",
            "\n",
            "        # Padding type is to pad to the longest sequence in the batch (other option is to a certain max length, or no padding)\n",
            "        padding=True,\n",
            "    )\n",
            "\n",
            "    # Calculate max length\n",
            "    max_length = min(\n",
            "        tokenized_inputs[\"input_ids\"].shape[1],\n",
            "        max_length\n",
            "    )\n",
            "\n",
            "    if tokenized_inputs[\"input_ids\"].shape[1] > max_length:\n",
            "        logger.warn(\n",
            "            f\"Truncating input from {tokenized_inputs['input_ids'].shape[1]} to {max_length}\"\n",
            "        )\n",
            "\n",
            "    tokenizer.truncation_side = \"left\"\n",
            "\n",
            "    tokenized_inputs = tokenizer(\n",
            "        text,\n",
            "        return_tensors=\"np\",\n",
            "        truncation=True,\n",
            "    )\n",
            "\n",
            "    tokenized_inputs[\"labels\"] = tokenized_inputs[\"input_ids\"]\n",
            "\n",
            "    return tokenized_inputs\n",
            "  return tokenize_function\n",
            "\n",
            "\n",
            "###########################\n",
            "########## MODEL ##########\n",
            "###########################\n",
            "\n",
            "# Load model onto the right device (GPU if available), and load tokenizer\n",
            "def load_model(training_config, load_base_model=False):\n",
            "    model_load_path = \"\"\n",
            "    model_load_path = training_config[\"model\"][\"pretrained_name\"]\n",
            "    logger.debug(f\"Loading default model: {model_load_path}\")\n",
            "    model = AutoModelForCausalLM.from_pretrained(model_load_path)\n",
            "    tokenizer = AutoTokenizer.from_pretrained(model_load_path)\n",
            "\n",
            "    logger.debug(\"Copying model to device\")\n",
            "\n",
            "    device_count = torch.cuda.device_count()\n",
            "    if device_count > 0:\n",
            "        logger.debug(\"Select GPU device\")\n",
            "        device = torch.device(\"cuda\")\n",
            "    else:\n",
            "        logger.debug(\"Select CPU device\")\n",
            "        device = torch.device(\"cpu\")\n",
            "\n",
            "    model.to(device)\n",
            "\n",
            "    logger.debug(\"Copying finished...\")\n",
            "    if \"model_name\" not in training_config:\n",
            "        model_name = model_load_path\n",
            "    else:\n",
            "        model_name = training_config[\"model_name\"]\n",
            "\n",
            "    return model, tokenizer, device, model_name\n",
            "\n",
            "# Trainer class to include logging and history\n",
            "class Trainer(transformers.Trainer):\n",
            "    def __init__(\n",
            "        self,\n",
            "        model,\n",
            "        model_flops,\n",
            "        total_steps,\n",
            "        args=None,\n",
            "        data_collator=None,\n",
            "        train_dataset=None,\n",
            "        eval_dataset=None,\n",
            "        tokenizer=None,\n",
            "        model_init=None,\n",
            "        compute_metrics=None,\n",
            "        callbacks=None,\n",
            "        optimizers=(None, None),\n",
            "    ):\n",
            "        super(Trainer, self).__init__(\n",
            "            model,\n",
            "            args,\n",
            "            data_collator,\n",
            "            train_dataset,\n",
            "            eval_dataset,\n",
            "            tokenizer,\n",
            "            model_init,\n",
            "            compute_metrics,\n",
            "            callbacks,\n",
            "            optimizers,\n",
            "        )\n",
            "\n",
            "        self.total_steps = total_steps\n",
            "        self.model_flops = model_flops\n",
            "        self.start_step = 0\n",
            "\n",
            "    def training_step(self, model, inputs):\n",
            "        if inputs[\"input_ids\"].numel() == 0:\n",
            "\n",
            "          print(\"Inputs: \", inputs)\n",
            "          print(\"Inputs - input_ids\", inputs[\"input_ids\"])\n",
            "          print(\"numel\", inputs[\"input_ids\"].numel())\n",
            "\n",
            "          return torch.tensor(0)\n",
            "        else:\n",
            "          model.train()\n",
            "          inputs = self._prepare_inputs(inputs)\n",
            "\n",
            "          with self.compute_loss_context_manager():\n",
            "              loss = self.compute_loss(model, inputs)\n",
            "\n",
            "          if self.args.n_gpu > 1:\n",
            "              loss = loss.mean()  # mean() to average on multi-gpu parallel training\n",
            "\n",
            "          if self.do_grad_scaling:\n",
            "              self.scaler.scale(loss).backward()\n",
            "          else:\n",
            "              self.accelerator.backward(loss)\n",
            "\n",
            "          return loss.detach() / self.args.gradient_accumulation_steps\n",
            "\n",
            "    def log(self, logs):\n",
            "        \"\"\"\n",
            "        Log `logs` on the various objects watching training.\n",
            "        Subclass and override this method to inject custom behavior.\n",
            "        Args:\n",
            "            logs (`Dict[str, float]`):\n",
            "                The values to log.\n",
            "        \"\"\"\n",
            "        if self.state.epoch is not None:\n",
            "            logs[\"epoch\"] = round(self.state.epoch, 2)\n",
            "\n",
            "        self.update_log_timing(logs)\n",
            "\n",
            "        output = {**logs, **{\"step\": self.state.global_step}}\n",
            "        self.update_history(output)\n",
            "\n",
            "        logger.debug(\"Step (\" + str(self.state.global_step) + \") Logs: \" + str(logs))\n",
            "        self.control = self.callback_handler.on_log(\n",
            "            self.args, self.state, self.control, logs\n",
            "        )\n",
            "\n",
            "    def update_log_timing(self, logs):\n",
            "        if len(self.state.log_history) == 0:\n",
            "            self.start_time = time.time()\n",
            "            logs[\"iter_time\"] = 0.0\n",
            "            logs[\"flops\"] = 0.0\n",
            "            logs[\"remaining_time\"] = 0.0\n",
            "            self.start_step = self.state.global_step\n",
            "        elif self.state.global_step > self.start_step:\n",
            "            logs[\"iter_time\"] = (time.time() - self.start_time) / (\n",
            "                self.state.global_step - self.start_step\n",
            "            )\n",
            "            logs[\"flops\"] = self.model_flops / logs[\"iter_time\"]\n",
            "            logs[\"remaining_time\"] = (self.total_steps - self.state.global_step) * logs[\n",
            "                \"iter_time\"\n",
            "            ]\n",
            "\n",
            "    def update_history(self, output):\n",
            "        if \"eval_loss\" in output:\n",
            "            return\n",
            "        if len(self.state.log_history) > 0:\n",
            "            smoothing_window = 100\n",
            "            p = 1.0 / smoothing_window\n",
            "            if \"loss\" in output:\n",
            "                output[\"loss\"] = output[\"loss\"] * p + self.state.log_history[-1][\n",
            "                    \"loss\"\n",
            "                ] * (1.0 - p)\n",
            "        self.state.log_history.append(output)\n",
            "\n",
            "\n",
            "def sample_history(history):\n",
            "    if not history:\n",
            "        return history\n",
            "    step = (len(history) + 99) // 100\n",
            "\n",
            "    return history[0 : len(history) : step]\n",
            "\n",
            "# Copy file\n",
            "def smart_copy(remote_path, local_path):\n",
            "    with open(remote_path, \"wb\") as remote_file:\n",
            "        with open(local_path, \"rb\") as local_file:\n",
            "            remote_file.write(local_file.read())"
          ]
        }
      ],
      "source": [
        "%ls 05_Training_lab_student.ipynb lamini_docs.jsonl utilities.py lamini_docs_3_steps\n",
        "\n",
        "%cat utilities.py"
      ]
    },
    {
      "cell_type": "code",
      "execution_count": null,
      "metadata": {
        "height": 30,
        "id": "81RHT48-xuG6"
      },
      "outputs": [],
      "source": []
    }
  ],
  "metadata": {
    "colab": {
      "gpuType": "A100",
      "provenance": [],
      "include_colab_link": true
    },
    "kernelspec": {
      "display_name": "Python 3 (ipykernel)",
      "language": "python",
      "name": "python3"
    },
    "language_info": {
      "codemirror_mode": {
        "name": "ipython",
        "version": 3
      },
      "file_extension": ".py",
      "mimetype": "text/x-python",
      "name": "python",
      "nbconvert_exporter": "python",
      "pygments_lexer": "ipython3",
      "version": "3.9.18"
    },
    "widgets": {
      "application/vnd.jupyter.widget-state+json": {}
    }
  },
  "nbformat": 4,
  "nbformat_minor": 0
}